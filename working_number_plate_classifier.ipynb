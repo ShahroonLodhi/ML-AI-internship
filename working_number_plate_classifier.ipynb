{
 "cells": [
  {
   "cell_type": "code",
   "execution_count": 1,
   "id": "cb2e77b6-d97b-4a90-af82-3364cfb2ca77",
   "metadata": {},
   "outputs": [],
   "source": [
    "import torch\n",
    "import matplotlib.pyplot as plt\n",
    "import os\n",
    "from PIL import Image"
   ]
  },
  {
   "cell_type": "code",
   "execution_count": 1,
   "id": "5a02e490-f65f-4b78-98cb-cd0224c4993a",
   "metadata": {},
   "outputs": [
    {
     "name": "stdout",
     "output_type": "stream",
     "text": [
      "Downloading https://github.com/ultralytics/assets/releases/download/v8.3.0/yolov8n.pt to 'yolov8n.pt'...\n"
     ]
    },
    {
     "name": "stderr",
     "output_type": "stream",
     "text": [
      "100%|██████████| 6.25M/6.25M [00:01<00:00, 5.30MB/s]\n"
     ]
    }
   ],
   "source": [
    "from ultralytics import YOLO\n",
    "\n",
    "model = YOLO(\"yolov8n.pt\")\n"
   ]
  },
  {
   "cell_type": "code",
   "execution_count": 3,
   "id": "8afb1238",
   "metadata": {},
   "outputs": [],
   "source": [
    "import torch\n",
    "import gc\n",
    "\n",
    "torch.cuda.empty_cache()     # Clears unused memory from the GPU\n",
    "gc.collect()                 # Releases unreferenced memory from Python objects\n",
    "torch.cuda.ipc_collect()     # Releases inter-process cached memory (optional)\n"
   ]
  },
  {
   "cell_type": "code",
   "execution_count": 3,
   "id": "c6e10192-0c04-4e55-87b7-ea33f831bfa7",
   "metadata": {},
   "outputs": [
    {
     "name": "stdout",
     "output_type": "stream",
     "text": [
      "New https://pypi.org/project/ultralytics/8.3.167 available  Update with 'pip install -U ultralytics'\n",
      "Ultralytics 8.3.166  Python-3.13.5 torch-2.7.1+cu118 CUDA:0 (NVIDIA GeForce GTX 1650, 4096MiB)\n",
      "\u001b[34m\u001b[1mengine\\trainer: \u001b[0magnostic_nms=False, amp=True, augment=False, auto_augment=randaugment, batch=16, bgr=0.0, box=7.5, cache=False, cfg=None, classes=None, close_mosaic=10, cls=0.5, conf=None, copy_paste=0.1, copy_paste_mode=flip, cos_lr=False, cutmix=0.0, data=C:\\Users\\GenITeam\\Downloads\\vehicle\\DATA_subset.yaml, degrees=0.0, deterministic=True, device=None, dfl=1.5, dnn=False, dropout=0.0, dynamic=False, embed=None, epochs=20, erasing=0.4, exist_ok=False, fliplr=0.5, flipud=0.1, format=torchscript, fraction=1.0, freeze=None, half=False, hsv_h=0.015, hsv_s=0.7, hsv_v=0.4, imgsz=416, int8=False, iou=0.7, keras=False, kobj=1.0, line_width=None, lr0=0.01, lrf=0.01, mask_ratio=4, max_det=300, mixup=0.2, mode=train, model=yolov8n.pt, momentum=0.937, mosaic=1.0, multi_scale=False, name=train7, nbs=64, nms=False, opset=None, optimize=False, optimizer=auto, overlap_mask=True, patience=100, perspective=0.0, plots=True, pose=12.0, pretrained=True, profile=False, project=None, rect=False, resume=False, retina_masks=False, save=True, save_conf=False, save_crop=False, save_dir=runs\\detect\\train7, save_frames=False, save_json=False, save_period=-1, save_txt=False, scale=0.5, seed=0, shear=0.0, show=False, show_boxes=True, show_conf=True, show_labels=True, simplify=True, single_cls=False, source=None, split=val, stream_buffer=False, task=detect, time=None, tracker=botsort.yaml, translate=0.1, val=True, verbose=True, vid_stride=1, visualize=False, warmup_bias_lr=0.1, warmup_epochs=3.0, warmup_momentum=0.8, weight_decay=0.0005, workers=8, workspace=None\n",
      "\n",
      "                   from  n    params  module                                       arguments                     \n",
      "  0                  -1  1       464  ultralytics.nn.modules.conv.Conv             [3, 16, 3, 2]                 \n",
      "  1                  -1  1      4672  ultralytics.nn.modules.conv.Conv             [16, 32, 3, 2]                \n",
      "  2                  -1  1      7360  ultralytics.nn.modules.block.C2f             [32, 32, 1, True]             \n",
      "  3                  -1  1     18560  ultralytics.nn.modules.conv.Conv             [32, 64, 3, 2]                \n",
      "  4                  -1  2     49664  ultralytics.nn.modules.block.C2f             [64, 64, 2, True]             \n",
      "  5                  -1  1     73984  ultralytics.nn.modules.conv.Conv             [64, 128, 3, 2]               \n",
      "  6                  -1  2    197632  ultralytics.nn.modules.block.C2f             [128, 128, 2, True]           \n",
      "  7                  -1  1    295424  ultralytics.nn.modules.conv.Conv             [128, 256, 3, 2]              \n",
      "  8                  -1  1    460288  ultralytics.nn.modules.block.C2f             [256, 256, 1, True]           \n",
      "  9                  -1  1    164608  ultralytics.nn.modules.block.SPPF            [256, 256, 5]                 \n",
      " 10                  -1  1         0  torch.nn.modules.upsampling.Upsample         [None, 2, 'nearest']          \n",
      " 11             [-1, 6]  1         0  ultralytics.nn.modules.conv.Concat           [1]                           \n",
      " 12                  -1  1    148224  ultralytics.nn.modules.block.C2f             [384, 128, 1]                 \n",
      " 13                  -1  1         0  torch.nn.modules.upsampling.Upsample         [None, 2, 'nearest']          \n",
      " 14             [-1, 4]  1         0  ultralytics.nn.modules.conv.Concat           [1]                           \n",
      " 15                  -1  1     37248  ultralytics.nn.modules.block.C2f             [192, 64, 1]                  \n",
      " 16                  -1  1     36992  ultralytics.nn.modules.conv.Conv             [64, 64, 3, 2]                \n",
      " 17            [-1, 12]  1         0  ultralytics.nn.modules.conv.Concat           [1]                           \n",
      " 18                  -1  1    123648  ultralytics.nn.modules.block.C2f             [192, 128, 1]                 \n",
      " 19                  -1  1    147712  ultralytics.nn.modules.conv.Conv             [128, 128, 3, 2]              \n",
      " 20             [-1, 9]  1         0  ultralytics.nn.modules.conv.Concat           [1]                           \n",
      " 21                  -1  1    493056  ultralytics.nn.modules.block.C2f             [384, 256, 1]                 \n",
      " 22        [15, 18, 21]  1    751507  ultralytics.nn.modules.head.Detect           [1, [64, 128, 256]]           \n",
      "Model summary: 129 layers, 3,011,043 parameters, 3,011,027 gradients, 8.2 GFLOPs\n",
      "\n",
      "Transferred 355/355 items from pretrained weights\n",
      "Freezing layer 'model.22.dfl.conv.weight'\n",
      "WARNING \u001b[34m\u001b[1mAMP: \u001b[0mchecks failed . AMP training on NVIDIA GeForce GTX 1650 GPU may cause NaN losses or zero-mAP results, so AMP will be disabled during training.\n",
      "\u001b[34m\u001b[1mtrain: \u001b[0mFast image access  (ping: 0.00.0 ms, read: 559.1240.2 MB/s, size: 43.3 KB)\n"
     ]
    },
    {
     "name": "stderr",
     "output_type": "stream",
     "text": [
      "\u001b[34m\u001b[1mtrain: \u001b[0mScanning C:\\Users\\GenITeam\\Downloads\\vehicle\\train\\labels.cache... 5000 images, 2 backgrounds, 0 corrupt: 100%|██████████| 5000/5000 [00:00<?, ?it/s]"
     ]
    },
    {
     "name": "stdout",
     "output_type": "stream",
     "text": [
      "\u001b[34m\u001b[1malbumentations: \u001b[0mBlur(p=0.01, blur_limit=(3, 7)), MedianBlur(p=0.01, blur_limit=(3, 7)), ToGray(p=0.01, method='weighted_average', num_output_channels=3), CLAHE(p=0.01, clip_limit=(1.0, 4.0), tile_grid_size=(8, 8))\n"
     ]
    },
    {
     "name": "stderr",
     "output_type": "stream",
     "text": [
      "\n"
     ]
    },
    {
     "name": "stdout",
     "output_type": "stream",
     "text": [
      "\u001b[34m\u001b[1mval: \u001b[0mFast image access  (ping: 0.20.1 ms, read: 28.93.5 MB/s, size: 17.8 KB)\n"
     ]
    },
    {
     "name": "stderr",
     "output_type": "stream",
     "text": [
      "\u001b[34m\u001b[1mval: \u001b[0mScanning C:\\Users\\GenITeam\\Downloads\\vehicle\\valid\\labels.cache... 1765 images, 0 backgrounds, 0 corrupt: 100%|██████████| 1765/1765 [00:00<?, ?it/s]\n"
     ]
    },
    {
     "name": "stdout",
     "output_type": "stream",
     "text": [
      "Plotting labels to runs\\detect\\train7\\labels.jpg... \n",
      "\u001b[34m\u001b[1moptimizer:\u001b[0m 'optimizer=auto' found, ignoring 'lr0=0.01' and 'momentum=0.937' and determining best 'optimizer', 'lr0' and 'momentum' automatically... \n",
      "\u001b[34m\u001b[1moptimizer:\u001b[0m AdamW(lr=0.002, momentum=0.9) with parameter groups 57 weight(decay=0.0), 64 weight(decay=0.0005), 63 bias(decay=0.0)\n",
      "Image sizes 416 train, 416 val\n",
      "Using 8 dataloader workers\n",
      "Logging results to \u001b[1mruns\\detect\\train7\u001b[0m\n",
      "Starting training for 20 epochs...\n",
      "\n",
      "      Epoch    GPU_mem   box_loss   cls_loss   dfl_loss  Instances       Size\n"
     ]
    },
    {
     "name": "stderr",
     "output_type": "stream",
     "text": [
      "       1/20      1.65G      1.382      1.236      1.162         13        416: 100%|██████████| 313/313 [01:02<00:00,  4.99it/s]\n",
      "                 Class     Images  Instances      Box(P          R      mAP50  mAP50-95): 100%|██████████| 56/56 [00:13<00:00,  4.16it/s]\n"
     ]
    },
    {
     "name": "stdout",
     "output_type": "stream",
     "text": [
      "                   all       1765       1840      0.936      0.896      0.932      0.492\n",
      "\n",
      "      Epoch    GPU_mem   box_loss   cls_loss   dfl_loss  Instances       Size\n"
     ]
    },
    {
     "name": "stderr",
     "output_type": "stream",
     "text": [
      "       2/20      1.66G      1.387      1.023      1.176         14        416: 100%|██████████| 313/313 [01:04<00:00,  4.87it/s]\n",
      "                 Class     Images  Instances      Box(P          R      mAP50  mAP50-95): 100%|██████████| 56/56 [00:12<00:00,  4.43it/s]"
     ]
    },
    {
     "name": "stdout",
     "output_type": "stream",
     "text": [
      "                   all       1765       1840      0.963      0.901      0.943      0.575\n"
     ]
    },
    {
     "name": "stderr",
     "output_type": "stream",
     "text": [
      "\n"
     ]
    },
    {
     "name": "stdout",
     "output_type": "stream",
     "text": [
      "\n",
      "      Epoch    GPU_mem   box_loss   cls_loss   dfl_loss  Instances       Size\n"
     ]
    },
    {
     "name": "stderr",
     "output_type": "stream",
     "text": [
      "       3/20      1.66G      1.376     0.9367      1.168         13        416: 100%|██████████| 313/313 [00:58<00:00,  5.34it/s]\n",
      "                 Class     Images  Instances      Box(P          R      mAP50  mAP50-95): 100%|██████████| 56/56 [00:12<00:00,  4.35it/s]"
     ]
    },
    {
     "name": "stdout",
     "output_type": "stream",
     "text": [
      "                   all       1765       1840      0.943      0.907      0.941      0.616\n"
     ]
    },
    {
     "name": "stderr",
     "output_type": "stream",
     "text": [
      "\n"
     ]
    },
    {
     "name": "stdout",
     "output_type": "stream",
     "text": [
      "\n",
      "      Epoch    GPU_mem   box_loss   cls_loss   dfl_loss  Instances       Size\n"
     ]
    },
    {
     "name": "stderr",
     "output_type": "stream",
     "text": [
      "       4/20      1.66G      1.349     0.8792      1.161         15        416: 100%|██████████| 313/313 [00:58<00:00,  5.35it/s]\n",
      "                 Class     Images  Instances      Box(P          R      mAP50  mAP50-95): 100%|██████████| 56/56 [00:12<00:00,  4.49it/s]"
     ]
    },
    {
     "name": "stdout",
     "output_type": "stream",
     "text": [
      "                   all       1765       1840      0.969      0.914      0.944      0.625\n"
     ]
    },
    {
     "name": "stderr",
     "output_type": "stream",
     "text": [
      "\n"
     ]
    },
    {
     "name": "stdout",
     "output_type": "stream",
     "text": [
      "\n",
      "      Epoch    GPU_mem   box_loss   cls_loss   dfl_loss  Instances       Size\n"
     ]
    },
    {
     "name": "stderr",
     "output_type": "stream",
     "text": [
      "       5/20      1.66G      1.323     0.8239       1.14         22        416: 100%|██████████| 313/313 [00:57<00:00,  5.40it/s]\n",
      "                 Class     Images  Instances      Box(P          R      mAP50  mAP50-95): 100%|██████████| 56/56 [00:12<00:00,  4.45it/s]"
     ]
    },
    {
     "name": "stdout",
     "output_type": "stream",
     "text": [
      "                   all       1765       1840      0.952      0.911      0.947        0.6\n"
     ]
    },
    {
     "name": "stderr",
     "output_type": "stream",
     "text": [
      "\n"
     ]
    },
    {
     "name": "stdout",
     "output_type": "stream",
     "text": [
      "\n",
      "      Epoch    GPU_mem   box_loss   cls_loss   dfl_loss  Instances       Size\n"
     ]
    },
    {
     "name": "stderr",
     "output_type": "stream",
     "text": [
      "       6/20      1.66G      1.307     0.7827      1.134         13        416: 100%|██████████| 313/313 [00:58<00:00,  5.39it/s]\n",
      "                 Class     Images  Instances      Box(P          R      mAP50  mAP50-95): 100%|██████████| 56/56 [00:11<00:00,  4.78it/s]"
     ]
    },
    {
     "name": "stdout",
     "output_type": "stream",
     "text": [
      "                   all       1765       1840      0.976      0.915       0.96      0.645\n"
     ]
    },
    {
     "name": "stderr",
     "output_type": "stream",
     "text": [
      "\n"
     ]
    },
    {
     "name": "stdout",
     "output_type": "stream",
     "text": [
      "\n",
      "      Epoch    GPU_mem   box_loss   cls_loss   dfl_loss  Instances       Size\n"
     ]
    },
    {
     "name": "stderr",
     "output_type": "stream",
     "text": [
      "       7/20      1.66G      1.295     0.7705      1.131         12        416: 100%|██████████| 313/313 [00:58<00:00,  5.39it/s]\n",
      "                 Class     Images  Instances      Box(P          R      mAP50  mAP50-95): 100%|██████████| 56/56 [00:12<00:00,  4.57it/s]"
     ]
    },
    {
     "name": "stdout",
     "output_type": "stream",
     "text": [
      "                   all       1765       1840      0.974      0.911      0.954      0.648\n"
     ]
    },
    {
     "name": "stderr",
     "output_type": "stream",
     "text": [
      "\n"
     ]
    },
    {
     "name": "stdout",
     "output_type": "stream",
     "text": [
      "\n",
      "      Epoch    GPU_mem   box_loss   cls_loss   dfl_loss  Instances       Size\n"
     ]
    },
    {
     "name": "stderr",
     "output_type": "stream",
     "text": [
      "       8/20      1.66G      1.276     0.7448      1.126         15        416: 100%|██████████| 313/313 [00:59<00:00,  5.28it/s]\n",
      "                 Class     Images  Instances      Box(P          R      mAP50  mAP50-95): 100%|██████████| 56/56 [00:11<00:00,  4.71it/s]"
     ]
    },
    {
     "name": "stdout",
     "output_type": "stream",
     "text": [
      "                   all       1765       1840      0.975      0.919      0.958      0.646\n"
     ]
    },
    {
     "name": "stderr",
     "output_type": "stream",
     "text": [
      "\n"
     ]
    },
    {
     "name": "stdout",
     "output_type": "stream",
     "text": [
      "\n",
      "      Epoch    GPU_mem   box_loss   cls_loss   dfl_loss  Instances       Size\n"
     ]
    },
    {
     "name": "stderr",
     "output_type": "stream",
     "text": [
      "       9/20      1.66G       1.26     0.7189      1.115         16        416: 100%|██████████| 313/313 [00:57<00:00,  5.45it/s]\n",
      "                 Class     Images  Instances      Box(P          R      mAP50  mAP50-95): 100%|██████████| 56/56 [00:11<00:00,  4.74it/s]"
     ]
    },
    {
     "name": "stdout",
     "output_type": "stream",
     "text": [
      "                   all       1765       1840      0.972      0.926      0.958      0.661\n"
     ]
    },
    {
     "name": "stderr",
     "output_type": "stream",
     "text": [
      "\n"
     ]
    },
    {
     "name": "stdout",
     "output_type": "stream",
     "text": [
      "\n",
      "      Epoch    GPU_mem   box_loss   cls_loss   dfl_loss  Instances       Size\n"
     ]
    },
    {
     "name": "stderr",
     "output_type": "stream",
     "text": [
      "      10/20      1.66G      1.249     0.7069      1.109         15        416: 100%|██████████| 313/313 [00:58<00:00,  5.37it/s]\n",
      "                 Class     Images  Instances      Box(P          R      mAP50  mAP50-95): 100%|██████████| 56/56 [00:12<00:00,  4.50it/s]"
     ]
    },
    {
     "name": "stdout",
     "output_type": "stream",
     "text": [
      "                   all       1765       1840      0.971       0.93      0.963      0.655\n"
     ]
    },
    {
     "name": "stderr",
     "output_type": "stream",
     "text": [
      "\n"
     ]
    },
    {
     "name": "stdout",
     "output_type": "stream",
     "text": [
      "Closing dataloader mosaic\n",
      "\u001b[34m\u001b[1malbumentations: \u001b[0mBlur(p=0.01, blur_limit=(3, 7)), MedianBlur(p=0.01, blur_limit=(3, 7)), ToGray(p=0.01, method='weighted_average', num_output_channels=3), CLAHE(p=0.01, clip_limit=(1.0, 4.0), tile_grid_size=(8, 8))\n",
      "\n",
      "      Epoch    GPU_mem   box_loss   cls_loss   dfl_loss  Instances       Size\n"
     ]
    },
    {
     "name": "stderr",
     "output_type": "stream",
     "text": [
      "      11/20      1.66G       1.18     0.5933       1.09          8        416: 100%|██████████| 313/313 [00:59<00:00,  5.28it/s]\n",
      "                 Class     Images  Instances      Box(P          R      mAP50  mAP50-95): 100%|██████████| 56/56 [00:12<00:00,  4.37it/s]"
     ]
    },
    {
     "name": "stdout",
     "output_type": "stream",
     "text": [
      "                   all       1765       1840      0.983      0.939      0.965      0.657\n"
     ]
    },
    {
     "name": "stderr",
     "output_type": "stream",
     "text": [
      "\n"
     ]
    },
    {
     "name": "stdout",
     "output_type": "stream",
     "text": [
      "\n",
      "      Epoch    GPU_mem   box_loss   cls_loss   dfl_loss  Instances       Size\n"
     ]
    },
    {
     "name": "stderr",
     "output_type": "stream",
     "text": [
      "      12/20      1.66G      1.169     0.5752      1.077          8        416: 100%|██████████| 313/313 [01:00<00:00,  5.13it/s]\n",
      "                 Class     Images  Instances      Box(P          R      mAP50  mAP50-95): 100%|██████████| 56/56 [00:12<00:00,  4.36it/s]"
     ]
    },
    {
     "name": "stdout",
     "output_type": "stream",
     "text": [
      "                   all       1765       1840      0.981      0.937      0.964      0.666\n"
     ]
    },
    {
     "name": "stderr",
     "output_type": "stream",
     "text": [
      "\n"
     ]
    },
    {
     "name": "stdout",
     "output_type": "stream",
     "text": [
      "\n",
      "      Epoch    GPU_mem   box_loss   cls_loss   dfl_loss  Instances       Size\n"
     ]
    },
    {
     "name": "stderr",
     "output_type": "stream",
     "text": [
      "      13/20      1.66G      1.154      0.552      1.069          8        416: 100%|██████████| 313/313 [01:01<00:00,  5.12it/s]\n",
      "                 Class     Images  Instances      Box(P          R      mAP50  mAP50-95): 100%|██████████| 56/56 [00:12<00:00,  4.37it/s]"
     ]
    },
    {
     "name": "stdout",
     "output_type": "stream",
     "text": [
      "                   all       1765       1840      0.981      0.941      0.964      0.662\n"
     ]
    },
    {
     "name": "stderr",
     "output_type": "stream",
     "text": [
      "\n"
     ]
    },
    {
     "name": "stdout",
     "output_type": "stream",
     "text": [
      "\n",
      "      Epoch    GPU_mem   box_loss   cls_loss   dfl_loss  Instances       Size\n"
     ]
    },
    {
     "name": "stderr",
     "output_type": "stream",
     "text": [
      "      14/20      1.66G      1.148     0.5398      1.062          8        416: 100%|██████████| 313/313 [01:01<00:00,  5.13it/s]\n",
      "                 Class     Images  Instances      Box(P          R      mAP50  mAP50-95): 100%|██████████| 56/56 [00:12<00:00,  4.36it/s]"
     ]
    },
    {
     "name": "stdout",
     "output_type": "stream",
     "text": [
      "                   all       1765       1840       0.98      0.941      0.967      0.666\n"
     ]
    },
    {
     "name": "stderr",
     "output_type": "stream",
     "text": [
      "\n"
     ]
    },
    {
     "name": "stdout",
     "output_type": "stream",
     "text": [
      "\n",
      "      Epoch    GPU_mem   box_loss   cls_loss   dfl_loss  Instances       Size\n"
     ]
    },
    {
     "name": "stderr",
     "output_type": "stream",
     "text": [
      "      15/20      1.66G       1.13     0.5194      1.058          8        416: 100%|██████████| 313/313 [00:59<00:00,  5.26it/s]\n",
      "                 Class     Images  Instances      Box(P          R      mAP50  mAP50-95): 100%|██████████| 56/56 [00:12<00:00,  4.54it/s]"
     ]
    },
    {
     "name": "stdout",
     "output_type": "stream",
     "text": [
      "                   all       1765       1840      0.988       0.94      0.969      0.673\n"
     ]
    },
    {
     "name": "stderr",
     "output_type": "stream",
     "text": [
      "\n"
     ]
    },
    {
     "name": "stdout",
     "output_type": "stream",
     "text": [
      "\n",
      "      Epoch    GPU_mem   box_loss   cls_loss   dfl_loss  Instances       Size\n"
     ]
    },
    {
     "name": "stderr",
     "output_type": "stream",
     "text": [
      "      16/20      1.66G      1.122     0.5065      1.053          8        416: 100%|██████████| 313/313 [00:58<00:00,  5.38it/s]\n",
      "                 Class     Images  Instances      Box(P          R      mAP50  mAP50-95): 100%|██████████| 56/56 [00:12<00:00,  4.55it/s]"
     ]
    },
    {
     "name": "stdout",
     "output_type": "stream",
     "text": [
      "                   all       1765       1840      0.986      0.934      0.969      0.677\n"
     ]
    },
    {
     "name": "stderr",
     "output_type": "stream",
     "text": [
      "\n"
     ]
    },
    {
     "name": "stdout",
     "output_type": "stream",
     "text": [
      "\n",
      "      Epoch    GPU_mem   box_loss   cls_loss   dfl_loss  Instances       Size\n"
     ]
    },
    {
     "name": "stderr",
     "output_type": "stream",
     "text": [
      "      17/20      1.66G      1.102     0.4909      1.046          8        416: 100%|██████████| 313/313 [00:57<00:00,  5.40it/s]\n",
      "                 Class     Images  Instances      Box(P          R      mAP50  mAP50-95): 100%|██████████| 56/56 [00:12<00:00,  4.51it/s]"
     ]
    },
    {
     "name": "stdout",
     "output_type": "stream",
     "text": [
      "                   all       1765       1840       0.99      0.938      0.972      0.684\n"
     ]
    },
    {
     "name": "stderr",
     "output_type": "stream",
     "text": [
      "\n"
     ]
    },
    {
     "name": "stdout",
     "output_type": "stream",
     "text": [
      "\n",
      "      Epoch    GPU_mem   box_loss   cls_loss   dfl_loss  Instances       Size\n"
     ]
    },
    {
     "name": "stderr",
     "output_type": "stream",
     "text": [
      "      18/20      1.66G      1.094     0.4749       1.04          8        416: 100%|██████████| 313/313 [00:57<00:00,  5.43it/s]\n",
      "                 Class     Images  Instances      Box(P          R      mAP50  mAP50-95): 100%|██████████| 56/56 [00:12<00:00,  4.60it/s]"
     ]
    },
    {
     "name": "stdout",
     "output_type": "stream",
     "text": [
      "                   all       1765       1840      0.988      0.943      0.971      0.681\n"
     ]
    },
    {
     "name": "stderr",
     "output_type": "stream",
     "text": [
      "\n"
     ]
    },
    {
     "name": "stdout",
     "output_type": "stream",
     "text": [
      "\n",
      "      Epoch    GPU_mem   box_loss   cls_loss   dfl_loss  Instances       Size\n"
     ]
    },
    {
     "name": "stderr",
     "output_type": "stream",
     "text": [
      "      19/20      1.66G      1.085     0.4624      1.035          7        416: 100%|██████████| 313/313 [00:58<00:00,  5.34it/s]\n",
      "                 Class     Images  Instances      Box(P          R      mAP50  mAP50-95): 100%|██████████| 56/56 [00:12<00:00,  4.65it/s]"
     ]
    },
    {
     "name": "stdout",
     "output_type": "stream",
     "text": [
      "                   all       1765       1840      0.986      0.949      0.972       0.69\n"
     ]
    },
    {
     "name": "stderr",
     "output_type": "stream",
     "text": [
      "\n"
     ]
    },
    {
     "name": "stdout",
     "output_type": "stream",
     "text": [
      "\n",
      "      Epoch    GPU_mem   box_loss   cls_loss   dfl_loss  Instances       Size\n"
     ]
    },
    {
     "name": "stderr",
     "output_type": "stream",
     "text": [
      "      20/20      1.66G      1.068      0.448      1.029          8        416: 100%|██████████| 313/313 [00:58<00:00,  5.37it/s]\n",
      "                 Class     Images  Instances      Box(P          R      mAP50  mAP50-95): 100%|██████████| 56/56 [00:12<00:00,  4.60it/s]"
     ]
    },
    {
     "name": "stdout",
     "output_type": "stream",
     "text": [
      "                   all       1765       1840      0.987      0.947      0.972      0.687\n"
     ]
    },
    {
     "name": "stderr",
     "output_type": "stream",
     "text": [
      "\n"
     ]
    },
    {
     "name": "stdout",
     "output_type": "stream",
     "text": [
      "\n",
      "20 epochs completed in 0.409 hours.\n",
      "Optimizer stripped from runs\\detect\\train7\\weights\\last.pt, 6.2MB\n",
      "Optimizer stripped from runs\\detect\\train7\\weights\\best.pt, 6.2MB\n",
      "\n",
      "Validating runs\\detect\\train7\\weights\\best.pt...\n",
      "Ultralytics 8.3.166  Python-3.13.5 torch-2.7.1+cu118 CUDA:0 (NVIDIA GeForce GTX 1650, 4096MiB)\n",
      "Model summary (fused): 72 layers, 3,005,843 parameters, 0 gradients, 8.1 GFLOPs\n"
     ]
    },
    {
     "name": "stderr",
     "output_type": "stream",
     "text": [
      "                 Class     Images  Instances      Box(P          R      mAP50  mAP50-95): 100%|██████████| 56/56 [00:12<00:00,  4.56it/s]\n"
     ]
    },
    {
     "name": "stdout",
     "output_type": "stream",
     "text": [
      "                   all       1765       1840      0.986      0.949      0.972       0.69\n",
      "Speed: 0.1ms preprocess, 2.5ms inference, 0.0ms loss, 1.4ms postprocess per image\n",
      "Results saved to \u001b[1mruns\\detect\\train7\u001b[0m\n"
     ]
    }
   ],
   "source": [
    "results = model.train(\n",
    "    data=r\"C:\\Users\\GenITeam\\Downloads\\vehicle\\DATA_subset.yaml\",\n",
    "    epochs=20,\n",
    "    imgsz=416,\n",
    "    batch=16,\n",
    "    hsv_h=0.015,  # color jitter\n",
    "    hsv_s=0.7,\n",
    "    hsv_v=0.4,\n",
    "    degrees=0.0,\n",
    "    translate=0.1,\n",
    "    scale=0.5,\n",
    "    shear=0.0,\n",
    "    perspective=0.0,\n",
    "    flipud=0.1,\n",
    "    fliplr=0.5,\n",
    "    mosaic=1.0,\n",
    "    mixup=0.2,\n",
    "    copy_paste=0.1,\n",
    "    verbose=True\n",
    ")\n"
   ]
  },
  {
   "cell_type": "code",
   "execution_count": null,
   "id": "fe903453",
   "metadata": {},
   "outputs": [],
   "source": [
    "from ultralytics import YOLO\n",
    "\n",
    "model = YOLO(r\"C:\\Users\\GenITeam\\Desktop\\football_subset_5000\\runs\\detect\\train\\weights\\last.pt\")\n",
    "\n",
    "# Resume training\n",
    "model.train(\n",
    "    resume=True,\n",
    "    epochs=30) "
   ]
  },
  {
   "cell_type": "code",
   "execution_count": 4,
   "id": "aefafe5d",
   "metadata": {},
   "outputs": [
    {
     "name": "stdout",
     "output_type": "stream",
     "text": [
      "\n",
      "image 1/882 C:\\Users\\GenITeam\\Downloads\\vehicle\\test\\images\\0002a5b67e5f0909_jpg.rf.ba5108898dfac55be495452b33fe9b9e.jpg: 416x416 1 License_Plate, 43.8ms\n",
      "image 2/882 C:\\Users\\GenITeam\\Downloads\\vehicle\\test\\images\\000812dcf304a8e7_jpg.rf.f061263ad1c71ae100090997ed140292.jpg: 416x416 1 License_Plate, 69.1ms\n",
      "image 3/882 C:\\Users\\GenITeam\\Downloads\\vehicle\\test\\images\\0010f4c10f7ab07e_jpg.rf.281bef7d6cca43e6944b212beb6e4c71.jpg: 416x416 1 License_Plate, 7.7ms\n",
      "image 4/882 C:\\Users\\GenITeam\\Downloads\\vehicle\\test\\images\\001cdd25e148cd36_jpg.rf.533fb0c2ebbce8cff08f06d3886b2d84.jpg: 416x416 1 License_Plate, 8.4ms\n",
      "image 5/882 C:\\Users\\GenITeam\\Downloads\\vehicle\\test\\images\\002519f868563098_jpg.rf.8110c2b8631422e3d26574b427c373d4.jpg: 416x416 1 License_Plate, 7.7ms\n",
      "image 6/882 C:\\Users\\GenITeam\\Downloads\\vehicle\\test\\images\\0026c246d5c33bea_jpg.rf.d9a4c8b1fd61537cf08dc58f78baee15.jpg: 416x416 1 License_Plate, 7.8ms\n",
      "image 7/882 C:\\Users\\GenITeam\\Downloads\\vehicle\\test\\images\\002901d9d194c4fb_jpg.rf.42c65ffef5d9ea301080460c628e4d1d.jpg: 416x416 1 License_Plate, 7.6ms\n",
      "image 8/882 C:\\Users\\GenITeam\\Downloads\\vehicle\\test\\images\\002d099996f3f443_jpg.rf.6a5447782326415aae23657443c73103.jpg: 416x416 1 License_Plate, 7.7ms\n",
      "image 9/882 C:\\Users\\GenITeam\\Downloads\\vehicle\\test\\images\\0039ac4bfb8bd69d_jpg.rf.112d4bfc0caf4712bf0cb27b5c6e3f7e.jpg: 416x416 1 License_Plate, 9.1ms\n",
      "image 10/882 C:\\Users\\GenITeam\\Downloads\\vehicle\\test\\images\\005e1faed531ae7e_jpg.rf.4f43b0dd1e4ae9af92c3e05af27f7cc6.jpg: 416x416 1 License_Plate, 8.2ms\n",
      "image 11/882 C:\\Users\\GenITeam\\Downloads\\vehicle\\test\\images\\0063e41b53567829_jpg.rf.4d0fe320582d41e1bedc07eba4f59faf.jpg: 416x416 1 License_Plate, 7.7ms\n",
      "image 12/882 C:\\Users\\GenITeam\\Downloads\\vehicle\\test\\images\\006a2f13b5b16c64_jpg.rf.37cce7afd6ab09313655dbc5026312ae.jpg: 416x416 (no detections), 7.9ms\n",
      "image 13/882 C:\\Users\\GenITeam\\Downloads\\vehicle\\test\\images\\00777823afff31f7_jpg.rf.5fa5e3db6a88b33640c45c43138bfb8d.jpg: 416x416 1 License_Plate, 7.7ms\n",
      "image 14/882 C:\\Users\\GenITeam\\Downloads\\vehicle\\test\\images\\0088be963439e57d_jpg.rf.9d3bede36f6815acdca12b169aafa149.jpg: 416x416 (no detections), 7.8ms\n",
      "image 15/882 C:\\Users\\GenITeam\\Downloads\\vehicle\\test\\images\\008e36a5a0623445_jpg.rf.bbc557cdab8607411229919eda5ab091.jpg: 416x416 1 License_Plate, 8.1ms\n",
      "image 16/882 C:\\Users\\GenITeam\\Downloads\\vehicle\\test\\images\\00a7d31c6cc6b7f3_jpg.rf.369a94cee967bd2b3953d2274d739b82.jpg: 416x416 1 License_Plate, 7.6ms\n",
      "image 17/882 C:\\Users\\GenITeam\\Downloads\\vehicle\\test\\images\\00c82d64185293a7_jpg.rf.84ce8cf4c5bccdd1d9166f81339ce59b.jpg: 416x416 1 License_Plate, 7.6ms\n",
      "image 18/882 C:\\Users\\GenITeam\\Downloads\\vehicle\\test\\images\\00d9db3d2c186504_jpg.rf.c0833d34471b503ec6a69fa6c7a75c28.jpg: 416x416 1 License_Plate, 8.0ms\n",
      "image 19/882 C:\\Users\\GenITeam\\Downloads\\vehicle\\test\\images\\00e481ea1a520175_jpg.rf.3ea1094a5176df5b3f81987066ef117a.jpg: 416x416 1 License_Plate, 7.9ms\n",
      "image 20/882 C:\\Users\\GenITeam\\Downloads\\vehicle\\test\\images\\00e4cd60e84c0463_jpg.rf.4d3da7f435bc428a5828435bb42b09b7.jpg: 416x416 1 License_Plate, 7.6ms\n",
      "image 21/882 C:\\Users\\GenITeam\\Downloads\\vehicle\\test\\images\\00e8e5e79255536f_jpg.rf.6a77fd29538b772c8a8811a9d9d20ab8.jpg: 416x416 1 License_Plate, 7.6ms\n",
      "image 22/882 C:\\Users\\GenITeam\\Downloads\\vehicle\\test\\images\\0123f836ce94678a_jpg.rf.8cb57e9daa3120266ad8e5f590079646.jpg: 416x416 1 License_Plate, 8.0ms\n",
      "image 23/882 C:\\Users\\GenITeam\\Downloads\\vehicle\\test\\images\\01984a985e4bf80f_jpg.rf.d766063a4cb4c7bd0dbc4b515c07d8bd.jpg: 416x416 1 License_Plate, 7.8ms\n",
      "image 24/882 C:\\Users\\GenITeam\\Downloads\\vehicle\\test\\images\\021d0fd9b41f8d4b_jpg.rf.9a1f6af3170fc9872356a7b04ceb3f5d.jpg: 416x416 1 License_Plate, 8.0ms\n",
      "image 25/882 C:\\Users\\GenITeam\\Downloads\\vehicle\\test\\images\\024a77ccdb9410b1_jpg.rf.95c72edc542e457d473441fbbcb8f869.jpg: 416x416 (no detections), 7.4ms\n",
      "image 26/882 C:\\Users\\GenITeam\\Downloads\\vehicle\\test\\images\\0269b68e1093b0be_jpg.rf.027e61f6ad52b1d6f0c7cbfb9bb38627.jpg: 416x416 1 License_Plate, 7.7ms\n",
      "image 27/882 C:\\Users\\GenITeam\\Downloads\\vehicle\\test\\images\\02a3ba4c3886fe9a_jpg.rf.22874dd1b0219e8261e9e61865379b76.jpg: 416x416 1 License_Plate, 7.7ms\n",
      "image 28/882 C:\\Users\\GenITeam\\Downloads\\vehicle\\test\\images\\02fee967ac39acf0_jpg.rf.24d10b7b2f428f89b79f42662025bdaa.jpg: 416x416 2 License_Plates, 7.8ms\n",
      "image 29/882 C:\\Users\\GenITeam\\Downloads\\vehicle\\test\\images\\CarLongPlate112_jpg.rf.a516ef3b84ef951501d0a501d4d69dcf.jpg: 416x416 1 License_Plate, 7.9ms\n",
      "image 30/882 C:\\Users\\GenITeam\\Downloads\\vehicle\\test\\images\\CarLongPlate114_jpg.rf.66490c41e5a9c08b551885a39ee77a6c.jpg: 416x416 1 License_Plate, 8.0ms\n",
      "image 31/882 C:\\Users\\GenITeam\\Downloads\\vehicle\\test\\images\\CarLongPlate118_jpg.rf.53407f53b63aba95e8d57bc2b8bd7e06.jpg: 416x416 1 License_Plate, 7.8ms\n",
      "image 32/882 C:\\Users\\GenITeam\\Downloads\\vehicle\\test\\images\\CarLongPlate122_jpg.rf.62a193b71f5faf45f380de35be2bf478.jpg: 416x416 1 License_Plate, 7.6ms\n",
      "image 33/882 C:\\Users\\GenITeam\\Downloads\\vehicle\\test\\images\\CarLongPlate129_jpg.rf.6d6213ef320cc84ed1bd46c809a6b4ec.jpg: 416x416 1 License_Plate, 9.3ms\n",
      "image 34/882 C:\\Users\\GenITeam\\Downloads\\vehicle\\test\\images\\CarLongPlate147_jpg.rf.06050a9c3fb1d4f90fc59ce595f3aafb.jpg: 416x416 1 License_Plate, 7.9ms\n",
      "image 35/882 C:\\Users\\GenITeam\\Downloads\\vehicle\\test\\images\\CarLongPlate160_jpg.rf.5c836b9a27c662cce360919a7f93bb12.jpg: 416x416 1 License_Plate, 7.4ms\n",
      "image 36/882 C:\\Users\\GenITeam\\Downloads\\vehicle\\test\\images\\CarLongPlate161_jpg.rf.c45bc951fbd9087bfc31e59598023355.jpg: 416x416 1 License_Plate, 7.8ms\n",
      "image 37/882 C:\\Users\\GenITeam\\Downloads\\vehicle\\test\\images\\CarLongPlate179_jpg.rf.626c09665f7b0951b1f48b8598299aa2.jpg: 416x416 1 License_Plate, 7.8ms\n",
      "image 38/882 C:\\Users\\GenITeam\\Downloads\\vehicle\\test\\images\\CarLongPlate181_jpg.rf.248bb41b6ee47afd6eddd0b8fbe7aa02.jpg: 416x416 1 License_Plate, 12.4ms\n",
      "image 39/882 C:\\Users\\GenITeam\\Downloads\\vehicle\\test\\images\\CarLongPlate212_jpg.rf.2e849d495a436708b3e4ba9054fe82ac.jpg: 416x416 1 License_Plate, 7.5ms\n",
      "image 40/882 C:\\Users\\GenITeam\\Downloads\\vehicle\\test\\images\\CarLongPlate23_jpg.rf.2121eb8967cc4bb5c2d457ef40726ced.jpg: 416x416 1 License_Plate, 8.2ms\n",
      "image 41/882 C:\\Users\\GenITeam\\Downloads\\vehicle\\test\\images\\CarLongPlate24_jpg.rf.d6afd6c33d522092a08885ca1bee8441.jpg: 416x416 1 License_Plate, 7.9ms\n",
      "image 42/882 C:\\Users\\GenITeam\\Downloads\\vehicle\\test\\images\\CarLongPlate263_jpg.rf.e262bd51ad509282bf4087dc1801710c.jpg: 416x416 1 License_Plate, 7.6ms\n",
      "image 43/882 C:\\Users\\GenITeam\\Downloads\\vehicle\\test\\images\\CarLongPlate277_jpg.rf.3f873c5a25b9def87c83a7b8241fbaa1.jpg: 416x416 1 License_Plate, 8.0ms\n",
      "image 44/882 C:\\Users\\GenITeam\\Downloads\\vehicle\\test\\images\\CarLongPlate291_jpg.rf.23d6c02a4114336fd8f55c44e93010bf.jpg: 416x416 1 License_Plate, 9.4ms\n",
      "image 45/882 C:\\Users\\GenITeam\\Downloads\\vehicle\\test\\images\\CarLongPlate296_jpg.rf.d48f2a6d72a94ed38eb1dd5a12a3adc4.jpg: 416x416 1 License_Plate, 8.8ms\n",
      "image 46/882 C:\\Users\\GenITeam\\Downloads\\vehicle\\test\\images\\CarLongPlate304_jpg.rf.dce53e5899d5a37b96d64d539a155d64.jpg: 416x416 1 License_Plate, 10.4ms\n",
      "image 47/882 C:\\Users\\GenITeam\\Downloads\\vehicle\\test\\images\\CarLongPlate307_jpg.rf.a2535c4a4afb247adf88bf5c98044987.jpg: 416x416 1 License_Plate, 7.9ms\n",
      "image 48/882 C:\\Users\\GenITeam\\Downloads\\vehicle\\test\\images\\CarLongPlate319_jpg.rf.e44b98174d12808c28c4e001f169e98e.jpg: 416x416 1 License_Plate, 12.1ms\n",
      "image 49/882 C:\\Users\\GenITeam\\Downloads\\vehicle\\test\\images\\CarLongPlate324_jpg.rf.8e2cce03e360b63bc565bab9eff56d5a.jpg: 416x416 1 License_Plate, 10.8ms\n",
      "image 50/882 C:\\Users\\GenITeam\\Downloads\\vehicle\\test\\images\\CarLongPlate343_jpg.rf.8ff8430b110e362f721de105423b51a0.jpg: 416x416 1 License_Plate, 8.3ms\n",
      "image 51/882 C:\\Users\\GenITeam\\Downloads\\vehicle\\test\\images\\CarLongPlate361_jpg.rf.ae508dcf7506fdc459775d2eb20aaf2a.jpg: 416x416 1 License_Plate, 7.9ms\n",
      "image 52/882 C:\\Users\\GenITeam\\Downloads\\vehicle\\test\\images\\CarLongPlate362_jpg.rf.69e9d73eb9366933362e5a0ebc594c64.jpg: 416x416 1 License_Plate, 8.1ms\n",
      "image 53/882 C:\\Users\\GenITeam\\Downloads\\vehicle\\test\\images\\CarLongPlate366_jpg.rf.e2959e11aa0f70b56fdc4517a1fc91a0.jpg: 416x416 1 License_Plate, 8.8ms\n",
      "image 54/882 C:\\Users\\GenITeam\\Downloads\\vehicle\\test\\images\\CarLongPlate381_jpg.rf.81a5228638e16ddb2f6a5f5f798cf7fe.jpg: 416x416 1 License_Plate, 7.4ms\n",
      "image 55/882 C:\\Users\\GenITeam\\Downloads\\vehicle\\test\\images\\CarLongPlate384_jpg.rf.07f7252de7ec341a1a738ebcb2ca1505.jpg: 416x416 1 License_Plate, 8.2ms\n",
      "image 56/882 C:\\Users\\GenITeam\\Downloads\\vehicle\\test\\images\\CarLongPlate397_jpg.rf.71aed78b180401ff3e6f71272d8e812e.jpg: 416x416 1 License_Plate, 8.1ms\n",
      "image 57/882 C:\\Users\\GenITeam\\Downloads\\vehicle\\test\\images\\CarLongPlate403_jpg.rf.52108d84653a4f4d60accd50351352ff.jpg: 416x416 1 License_Plate, 7.7ms\n",
      "image 58/882 C:\\Users\\GenITeam\\Downloads\\vehicle\\test\\images\\CarLongPlate405_jpg.rf.0ea41e1c13aabadaa65f866fcfd9e545.jpg: 416x416 1 License_Plate, 7.6ms\n",
      "image 59/882 C:\\Users\\GenITeam\\Downloads\\vehicle\\test\\images\\CarLongPlate415_jpg.rf.ed3fe650502486f85e3db29fd8627fef.jpg: 416x416 1 License_Plate, 7.6ms\n",
      "image 60/882 C:\\Users\\GenITeam\\Downloads\\vehicle\\test\\images\\CarLongPlate418_jpg.rf.24c3fc5f4941827b1af9d47b345308b0.jpg: 416x416 1 License_Plate, 7.7ms\n",
      "image 61/882 C:\\Users\\GenITeam\\Downloads\\vehicle\\test\\images\\CarLongPlate425_jpg.rf.2943334a3156d229fe235edde7fd6b91.jpg: 416x416 1 License_Plate, 7.7ms\n",
      "image 62/882 C:\\Users\\GenITeam\\Downloads\\vehicle\\test\\images\\CarLongPlate488_jpg.rf.c4577627d15850e8160b55c3365f2651.jpg: 416x416 1 License_Plate, 7.6ms\n",
      "image 63/882 C:\\Users\\GenITeam\\Downloads\\vehicle\\test\\images\\CarLongPlate506_jpg.rf.7e561c7a1f7f8be9c5f277704a484ea3.jpg: 416x416 1 License_Plate, 7.5ms\n",
      "image 64/882 C:\\Users\\GenITeam\\Downloads\\vehicle\\test\\images\\CarLongPlate50_jpg.rf.dd7b3a982dcfacfdb755c44b715f1037.jpg: 416x416 1 License_Plate, 7.7ms\n",
      "image 65/882 C:\\Users\\GenITeam\\Downloads\\vehicle\\test\\images\\CarLongPlate537_jpg.rf.df96c6408f869d3f4f4e954b361035ce.jpg: 416x416 1 License_Plate, 7.7ms\n",
      "image 66/882 C:\\Users\\GenITeam\\Downloads\\vehicle\\test\\images\\CarLongPlate553_jpg.rf.434f194bd62b34621a15278195b0e7a5.jpg: 416x416 1 License_Plate, 7.7ms\n",
      "image 67/882 C:\\Users\\GenITeam\\Downloads\\vehicle\\test\\images\\CarLongPlate554_jpg.rf.c4b9f7ffa5ad832deb9217cede45c7c3.jpg: 416x416 1 License_Plate, 7.7ms\n",
      "image 68/882 C:\\Users\\GenITeam\\Downloads\\vehicle\\test\\images\\CarLongPlate558_jpg.rf.5d2ef18d35353199b4cf7f3c360353d7.jpg: 416x416 1 License_Plate, 7.8ms\n",
      "image 69/882 C:\\Users\\GenITeam\\Downloads\\vehicle\\test\\images\\CarLongPlate559_jpg.rf.545c6f7445f092ff2916a7ed779403c7.jpg: 416x416 1 License_Plate, 7.6ms\n",
      "image 70/882 C:\\Users\\GenITeam\\Downloads\\vehicle\\test\\images\\CarLongPlate578_jpg.rf.634f71056e2d27acd53b77ceaaa277b1.jpg: 416x416 1 License_Plate, 7.6ms\n",
      "image 71/882 C:\\Users\\GenITeam\\Downloads\\vehicle\\test\\images\\CarLongPlate587_jpg.rf.c62ac2a0d42e2e300a5517088c6dd9a7.jpg: 416x416 1 License_Plate, 7.7ms\n",
      "image 72/882 C:\\Users\\GenITeam\\Downloads\\vehicle\\test\\images\\CarLongPlate591_jpg.rf.80a7e13fc9e8fdaaf05d5afde0661d67.jpg: 416x416 1 License_Plate, 8.0ms\n",
      "image 73/882 C:\\Users\\GenITeam\\Downloads\\vehicle\\test\\images\\CarLongPlate603_jpg.rf.5dfb8d8dca3599103ba0b85749c391d6.jpg: 416x416 1 License_Plate, 11.8ms\n",
      "image 74/882 C:\\Users\\GenITeam\\Downloads\\vehicle\\test\\images\\CarLongPlate604_jpg.rf.2b20410061f89b4108d450dd35d49a50.jpg: 416x416 1 License_Plate, 7.6ms\n",
      "image 75/882 C:\\Users\\GenITeam\\Downloads\\vehicle\\test\\images\\CarLongPlate606_jpg.rf.8161d45e8e2b8a769ea2295f97fa3a86.jpg: 416x416 1 License_Plate, 7.8ms\n",
      "image 76/882 C:\\Users\\GenITeam\\Downloads\\vehicle\\test\\images\\CarLongPlate61_jpg.rf.2043aa56bea867bc62696baa23284452.jpg: 416x416 1 License_Plate, 7.8ms\n",
      "image 77/882 C:\\Users\\GenITeam\\Downloads\\vehicle\\test\\images\\CarLongPlate62_jpg.rf.e391b8306fb0c57d99261e64fd2855e4.jpg: 416x416 1 License_Plate, 7.7ms\n",
      "image 78/882 C:\\Users\\GenITeam\\Downloads\\vehicle\\test\\images\\CarLongPlate636_jpg.rf.9625f324768bdc03c43b422919d72819.jpg: 416x416 1 License_Plate, 7.6ms\n",
      "image 79/882 C:\\Users\\GenITeam\\Downloads\\vehicle\\test\\images\\CarLongPlate648_jpg.rf.2089d8079df6310c09318a4788d13e5c.jpg: 416x416 1 License_Plate, 7.6ms\n",
      "image 80/882 C:\\Users\\GenITeam\\Downloads\\vehicle\\test\\images\\CarLongPlate660_jpg.rf.4cb896c5e68d8c90c7fbd454c8cf1cd3.jpg: 416x416 1 License_Plate, 7.8ms\n",
      "image 81/882 C:\\Users\\GenITeam\\Downloads\\vehicle\\test\\images\\CarLongPlate661_jpg.rf.30d934629bfcf5f6e72acef2d5e644fe.jpg: 416x416 1 License_Plate, 7.4ms\n",
      "image 82/882 C:\\Users\\GenITeam\\Downloads\\vehicle\\test\\images\\CarLongPlate681_jpg.rf.9829521faa35214ab23d217d4ef6cf8a.jpg: 416x416 1 License_Plate, 7.7ms\n",
      "image 83/882 C:\\Users\\GenITeam\\Downloads\\vehicle\\test\\images\\CarLongPlate685_jpg.rf.4dc92addfb7fbff2cd7a9aadbd29d924.jpg: 416x416 1 License_Plate, 7.8ms\n",
      "image 84/882 C:\\Users\\GenITeam\\Downloads\\vehicle\\test\\images\\CarLongPlate68_jpg.rf.8ddb3f476e05ff7c61c50d69cc4feadf.jpg: 416x416 1 License_Plate, 8.0ms\n",
      "image 85/882 C:\\Users\\GenITeam\\Downloads\\vehicle\\test\\images\\CarLongPlate695_jpg.rf.c2fbb545db53675bc201e376af59e230.jpg: 416x416 1 License_Plate, 7.7ms\n",
      "image 86/882 C:\\Users\\GenITeam\\Downloads\\vehicle\\test\\images\\CarLongPlate699_jpg.rf.143df0df82621f3479f373b3fab62e69.jpg: 416x416 1 License_Plate, 7.8ms\n",
      "image 87/882 C:\\Users\\GenITeam\\Downloads\\vehicle\\test\\images\\CarLongPlate705_jpg.rf.10b2ecb1dc98736eecd0da2d64024c33.jpg: 416x416 1 License_Plate, 8.0ms\n",
      "image 88/882 C:\\Users\\GenITeam\\Downloads\\vehicle\\test\\images\\CarLongPlate720_jpg.rf.ff9a5778ce82529148616a15edd83125.jpg: 416x416 1 License_Plate, 7.9ms\n",
      "image 89/882 C:\\Users\\GenITeam\\Downloads\\vehicle\\test\\images\\CarLongPlate726_jpg.rf.7c83f76609e8df63edeb9c9cbba50702.jpg: 416x416 1 License_Plate, 7.6ms\n",
      "image 90/882 C:\\Users\\GenITeam\\Downloads\\vehicle\\test\\images\\CarLongPlate732_jpg.rf.199be92fd504f054e1037a39262c805b.jpg: 416x416 1 License_Plate, 7.4ms\n",
      "image 91/882 C:\\Users\\GenITeam\\Downloads\\vehicle\\test\\images\\CarLongPlate738_jpg.rf.8787dd04be48896c1db752b0a41d248e.jpg: 416x416 1 License_Plate, 7.8ms\n",
      "image 92/882 C:\\Users\\GenITeam\\Downloads\\vehicle\\test\\images\\CarLongPlate760_jpg.rf.878e49905a7d196cdf1b0fe010941c1a.jpg: 416x416 1 License_Plate, 7.8ms\n",
      "image 93/882 C:\\Users\\GenITeam\\Downloads\\vehicle\\test\\images\\CarLongPlate799_jpg.rf.3981f8e96b0296c040432ee1d3c6035b.jpg: 416x416 1 License_Plate, 7.7ms\n",
      "image 94/882 C:\\Users\\GenITeam\\Downloads\\vehicle\\test\\images\\CarLongPlate800_jpg.rf.72fbad6aee7954af205f98a58292a3c6.jpg: 416x416 1 License_Plate, 7.7ms\n",
      "image 95/882 C:\\Users\\GenITeam\\Downloads\\vehicle\\test\\images\\CarLongPlate806_jpg.rf.c2a53f61a935da69ccb2608878812736.jpg: 416x416 1 License_Plate, 7.8ms\n",
      "image 96/882 C:\\Users\\GenITeam\\Downloads\\vehicle\\test\\images\\CarLongPlate821_jpg.rf.e038cca730a534d3d25529b7051510d6.jpg: 416x416 1 License_Plate, 7.8ms\n",
      "image 97/882 C:\\Users\\GenITeam\\Downloads\\vehicle\\test\\images\\CarLongPlate831_jpg.rf.b9d74f68bfbf4a6a14b84a8720d20eeb.jpg: 416x416 1 License_Plate, 7.9ms\n",
      "image 98/882 C:\\Users\\GenITeam\\Downloads\\vehicle\\test\\images\\CarLongPlate83_jpg.rf.ebb3934345a5d26637c61370ed6456f5.jpg: 416x416 1 License_Plate, 7.7ms\n",
      "image 99/882 C:\\Users\\GenITeam\\Downloads\\vehicle\\test\\images\\CarLongPlate844_jpg.rf.9880929dd940c6c0f3e63a55876aefee.jpg: 416x416 1 License_Plate, 7.6ms\n",
      "image 100/882 C:\\Users\\GenITeam\\Downloads\\vehicle\\test\\images\\CarLongPlate857_jpg.rf.37634b6e8c24230a54f85da1c5357f56.jpg: 416x416 1 License_Plate, 8.0ms\n",
      "image 101/882 C:\\Users\\GenITeam\\Downloads\\vehicle\\test\\images\\CarLongPlate867_jpg.rf.125576650c05ccd210d64fb6776b7bf2.jpg: 416x416 1 License_Plate, 7.8ms\n",
      "image 102/882 C:\\Users\\GenITeam\\Downloads\\vehicle\\test\\images\\CarLongPlate893_jpg.rf.802d7f8cab0a370e3891d13a5f02e9a7.jpg: 416x416 1 License_Plate, 7.5ms\n",
      "image 103/882 C:\\Users\\GenITeam\\Downloads\\vehicle\\test\\images\\CarLongPlate903_jpg.rf.cce89808618cbfd38b93b3286cd31240.jpg: 416x416 1 License_Plate, 7.8ms\n",
      "image 104/882 C:\\Users\\GenITeam\\Downloads\\vehicle\\test\\images\\CarLongPlate905_jpg.rf.96de87af066d0c88c301091bfb021878.jpg: 416x416 1 License_Plate, 7.7ms\n",
      "image 105/882 C:\\Users\\GenITeam\\Downloads\\vehicle\\test\\images\\CarLongPlate923_jpg.rf.a2e92e6ced71d50e7727ae6805757237.jpg: 416x416 1 License_Plate, 7.7ms\n",
      "image 106/882 C:\\Users\\GenITeam\\Downloads\\vehicle\\test\\images\\CarLongPlate926_jpg.rf.43f5d2e1d9ffb2f207c3cffa0dcb809e.jpg: 416x416 1 License_Plate, 7.6ms\n",
      "image 107/882 C:\\Users\\GenITeam\\Downloads\\vehicle\\test\\images\\CarLongPlate934_jpg.rf.f99f6ea444ae5644c4370016ea12f8ed.jpg: 416x416 1 License_Plate, 7.7ms\n",
      "image 108/882 C:\\Users\\GenITeam\\Downloads\\vehicle\\test\\images\\CarLongPlate955_jpg.rf.89d46136a23088324f2e26592e94296c.jpg: 416x416 1 License_Plate, 7.6ms\n",
      "image 109/882 C:\\Users\\GenITeam\\Downloads\\vehicle\\test\\images\\CarLongPlate959_jpg.rf.aaa4ec0d0f2eb05bb20e3ea4647c9e8c.jpg: 416x416 1 License_Plate, 7.6ms\n",
      "image 110/882 C:\\Users\\GenITeam\\Downloads\\vehicle\\test\\images\\CarLongPlate961_jpg.rf.ce21e0700a2b42ddc29abc752045eb85.jpg: 416x416 1 License_Plate, 7.7ms\n",
      "image 111/882 C:\\Users\\GenITeam\\Downloads\\vehicle\\test\\images\\CarLongPlate972_jpg.rf.afd0c4f296a2a57e3194254295bc14b6.jpg: 416x416 1 License_Plate, 7.8ms\n",
      "image 112/882 C:\\Users\\GenITeam\\Downloads\\vehicle\\test\\images\\CarLongPlate973_jpg.rf.0ba8c10f98ced82346959a47e43b9a98.jpg: 416x416 1 License_Plate, 7.6ms\n",
      "image 113/882 C:\\Users\\GenITeam\\Downloads\\vehicle\\test\\images\\CarLongPlate979_jpg.rf.9a58ddfae7765f2629a810d7623dcc04.jpg: 416x416 1 License_Plate, 7.2ms\n",
      "image 114/882 C:\\Users\\GenITeam\\Downloads\\vehicle\\test\\images\\CarLongPlateGen1002_jpg.rf.d0f0356ced083f58b99e9eab09e7d423.jpg: 416x416 1 License_Plate, 7.6ms\n",
      "image 115/882 C:\\Users\\GenITeam\\Downloads\\vehicle\\test\\images\\CarLongPlateGen1025_jpg.rf.917a666e9fb47651bf54f9c3d444ef2d.jpg: 416x416 1 License_Plate, 7.8ms\n",
      "image 116/882 C:\\Users\\GenITeam\\Downloads\\vehicle\\test\\images\\CarLongPlateGen1053_jpg.rf.739191b78739d135234d55b0d0053908.jpg: 416x416 1 License_Plate, 8.2ms\n",
      "image 117/882 C:\\Users\\GenITeam\\Downloads\\vehicle\\test\\images\\CarLongPlateGen1065_jpg.rf.122abffea4583bdf854c99771a47f6d9.jpg: 416x416 1 License_Plate, 11.0ms\n",
      "image 118/882 C:\\Users\\GenITeam\\Downloads\\vehicle\\test\\images\\CarLongPlateGen1066_jpg.rf.f19a5c6282bfacd2f1abba708b23703e.jpg: 416x416 1 License_Plate, 8.0ms\n",
      "image 119/882 C:\\Users\\GenITeam\\Downloads\\vehicle\\test\\images\\CarLongPlateGen1072_jpg.rf.3726b87222c4e87b81027478223b2ded.jpg: 416x416 1 License_Plate, 7.6ms\n",
      "image 120/882 C:\\Users\\GenITeam\\Downloads\\vehicle\\test\\images\\CarLongPlateGen1073_jpg.rf.e7b041907412f5ef1ee99b25e60e024b.jpg: 416x416 1 License_Plate, 7.6ms\n",
      "image 121/882 C:\\Users\\GenITeam\\Downloads\\vehicle\\test\\images\\CarLongPlateGen1109_jpg.rf.7d19d7768bec6072e0e705c26da3baa2.jpg: 416x416 1 License_Plate, 7.5ms\n",
      "image 122/882 C:\\Users\\GenITeam\\Downloads\\vehicle\\test\\images\\CarLongPlateGen1116_jpg.rf.b5642d19c466b407379151328789f3f1.jpg: 416x416 1 License_Plate, 7.5ms\n",
      "image 123/882 C:\\Users\\GenITeam\\Downloads\\vehicle\\test\\images\\CarLongPlateGen1121_jpg.rf.795d086f21a3324f94179fb34e546988.jpg: 416x416 1 License_Plate, 7.6ms\n",
      "image 124/882 C:\\Users\\GenITeam\\Downloads\\vehicle\\test\\images\\CarLongPlateGen1122_jpg.rf.5f7bb883a688e510edc570ae6b9a3999.jpg: 416x416 1 License_Plate, 7.2ms\n",
      "image 125/882 C:\\Users\\GenITeam\\Downloads\\vehicle\\test\\images\\CarLongPlateGen1141_jpg.rf.74531d1e96fd6763741bc14a9fe2e482.jpg: 416x416 1 License_Plate, 7.4ms\n",
      "image 126/882 C:\\Users\\GenITeam\\Downloads\\vehicle\\test\\images\\CarLongPlateGen1143_jpg.rf.02b16da8b6a22d28e7804e29900944d4.jpg: 416x416 1 License_Plate, 7.6ms\n",
      "image 127/882 C:\\Users\\GenITeam\\Downloads\\vehicle\\test\\images\\CarLongPlateGen1157_jpg.rf.36c34e0441b7e9dafa89212a0ae44d62.jpg: 416x416 1 License_Plate, 7.4ms\n",
      "image 128/882 C:\\Users\\GenITeam\\Downloads\\vehicle\\test\\images\\CarLongPlateGen115_jpg.rf.531a90f500eb04c1428e657d6ae5a84e.jpg: 416x416 1 License_Plate, 7.8ms\n",
      "image 129/882 C:\\Users\\GenITeam\\Downloads\\vehicle\\test\\images\\CarLongPlateGen1175_jpg.rf.3602dd33149b59a57318ef4045660b6a.jpg: 416x416 1 License_Plate, 7.6ms\n",
      "image 130/882 C:\\Users\\GenITeam\\Downloads\\vehicle\\test\\images\\CarLongPlateGen1178_jpg.rf.ab2dfd477b0cf4a52b619d3b15396bad.jpg: 416x416 1 License_Plate, 11.7ms\n",
      "image 131/882 C:\\Users\\GenITeam\\Downloads\\vehicle\\test\\images\\CarLongPlateGen1183_jpg.rf.8c1e31246791e3b45e99b2a2c0f3ce97.jpg: 416x416 1 License_Plate, 7.5ms\n",
      "image 132/882 C:\\Users\\GenITeam\\Downloads\\vehicle\\test\\images\\CarLongPlateGen1205_jpg.rf.360248e40e4a179346881666aa522d72.jpg: 416x416 1 License_Plate, 7.7ms\n",
      "image 133/882 C:\\Users\\GenITeam\\Downloads\\vehicle\\test\\images\\CarLongPlateGen1216_jpg.rf.99d4c50cda9084fe163dd18c3ecc06a3.jpg: 416x416 1 License_Plate, 7.4ms\n",
      "image 134/882 C:\\Users\\GenITeam\\Downloads\\vehicle\\test\\images\\CarLongPlateGen1218_jpg.rf.b7a767136bbcc8384133fa73d48a6d7e.jpg: 416x416 1 License_Plate, 7.5ms\n",
      "image 135/882 C:\\Users\\GenITeam\\Downloads\\vehicle\\test\\images\\CarLongPlateGen1219_jpg.rf.7a5013afdf6f4b06b5426b1b60632309.jpg: 416x416 1 License_Plate, 7.6ms\n",
      "image 136/882 C:\\Users\\GenITeam\\Downloads\\vehicle\\test\\images\\CarLongPlateGen1231_jpg.rf.ac302d186f9d3f627b62d5bb27c33bbc.jpg: 416x416 1 License_Plate, 7.7ms\n",
      "image 137/882 C:\\Users\\GenITeam\\Downloads\\vehicle\\test\\images\\CarLongPlateGen1232_jpg.rf.c6c1ab042d34a8f8ca786c3580fee74f.jpg: 416x416 1 License_Plate, 7.8ms\n",
      "image 138/882 C:\\Users\\GenITeam\\Downloads\\vehicle\\test\\images\\CarLongPlateGen1245_jpg.rf.221e9704bf43d6dcfd73c245d6a63b8e.jpg: 416x416 1 License_Plate, 7.9ms\n",
      "image 139/882 C:\\Users\\GenITeam\\Downloads\\vehicle\\test\\images\\CarLongPlateGen1246_jpg.rf.9f8a88cc2de8697ad602e50015ec5c6a.jpg: 416x416 1 License_Plate, 7.3ms\n",
      "image 140/882 C:\\Users\\GenITeam\\Downloads\\vehicle\\test\\images\\CarLongPlateGen1260_jpg.rf.27303a7cad73f41e3b840d671373a783.jpg: 416x416 1 License_Plate, 7.2ms\n",
      "image 141/882 C:\\Users\\GenITeam\\Downloads\\vehicle\\test\\images\\CarLongPlateGen1264_jpg.rf.65758d73c02d5dedf050a04e423c091e.jpg: 416x416 1 License_Plate, 7.7ms\n",
      "image 142/882 C:\\Users\\GenITeam\\Downloads\\vehicle\\test\\images\\CarLongPlateGen1290_jpg.rf.4b6599f2c099bce57c217deb3bd62a40.jpg: 416x416 1 License_Plate, 8.2ms\n",
      "image 143/882 C:\\Users\\GenITeam\\Downloads\\vehicle\\test\\images\\CarLongPlateGen1300_jpg.rf.94489db93080df7be63401bd212e9584.jpg: 416x416 1 License_Plate, 7.5ms\n",
      "image 144/882 C:\\Users\\GenITeam\\Downloads\\vehicle\\test\\images\\CarLongPlateGen1334_jpg.rf.c833fc70ccc0c4cfd0892090ff394d6e.jpg: 416x416 1 License_Plate, 8.2ms\n",
      "image 145/882 C:\\Users\\GenITeam\\Downloads\\vehicle\\test\\images\\CarLongPlateGen1340_jpg.rf.3f4a419fb56281e9b7f8a6b4f51f3f02.jpg: 416x416 1 License_Plate, 12.1ms\n",
      "image 146/882 C:\\Users\\GenITeam\\Downloads\\vehicle\\test\\images\\CarLongPlateGen1346_jpg.rf.12bbdddfad8b9f087a1d0d902d8f7eb0.jpg: 416x416 1 License_Plate, 7.2ms\n",
      "image 147/882 C:\\Users\\GenITeam\\Downloads\\vehicle\\test\\images\\CarLongPlateGen1356_jpg.rf.f0b457151e2a0a31fa73ab1a45d91e55.jpg: 416x416 1 License_Plate, 7.9ms\n",
      "image 148/882 C:\\Users\\GenITeam\\Downloads\\vehicle\\test\\images\\CarLongPlateGen1365_jpg.rf.31399ae29a9a95e7eab8e9a4f1fc7e2e.jpg: 416x416 1 License_Plate, 7.6ms\n",
      "image 149/882 C:\\Users\\GenITeam\\Downloads\\vehicle\\test\\images\\CarLongPlateGen1367_jpg.rf.aab206cd942867c44e5819a98d83e472.jpg: 416x416 1 License_Plate, 7.6ms\n",
      "image 150/882 C:\\Users\\GenITeam\\Downloads\\vehicle\\test\\images\\CarLongPlateGen1379_jpg.rf.e3f3a9e07300e0a4bdbdb1d759df0e4e.jpg: 416x416 1 License_Plate, 7.8ms\n",
      "image 151/882 C:\\Users\\GenITeam\\Downloads\\vehicle\\test\\images\\CarLongPlateGen1387_jpg.rf.331926b3515d42ea359a0653dce9634f.jpg: 416x416 1 License_Plate, 7.6ms\n",
      "image 152/882 C:\\Users\\GenITeam\\Downloads\\vehicle\\test\\images\\CarLongPlateGen1398_jpg.rf.9a03f8ce8808f0d34e4be8df99d03b4e.jpg: 416x416 1 License_Plate, 7.5ms\n",
      "image 153/882 C:\\Users\\GenITeam\\Downloads\\vehicle\\test\\images\\CarLongPlateGen1412_jpg.rf.ec6fdcc784ef4983e366b71b0c6de7a6.jpg: 416x416 1 License_Plate, 7.9ms\n",
      "image 154/882 C:\\Users\\GenITeam\\Downloads\\vehicle\\test\\images\\CarLongPlateGen1417_jpg.rf.d70567510460888433cf34c0d6996841.jpg: 416x416 1 License_Plate, 7.7ms\n",
      "image 155/882 C:\\Users\\GenITeam\\Downloads\\vehicle\\test\\images\\CarLongPlateGen1427_jpg.rf.55ad4a849a79fe10b3831ebe45448094.jpg: 416x416 1 License_Plate, 7.2ms\n",
      "image 156/882 C:\\Users\\GenITeam\\Downloads\\vehicle\\test\\images\\CarLongPlateGen1430_jpg.rf.8085332b7c0f4ba51676a959ff756c5a.jpg: 416x416 1 License_Plate, 7.5ms\n",
      "image 157/882 C:\\Users\\GenITeam\\Downloads\\vehicle\\test\\images\\CarLongPlateGen1438_jpg.rf.bb153ce104fce310c42e42a6dcbef14b.jpg: 416x416 1 License_Plate, 7.5ms\n",
      "image 158/882 C:\\Users\\GenITeam\\Downloads\\vehicle\\test\\images\\CarLongPlateGen1446_jpg.rf.a508e690e5c34a25682036f65089b135.jpg: 416x416 1 License_Plate, 7.6ms\n",
      "image 159/882 C:\\Users\\GenITeam\\Downloads\\vehicle\\test\\images\\CarLongPlateGen1447_jpg.rf.9dd022ab5bd9566b8b5f6bd462bd969f.jpg: 416x416 1 License_Plate, 7.6ms\n",
      "image 160/882 C:\\Users\\GenITeam\\Downloads\\vehicle\\test\\images\\CarLongPlateGen1453_jpg.rf.55bbb2e72743f4060c3359a58d359334.jpg: 416x416 1 License_Plate, 7.4ms\n",
      "image 161/882 C:\\Users\\GenITeam\\Downloads\\vehicle\\test\\images\\CarLongPlateGen145_jpg.rf.14968db59791d59f4ed1b130d526b3cf.jpg: 416x416 1 License_Plate, 7.2ms\n",
      "image 162/882 C:\\Users\\GenITeam\\Downloads\\vehicle\\test\\images\\CarLongPlateGen146_jpg.rf.8e7b2efa951a0d09ba58f5a035bc20f7.jpg: 416x416 1 License_Plate, 7.8ms\n",
      "image 163/882 C:\\Users\\GenITeam\\Downloads\\vehicle\\test\\images\\CarLongPlateGen1471_jpg.rf.9c1bebc87cff1585c9470c0698068e17.jpg: 416x416 1 License_Plate, 7.5ms\n",
      "image 164/882 C:\\Users\\GenITeam\\Downloads\\vehicle\\test\\images\\CarLongPlateGen1478_jpg.rf.0a0d1f982cc1dbbabc7283af18ac1392.jpg: 416x416 1 License_Plate, 7.4ms\n",
      "image 165/882 C:\\Users\\GenITeam\\Downloads\\vehicle\\test\\images\\CarLongPlateGen1479_jpg.rf.cdb5d23ea6fc563c8ebcc5ee1b6d67f1.jpg: 416x416 1 License_Plate, 7.8ms\n",
      "image 166/882 C:\\Users\\GenITeam\\Downloads\\vehicle\\test\\images\\CarLongPlateGen1483_jpg.rf.a08a4fa14d77509c01c4f9e00433ed47.jpg: 416x416 1 License_Plate, 7.4ms\n",
      "image 167/882 C:\\Users\\GenITeam\\Downloads\\vehicle\\test\\images\\CarLongPlateGen1487_jpg.rf.8e5f2e373344748f0549c4589106034f.jpg: 416x416 1 License_Plate, 11.5ms\n",
      "image 168/882 C:\\Users\\GenITeam\\Downloads\\vehicle\\test\\images\\CarLongPlateGen1490_jpg.rf.791ca78a360baea634e2f072ef040dff.jpg: 416x416 1 License_Plate, 7.6ms\n",
      "image 169/882 C:\\Users\\GenITeam\\Downloads\\vehicle\\test\\images\\CarLongPlateGen1498_jpg.rf.b2b96971b17c1514d81109ca9d5a1d33.jpg: 416x416 1 License_Plate, 7.5ms\n",
      "image 170/882 C:\\Users\\GenITeam\\Downloads\\vehicle\\test\\images\\CarLongPlateGen149_jpg.rf.52d96f4a06b1e54c33dd9552630baf76.jpg: 416x416 1 License_Plate, 7.4ms\n",
      "image 171/882 C:\\Users\\GenITeam\\Downloads\\vehicle\\test\\images\\CarLongPlateGen14_jpg.rf.c2111bcd18b9987c0ef1df47251aaf23.jpg: 416x416 1 License_Plate, 7.8ms\n",
      "image 172/882 C:\\Users\\GenITeam\\Downloads\\vehicle\\test\\images\\CarLongPlateGen1509_jpg.rf.a478f6a4740d6f028f91a4c56044a153.jpg: 416x416 1 License_Plate, 7.3ms\n",
      "image 173/882 C:\\Users\\GenITeam\\Downloads\\vehicle\\test\\images\\CarLongPlateGen1512_jpg.rf.a5f62e1c4d461910326894325ff150b0.jpg: 416x416 1 License_Plate, 7.5ms\n",
      "image 174/882 C:\\Users\\GenITeam\\Downloads\\vehicle\\test\\images\\CarLongPlateGen1524_jpg.rf.2fc453291732d219bace24e04786898e.jpg: 416x416 1 License_Plate, 7.8ms\n",
      "image 175/882 C:\\Users\\GenITeam\\Downloads\\vehicle\\test\\images\\CarLongPlateGen1533_jpg.rf.f6d69655f165c18448f3abefa7b93c20.jpg: 416x416 1 License_Plate, 7.7ms\n",
      "image 176/882 C:\\Users\\GenITeam\\Downloads\\vehicle\\test\\images\\CarLongPlateGen1540_jpg.rf.c8bbc21b82e8ee133b8c27faf0b146c1.jpg: 416x416 1 License_Plate, 7.4ms\n",
      "image 177/882 C:\\Users\\GenITeam\\Downloads\\vehicle\\test\\images\\CarLongPlateGen1544_jpg.rf.65d998908d9a79a27cb0e8cc8a123311.jpg: 416x416 1 License_Plate, 12.0ms\n",
      "image 178/882 C:\\Users\\GenITeam\\Downloads\\vehicle\\test\\images\\CarLongPlateGen1557_jpg.rf.e3e106039006f24bea61a0669237659d.jpg: 416x416 1 License_Plate, 7.6ms\n",
      "image 179/882 C:\\Users\\GenITeam\\Downloads\\vehicle\\test\\images\\CarLongPlateGen1561_jpg.rf.790eb2cbe59c3e5c6e7379609c240ad7.jpg: 416x416 1 License_Plate, 7.4ms\n",
      "image 180/882 C:\\Users\\GenITeam\\Downloads\\vehicle\\test\\images\\CarLongPlateGen1565_jpg.rf.96d03580a2be7e4807dea87245759484.jpg: 416x416 1 License_Plate, 7.5ms\n",
      "image 181/882 C:\\Users\\GenITeam\\Downloads\\vehicle\\test\\images\\CarLongPlateGen1570_jpg.rf.90e9633b4420821eee44767b09621318.jpg: 416x416 1 License_Plate, 7.9ms\n",
      "image 182/882 C:\\Users\\GenITeam\\Downloads\\vehicle\\test\\images\\CarLongPlateGen1574_jpg.rf.3828c2db2ccf132bea586a15cb3fcfca.jpg: 416x416 1 License_Plate, 10.4ms\n",
      "image 183/882 C:\\Users\\GenITeam\\Downloads\\vehicle\\test\\images\\CarLongPlateGen1592_jpg.rf.a46e9ffbe8978785644966df3cd5114e.jpg: 416x416 1 License_Plate, 7.4ms\n",
      "image 184/882 C:\\Users\\GenITeam\\Downloads\\vehicle\\test\\images\\CarLongPlateGen160_jpg.rf.dd3e1172077f5c5cae9cad27c8f89d5e.jpg: 416x416 1 License_Plate, 7.8ms\n",
      "image 185/882 C:\\Users\\GenITeam\\Downloads\\vehicle\\test\\images\\CarLongPlateGen1612_jpg.rf.4a44e7226475a00c76e2adf3a8bac403.jpg: 416x416 1 License_Plate, 9.5ms\n",
      "image 186/882 C:\\Users\\GenITeam\\Downloads\\vehicle\\test\\images\\CarLongPlateGen1618_jpg.rf.62b600b065528a5e197150a9058f3cd3.jpg: 416x416 1 License_Plate, 7.8ms\n",
      "image 187/882 C:\\Users\\GenITeam\\Downloads\\vehicle\\test\\images\\CarLongPlateGen1627_jpg.rf.9171490f8d5473b52e975270a730698f.jpg: 416x416 1 License_Plate, 12.3ms\n",
      "image 188/882 C:\\Users\\GenITeam\\Downloads\\vehicle\\test\\images\\CarLongPlateGen1634_jpg.rf.6d82d1cb9d2a04d9a6e97b1b8a129af3.jpg: 416x416 1 License_Plate, 7.3ms\n",
      "image 189/882 C:\\Users\\GenITeam\\Downloads\\vehicle\\test\\images\\CarLongPlateGen1636_jpg.rf.3395f4da0114b8462be467e7a343e67c.jpg: 416x416 1 License_Plate, 7.4ms\n",
      "image 190/882 C:\\Users\\GenITeam\\Downloads\\vehicle\\test\\images\\CarLongPlateGen1639_jpg.rf.2053cb338e7b32fcfc70d38292706854.jpg: 416x416 1 License_Plate, 8.1ms\n",
      "image 191/882 C:\\Users\\GenITeam\\Downloads\\vehicle\\test\\images\\CarLongPlateGen1645_jpg.rf.311594d31193b45b2bf3c841d7b21cc8.jpg: 416x416 1 License_Plate, 7.7ms\n",
      "image 192/882 C:\\Users\\GenITeam\\Downloads\\vehicle\\test\\images\\CarLongPlateGen1674_jpg.rf.3240ecd745444759a79d5192301b9ca3.jpg: 416x416 1 License_Plate, 7.6ms\n",
      "image 193/882 C:\\Users\\GenITeam\\Downloads\\vehicle\\test\\images\\CarLongPlateGen1689_jpg.rf.92390ccd3da00fa5eb7472005fee40c7.jpg: 416x416 1 License_Plate, 7.6ms\n",
      "image 194/882 C:\\Users\\GenITeam\\Downloads\\vehicle\\test\\images\\CarLongPlateGen1698_jpg.rf.cbb7fcabf4450f3af06c6ae12f48c9fa.jpg: 416x416 1 License_Plate, 7.7ms\n",
      "image 195/882 C:\\Users\\GenITeam\\Downloads\\vehicle\\test\\images\\CarLongPlateGen1704_jpg.rf.57ab8c0f1ab69a8225ce1482f9c3914e.jpg: 416x416 1 License_Plate, 7.6ms\n",
      "image 196/882 C:\\Users\\GenITeam\\Downloads\\vehicle\\test\\images\\CarLongPlateGen1711_jpg.rf.f4f25475e4e699f52d434d1914dcabc7.jpg: 416x416 1 License_Plate, 7.5ms\n",
      "image 197/882 C:\\Users\\GenITeam\\Downloads\\vehicle\\test\\images\\CarLongPlateGen1720_jpg.rf.1f98a681dda01c8e4e60a686bff0a7f3.jpg: 416x416 1 License_Plate, 7.2ms\n",
      "image 198/882 C:\\Users\\GenITeam\\Downloads\\vehicle\\test\\images\\CarLongPlateGen1740_jpg.rf.46c9dd56f257d8d3122482651c92d95a.jpg: 416x416 1 License_Plate, 7.3ms\n",
      "image 199/882 C:\\Users\\GenITeam\\Downloads\\vehicle\\test\\images\\CarLongPlateGen1747_jpg.rf.b320747f62f2fa5a6a5d638eccd42286.jpg: 416x416 1 License_Plate, 7.8ms\n",
      "image 200/882 C:\\Users\\GenITeam\\Downloads\\vehicle\\test\\images\\CarLongPlateGen1766_jpg.rf.de3b6c2b597adaca02fa203be8dca765.jpg: 416x416 1 License_Plate, 7.4ms\n",
      "image 201/882 C:\\Users\\GenITeam\\Downloads\\vehicle\\test\\images\\CarLongPlateGen1770_jpg.rf.b0c37351f545cd401783337d30e5ad42.jpg: 416x416 1 License_Plate, 7.3ms\n",
      "image 202/882 C:\\Users\\GenITeam\\Downloads\\vehicle\\test\\images\\CarLongPlateGen1773_jpg.rf.80e861541fcf3c2070cf58075de96c96.jpg: 416x416 1 License_Plate, 7.3ms\n",
      "image 203/882 C:\\Users\\GenITeam\\Downloads\\vehicle\\test\\images\\CarLongPlateGen1785_jpg.rf.3cf4c305e28050012a1f01c13175362d.jpg: 416x416 1 License_Plate, 7.4ms\n",
      "image 204/882 C:\\Users\\GenITeam\\Downloads\\vehicle\\test\\images\\CarLongPlateGen1789_jpg.rf.9f4d87bfbbea9f8a24de236a0962c956.jpg: 416x416 1 License_Plate, 7.4ms\n",
      "image 205/882 C:\\Users\\GenITeam\\Downloads\\vehicle\\test\\images\\CarLongPlateGen1795_jpg.rf.236ebcc3041438810ca9832ede8e5587.jpg: 416x416 1 License_Plate, 7.8ms\n",
      "image 206/882 C:\\Users\\GenITeam\\Downloads\\vehicle\\test\\images\\CarLongPlateGen1802_jpg.rf.7ff89f1e3f614d37e45844daff1d8703.jpg: 416x416 1 License_Plate, 7.5ms\n",
      "image 207/882 C:\\Users\\GenITeam\\Downloads\\vehicle\\test\\images\\CarLongPlateGen1812_jpg.rf.ec45fcfbe2a200f69ba9ff25572d545e.jpg: 416x416 1 License_Plate, 7.3ms\n",
      "image 208/882 C:\\Users\\GenITeam\\Downloads\\vehicle\\test\\images\\CarLongPlateGen1824_jpg.rf.d9979293f4e5b5617acee7523d66c261.jpg: 416x416 1 License_Plate, 7.5ms\n",
      "image 209/882 C:\\Users\\GenITeam\\Downloads\\vehicle\\test\\images\\CarLongPlateGen1846_jpg.rf.2accf6f1e248fd2a88fe1e0de666db0a.jpg: 416x416 1 License_Plate, 7.4ms\n",
      "image 210/882 C:\\Users\\GenITeam\\Downloads\\vehicle\\test\\images\\CarLongPlateGen1849_jpg.rf.befaa9221fd7aa27941c3bf4e140b0e5.jpg: 416x416 1 License_Plate, 7.4ms\n",
      "image 211/882 C:\\Users\\GenITeam\\Downloads\\vehicle\\test\\images\\CarLongPlateGen1850_jpg.rf.52a83fd74dae17a421fa1d9f21b6110f.jpg: 416x416 1 License_Plate, 7.3ms\n",
      "image 212/882 C:\\Users\\GenITeam\\Downloads\\vehicle\\test\\images\\CarLongPlateGen1856_jpg.rf.0284e407b573450f914943562056cebe.jpg: 416x416 1 License_Plate, 7.8ms\n",
      "image 213/882 C:\\Users\\GenITeam\\Downloads\\vehicle\\test\\images\\CarLongPlateGen1862_jpg.rf.01fc7f362b537a82e3c71c9d9de5dfdf.jpg: 416x416 1 License_Plate, 7.8ms\n",
      "image 214/882 C:\\Users\\GenITeam\\Downloads\\vehicle\\test\\images\\CarLongPlateGen1872_jpg.rf.4f353d3115d9f53ec9f992cf3f6c5800.jpg: 416x416 1 License_Plate, 7.6ms\n",
      "image 215/882 C:\\Users\\GenITeam\\Downloads\\vehicle\\test\\images\\CarLongPlateGen1887_jpg.rf.63ea7c65a79a9e2621ec82a2438265d3.jpg: 416x416 1 License_Plate, 11.3ms\n",
      "image 216/882 C:\\Users\\GenITeam\\Downloads\\vehicle\\test\\images\\CarLongPlateGen1888_jpg.rf.845555a9b658eb24c98ed2a1b85ffaba.jpg: 416x416 1 License_Plate, 8.7ms\n",
      "image 217/882 C:\\Users\\GenITeam\\Downloads\\vehicle\\test\\images\\CarLongPlateGen190_jpg.rf.2c222045880882c63be687ab786015de.jpg: 416x416 1 License_Plate, 9.8ms\n",
      "image 218/882 C:\\Users\\GenITeam\\Downloads\\vehicle\\test\\images\\CarLongPlateGen1911_jpg.rf.550ec906178bdbf3d6ce1f71b17733ca.jpg: 416x416 1 License_Plate, 13.2ms\n",
      "image 219/882 C:\\Users\\GenITeam\\Downloads\\vehicle\\test\\images\\CarLongPlateGen1916_jpg.rf.dbe1eb6fa6c7f72ce9afb4fb3ea776b9.jpg: 416x416 1 License_Plate, 8.1ms\n",
      "image 220/882 C:\\Users\\GenITeam\\Downloads\\vehicle\\test\\images\\CarLongPlateGen1918_jpg.rf.bb2c042d4a37a21bfaef880b883b026e.jpg: 416x416 1 License_Plate, 8.3ms\n",
      "image 221/882 C:\\Users\\GenITeam\\Downloads\\vehicle\\test\\images\\CarLongPlateGen1932_jpg.rf.424c7cc65b1919722255806a6b5456c6.jpg: 416x416 1 License_Plate, 7.7ms\n",
      "image 222/882 C:\\Users\\GenITeam\\Downloads\\vehicle\\test\\images\\CarLongPlateGen1943_jpg.rf.f271517b55c08949554a11f968a559d0.jpg: 416x416 1 License_Plate, 7.6ms\n",
      "image 223/882 C:\\Users\\GenITeam\\Downloads\\vehicle\\test\\images\\CarLongPlateGen1953_jpg.rf.2be9ee2650c336c08803059de6940fc2.jpg: 416x416 1 License_Plate, 7.5ms\n",
      "image 224/882 C:\\Users\\GenITeam\\Downloads\\vehicle\\test\\images\\CarLongPlateGen1973_jpg.rf.6d23962bc05071559cd0d8221c628606.jpg: 416x416 1 License_Plate, 7.4ms\n",
      "image 225/882 C:\\Users\\GenITeam\\Downloads\\vehicle\\test\\images\\CarLongPlateGen1974_jpg.rf.227e0f443c4e34a7378f257fde8878c3.jpg: 416x416 1 License_Plate, 7.6ms\n",
      "image 226/882 C:\\Users\\GenITeam\\Downloads\\vehicle\\test\\images\\CarLongPlateGen1982_jpg.rf.33e0fee3170d19605b0c0521a3aeadc9.jpg: 416x416 1 License_Plate, 8.0ms\n",
      "image 227/882 C:\\Users\\GenITeam\\Downloads\\vehicle\\test\\images\\CarLongPlateGen1994_jpg.rf.892a01a8b17f1225ec030baeb8211bde.jpg: 416x416 1 License_Plate, 7.4ms\n",
      "image 228/882 C:\\Users\\GenITeam\\Downloads\\vehicle\\test\\images\\CarLongPlateGen2007_jpg.rf.dbf23793da0420b774004a730b1fbf4d.jpg: 416x416 1 License_Plate, 7.4ms\n",
      "image 229/882 C:\\Users\\GenITeam\\Downloads\\vehicle\\test\\images\\CarLongPlateGen2016_jpg.rf.4085fce2797aa4fcc2dcb0a3470ffd8c.jpg: 416x416 1 License_Plate, 7.9ms\n",
      "image 230/882 C:\\Users\\GenITeam\\Downloads\\vehicle\\test\\images\\CarLongPlateGen2028_jpg.rf.64bae5b3c4569cb5bbcf4e2b3d8cad81.jpg: 416x416 1 License_Plate, 7.7ms\n",
      "image 231/882 C:\\Users\\GenITeam\\Downloads\\vehicle\\test\\images\\CarLongPlateGen2038_jpg.rf.99c30fa3fad5fb643289e96122fbdfb7.jpg: 416x416 1 License_Plate, 7.6ms\n",
      "image 232/882 C:\\Users\\GenITeam\\Downloads\\vehicle\\test\\images\\CarLongPlateGen2040_jpg.rf.077558d5266f4f71154ec447f5154c21.jpg: 416x416 1 License_Plate, 7.4ms\n",
      "image 233/882 C:\\Users\\GenITeam\\Downloads\\vehicle\\test\\images\\CarLongPlateGen204_jpg.rf.95d4885720fe7b5179d7179ad4df0fa8.jpg: 416x416 1 License_Plate, 7.4ms\n",
      "image 234/882 C:\\Users\\GenITeam\\Downloads\\vehicle\\test\\images\\CarLongPlateGen2068_jpg.rf.d918d09567148acd7fd888b4ed2b7c8a.jpg: 416x416 1 License_Plate, 7.4ms\n",
      "image 235/882 C:\\Users\\GenITeam\\Downloads\\vehicle\\test\\images\\CarLongPlateGen2072_jpg.rf.6eccbf705cd11870db70533b8fac2097.jpg: 416x416 1 License_Plate, 7.8ms\n",
      "image 236/882 C:\\Users\\GenITeam\\Downloads\\vehicle\\test\\images\\CarLongPlateGen2094_jpg.rf.a2c1d6c960d94087f924c6710446cfda.jpg: 416x416 1 License_Plate, 7.4ms\n",
      "image 237/882 C:\\Users\\GenITeam\\Downloads\\vehicle\\test\\images\\CarLongPlateGen209_jpg.rf.31f77148ae389814a92145905125a5e4.jpg: 416x416 1 License_Plate, 7.4ms\n",
      "image 238/882 C:\\Users\\GenITeam\\Downloads\\vehicle\\test\\images\\CarLongPlateGen2102_jpg.rf.910be76226440216d8fdf95124d9a5b1.jpg: 416x416 1 License_Plate, 8.1ms\n",
      "image 239/882 C:\\Users\\GenITeam\\Downloads\\vehicle\\test\\images\\CarLongPlateGen2108_jpg.rf.0785d460fa14d46dbe7031350384bc52.jpg: 416x416 1 License_Plate, 10.1ms\n",
      "image 240/882 C:\\Users\\GenITeam\\Downloads\\vehicle\\test\\images\\CarLongPlateGen2113_jpg.rf.c37680469e7967450bcd90b80d8a52cc.jpg: 416x416 1 License_Plate, 7.3ms\n",
      "image 241/882 C:\\Users\\GenITeam\\Downloads\\vehicle\\test\\images\\CarLongPlateGen2117_jpg.rf.1b30472ebc2a77ba3dc2c4018fdb82bd.jpg: 416x416 1 License_Plate, 7.4ms\n",
      "image 242/882 C:\\Users\\GenITeam\\Downloads\\vehicle\\test\\images\\CarLongPlateGen2122_jpg.rf.35583d784bda07da48d23fd6180e81b9.jpg: 416x416 1 License_Plate, 7.7ms\n",
      "image 243/882 C:\\Users\\GenITeam\\Downloads\\vehicle\\test\\images\\CarLongPlateGen2126_jpg.rf.21df767003387ab39c2038b16044b398.jpg: 416x416 1 License_Plate, 7.2ms\n",
      "image 244/882 C:\\Users\\GenITeam\\Downloads\\vehicle\\test\\images\\CarLongPlateGen2146_jpg.rf.5420cb0b5a6ee2506c706d23d8749a50.jpg: 416x416 1 License_Plate, 7.4ms\n",
      "image 245/882 C:\\Users\\GenITeam\\Downloads\\vehicle\\test\\images\\CarLongPlateGen2150_jpg.rf.835b3e6ab21b3d6d660fa9cfe33d2c52.jpg: 416x416 1 License_Plate, 7.9ms\n",
      "image 246/882 C:\\Users\\GenITeam\\Downloads\\vehicle\\test\\images\\CarLongPlateGen2162_jpg.rf.6f135a07d6a452cea11c55ecf948c378.jpg: 416x416 1 License_Plate, 7.5ms\n",
      "image 247/882 C:\\Users\\GenITeam\\Downloads\\vehicle\\test\\images\\CarLongPlateGen216_jpg.rf.084134b8e3384de2a9312a059bcbd061.jpg: 416x416 1 License_Plate, 7.5ms\n",
      "image 248/882 C:\\Users\\GenITeam\\Downloads\\vehicle\\test\\images\\CarLongPlateGen2183_jpg.rf.5da8dd7d29248eafb13c7a862a0184d7.jpg: 416x416 1 License_Plate, 7.5ms\n",
      "image 249/882 C:\\Users\\GenITeam\\Downloads\\vehicle\\test\\images\\CarLongPlateGen2196_jpg.rf.1b32f46f1d4b522a12e8f6fbc746e8e4.jpg: 416x416 1 License_Plate, 7.9ms\n",
      "image 250/882 C:\\Users\\GenITeam\\Downloads\\vehicle\\test\\images\\CarLongPlateGen2197_jpg.rf.e8aede42a5c90925369237607a4149d3.jpg: 416x416 1 License_Plate, 7.7ms\n",
      "image 251/882 C:\\Users\\GenITeam\\Downloads\\vehicle\\test\\images\\CarLongPlateGen2212_jpg.rf.d19a4fa05353121e1042bf81fb474719.jpg: 416x416 1 License_Plate, 7.5ms\n",
      "image 252/882 C:\\Users\\GenITeam\\Downloads\\vehicle\\test\\images\\CarLongPlateGen2217_jpg.rf.5133de8fdfbffa37dcfcf1d6629ed2d0.jpg: 416x416 1 License_Plate, 7.4ms\n",
      "image 253/882 C:\\Users\\GenITeam\\Downloads\\vehicle\\test\\images\\CarLongPlateGen2231_jpg.rf.3197f15037fb97ea5ee340f6b8b1d7bb.jpg: 416x416 1 License_Plate, 12.0ms\n",
      "image 254/882 C:\\Users\\GenITeam\\Downloads\\vehicle\\test\\images\\CarLongPlateGen2237_jpg.rf.382da353c9e727d9357d6900abe3aa90.jpg: 416x416 1 License_Plate, 7.5ms\n",
      "image 255/882 C:\\Users\\GenITeam\\Downloads\\vehicle\\test\\images\\CarLongPlateGen2239_jpg.rf.de543ae1e3658d3e983a1572709ef08f.jpg: 416x416 1 License_Plate, 7.3ms\n",
      "image 256/882 C:\\Users\\GenITeam\\Downloads\\vehicle\\test\\images\\CarLongPlateGen2258_jpg.rf.758d81d70d477692734dff2bf81a05f1.jpg: 416x416 1 License_Plate, 7.5ms\n",
      "image 257/882 C:\\Users\\GenITeam\\Downloads\\vehicle\\test\\images\\CarLongPlateGen2268_jpg.rf.eff9f65e073ace2c69a4f54b1a4e7bb7.jpg: 416x416 1 License_Plate, 7.4ms\n",
      "image 258/882 C:\\Users\\GenITeam\\Downloads\\vehicle\\test\\images\\CarLongPlateGen2280_jpg.rf.819fd1d93d48e31f3df61d5fa79c6e18.jpg: 416x416 1 License_Plate, 7.4ms\n",
      "image 259/882 C:\\Users\\GenITeam\\Downloads\\vehicle\\test\\images\\CarLongPlateGen2296_jpg.rf.dab9918c520b98202b11f595ddad9bd4.jpg: 416x416 1 License_Plate, 7.7ms\n",
      "image 260/882 C:\\Users\\GenITeam\\Downloads\\vehicle\\test\\images\\CarLongPlateGen229_jpg.rf.5ddba7928cc4deca8d2b2208cc6a2661.jpg: 416x416 1 License_Plate, 11.7ms\n",
      "image 261/882 C:\\Users\\GenITeam\\Downloads\\vehicle\\test\\images\\CarLongPlateGen2302_jpg.rf.d79c38c9977836c071e7bedaa2878719.jpg: 416x416 1 License_Plate, 7.4ms\n",
      "image 262/882 C:\\Users\\GenITeam\\Downloads\\vehicle\\test\\images\\CarLongPlateGen2304_jpg.rf.515d6e95522d4438b7f1170327d7d26c.jpg: 416x416 1 License_Plate, 7.4ms\n",
      "image 263/882 C:\\Users\\GenITeam\\Downloads\\vehicle\\test\\images\\CarLongPlateGen2310_jpg.rf.6fb2e951ddadc37a8498947e3c8436bf.jpg: 416x416 1 License_Plate, 7.8ms\n",
      "image 264/882 C:\\Users\\GenITeam\\Downloads\\vehicle\\test\\images\\CarLongPlateGen2323_jpg.rf.36cc6d9c1f4a25b82bc5802afc54a342.jpg: 416x416 1 License_Plate, 11.9ms\n",
      "image 265/882 C:\\Users\\GenITeam\\Downloads\\vehicle\\test\\images\\CarLongPlateGen2328_jpg.rf.4c8a799a19fa1fd1ff7994bbb4b22208.jpg: 416x416 1 License_Plate, 7.3ms\n",
      "image 266/882 C:\\Users\\GenITeam\\Downloads\\vehicle\\test\\images\\CarLongPlateGen2333_jpg.rf.ec7261835302595320b3978bc8a169a2.jpg: 416x416 1 License_Plate, 7.3ms\n",
      "image 267/882 C:\\Users\\GenITeam\\Downloads\\vehicle\\test\\images\\CarLongPlateGen2350_jpg.rf.b884a1d40353953305e7cb5f1aeae164.jpg: 416x416 1 License_Plate, 7.8ms\n",
      "image 268/882 C:\\Users\\GenITeam\\Downloads\\vehicle\\test\\images\\CarLongPlateGen2353_jpg.rf.d75c8193f78cbdff883c3590820b0041.jpg: 416x416 1 License_Plate, 7.9ms\n",
      "image 269/882 C:\\Users\\GenITeam\\Downloads\\vehicle\\test\\images\\CarLongPlateGen2356_jpg.rf.634f75d2a008eb44ca08f9d013ddff93.jpg: 416x416 1 License_Plate, 7.6ms\n",
      "image 270/882 C:\\Users\\GenITeam\\Downloads\\vehicle\\test\\images\\CarLongPlateGen2379_jpg.rf.5844f2cb205fabc043a2d434e2cbc91f.jpg: 416x416 1 License_Plate, 7.2ms\n",
      "image 271/882 C:\\Users\\GenITeam\\Downloads\\vehicle\\test\\images\\CarLongPlateGen2381_jpg.rf.2cbdaf64c4248637e2c713b79de21ca9.jpg: 416x416 1 License_Plate, 7.4ms\n",
      "image 272/882 C:\\Users\\GenITeam\\Downloads\\vehicle\\test\\images\\CarLongPlateGen2410_jpg.rf.f1d5f9db4cc50f4e8b5d647d56421d88.jpg: 416x416 1 License_Plate, 7.8ms\n",
      "image 273/882 C:\\Users\\GenITeam\\Downloads\\vehicle\\test\\images\\CarLongPlateGen2439_jpg.rf.f9ebbd4f457b28a8fd9a2a3dfee0a708.jpg: 416x416 1 License_Plate, 7.7ms\n",
      "image 274/882 C:\\Users\\GenITeam\\Downloads\\vehicle\\test\\images\\CarLongPlateGen2458_jpg.rf.d1dfd369ba1acd1ae9f2f70f6a47ff9f.jpg: 416x416 1 License_Plate, 7.4ms\n",
      "image 275/882 C:\\Users\\GenITeam\\Downloads\\vehicle\\test\\images\\CarLongPlateGen248_jpg.rf.b7218393b17bb859feee4bef3bbb3bae.jpg: 416x416 1 License_Plate, 7.5ms\n",
      "image 276/882 C:\\Users\\GenITeam\\Downloads\\vehicle\\test\\images\\CarLongPlateGen2492_jpg.rf.1d8bf3c4537a28615518f1326f1ac5f7.jpg: 416x416 1 License_Plate, 7.9ms\n",
      "image 277/882 C:\\Users\\GenITeam\\Downloads\\vehicle\\test\\images\\CarLongPlateGen2508_jpg.rf.ab7bcd7d186e0b50b777c3a062b168b6.jpg: 416x416 1 License_Plate, 7.7ms\n",
      "image 278/882 C:\\Users\\GenITeam\\Downloads\\vehicle\\test\\images\\CarLongPlateGen2522_jpg.rf.7e7ea11afbac21baa028672ceb17805d.jpg: 416x416 1 License_Plate, 7.5ms\n",
      "image 279/882 C:\\Users\\GenITeam\\Downloads\\vehicle\\test\\images\\CarLongPlateGen255_jpg.rf.4fd89ca9ce67209ac26eb38c994bc204.jpg: 416x416 1 License_Plate, 7.6ms\n",
      "image 280/882 C:\\Users\\GenITeam\\Downloads\\vehicle\\test\\images\\CarLongPlateGen2577_jpg.rf.8877eaacb13b60dba92f64ae99381367.jpg: 416x416 1 License_Plate, 7.4ms\n",
      "image 281/882 C:\\Users\\GenITeam\\Downloads\\vehicle\\test\\images\\CarLongPlateGen2586_jpg.rf.c56dc2844d6b9339ea11b73ed364deb9.jpg: 416x416 1 License_Plate, 7.3ms\n",
      "image 282/882 C:\\Users\\GenITeam\\Downloads\\vehicle\\test\\images\\CarLongPlateGen2591_jpg.rf.48d3864b9a2021a5e4cdc2d53a98670b.jpg: 416x416 1 License_Plate, 7.8ms\n",
      "image 283/882 C:\\Users\\GenITeam\\Downloads\\vehicle\\test\\images\\CarLongPlateGen2595_jpg.rf.9409fe08727f0027649a9e07a6f77296.jpg: 416x416 1 License_Plate, 7.7ms\n",
      "image 284/882 C:\\Users\\GenITeam\\Downloads\\vehicle\\test\\images\\CarLongPlateGen2601_jpg.rf.e33ae0c1d6f77ecd3cc09602ddd4d598.jpg: 416x416 1 License_Plate, 7.9ms\n",
      "image 285/882 C:\\Users\\GenITeam\\Downloads\\vehicle\\test\\images\\CarLongPlateGen2602_jpg.rf.f98c8a931dda43dcbaf991bf582b0add.jpg: 416x416 1 License_Plate, 7.5ms\n",
      "image 286/882 C:\\Users\\GenITeam\\Downloads\\vehicle\\test\\images\\CarLongPlateGen2611_jpg.rf.644a0721ad24a8f5272b68f1a99bcb85.jpg: 416x416 1 License_Plate, 7.4ms\n",
      "image 287/882 C:\\Users\\GenITeam\\Downloads\\vehicle\\test\\images\\CarLongPlateGen2622_jpg.rf.adba8f67d5186a2230b1adc252d22086.jpg: 416x416 1 License_Plate, 7.6ms\n",
      "image 288/882 C:\\Users\\GenITeam\\Downloads\\vehicle\\test\\images\\CarLongPlateGen2648_jpg.rf.695af5646bdbef63767b44c4c343eb4e.jpg: 416x416 1 License_Plate, 12.7ms\n",
      "image 289/882 C:\\Users\\GenITeam\\Downloads\\vehicle\\test\\images\\CarLongPlateGen2649_jpg.rf.759be5c051e732208750ff05326fdb8b.jpg: 416x416 1 License_Plate, 8.3ms\n",
      "image 290/882 C:\\Users\\GenITeam\\Downloads\\vehicle\\test\\images\\CarLongPlateGen2651_jpg.rf.c6ddae47c0876793533f2dc186e1049e.jpg: 416x416 1 License_Plate, 7.4ms\n",
      "image 291/882 C:\\Users\\GenITeam\\Downloads\\vehicle\\test\\images\\CarLongPlateGen2653_jpg.rf.b8a0e41bc22e4206a3f68ed2ec26ac87.jpg: 416x416 1 License_Plate, 7.5ms\n",
      "image 292/882 C:\\Users\\GenITeam\\Downloads\\vehicle\\test\\images\\CarLongPlateGen2671_jpg.rf.6017efeb0264f4468b15a91880101227.jpg: 416x416 1 License_Plate, 7.4ms\n",
      "image 293/882 C:\\Users\\GenITeam\\Downloads\\vehicle\\test\\images\\CarLongPlateGen2673_jpg.rf.ac1f96026d99ff913237a6e504c7a6b6.jpg: 416x416 1 License_Plate, 7.4ms\n",
      "image 294/882 C:\\Users\\GenITeam\\Downloads\\vehicle\\test\\images\\CarLongPlateGen267_jpg.rf.28a544b30eeecf124002fc05fe636bdd.jpg: 416x416 1 License_Plate, 7.9ms\n",
      "image 295/882 C:\\Users\\GenITeam\\Downloads\\vehicle\\test\\images\\CarLongPlateGen2690_jpg.rf.ab55eeaa1b805f67a3c17475833703b3.jpg: 416x416 1 License_Plate, 9.1ms\n",
      "image 296/882 C:\\Users\\GenITeam\\Downloads\\vehicle\\test\\images\\CarLongPlateGen2694_jpg.rf.f7debb3ffbbd694638a665dd63547b8f.jpg: 416x416 1 License_Plate, 8.1ms\n",
      "image 297/882 C:\\Users\\GenITeam\\Downloads\\vehicle\\test\\images\\CarLongPlateGen2695_jpg.rf.7e621cb1a56256983056aa77c5e33783.jpg: 416x416 1 License_Plate, 7.9ms\n",
      "image 298/882 C:\\Users\\GenITeam\\Downloads\\vehicle\\test\\images\\CarLongPlateGen269_jpg.rf.323fd3da67559d98d6a21a437f4829ef.jpg: 416x416 1 License_Plate, 7.5ms\n",
      "image 299/882 C:\\Users\\GenITeam\\Downloads\\vehicle\\test\\images\\CarLongPlateGen2711_jpg.rf.d2528a51e09bcc27106be206030b812e.jpg: 416x416 1 License_Plate, 11.7ms\n",
      "image 300/882 C:\\Users\\GenITeam\\Downloads\\vehicle\\test\\images\\CarLongPlateGen2729_jpg.rf.5aa31494f6eb1ebe217e26fd4ce4e6c4.jpg: 416x416 1 License_Plate, 7.9ms\n",
      "image 301/882 C:\\Users\\GenITeam\\Downloads\\vehicle\\test\\images\\CarLongPlateGen2733_jpg.rf.a55d2f5972a88a9d700bcfe9b7ef8b54.jpg: 416x416 1 License_Plate, 7.6ms\n",
      "image 302/882 C:\\Users\\GenITeam\\Downloads\\vehicle\\test\\images\\CarLongPlateGen2735_jpg.rf.2f0e6aa83ac5c6da4ef3bf579552a94a.jpg: 416x416 1 License_Plate, 7.4ms\n",
      "image 303/882 C:\\Users\\GenITeam\\Downloads\\vehicle\\test\\images\\CarLongPlateGen2746_jpg.rf.632825baf0d1c730dc32bc1dbe78fd14.jpg: 416x416 1 License_Plate, 8.1ms\n",
      "image 304/882 C:\\Users\\GenITeam\\Downloads\\vehicle\\test\\images\\CarLongPlateGen2764_jpg.rf.17747b2b63a015fd7eecc2d64a2e2095.jpg: 416x416 1 License_Plate, 7.5ms\n",
      "image 305/882 C:\\Users\\GenITeam\\Downloads\\vehicle\\test\\images\\CarLongPlateGen2768_jpg.rf.5081422edd11a9fd4de85f3a16c1a8a6.jpg: 416x416 1 License_Plate, 7.9ms\n",
      "image 306/882 C:\\Users\\GenITeam\\Downloads\\vehicle\\test\\images\\CarLongPlateGen2770_jpg.rf.ad02e2004ae56bc106c220cf6b8e80a0.jpg: 416x416 1 License_Plate, 8.4ms\n",
      "image 307/882 C:\\Users\\GenITeam\\Downloads\\vehicle\\test\\images\\CarLongPlateGen2774_jpg.rf.1a9c6a56f27e429932f2242b4c6e397d.jpg: 416x416 1 License_Plate, 7.5ms\n",
      "image 308/882 C:\\Users\\GenITeam\\Downloads\\vehicle\\test\\images\\CarLongPlateGen2780_jpg.rf.bf562804d9d803bbe7472c8209d5d1f9.jpg: 416x416 1 License_Plate, 7.4ms\n",
      "image 309/882 C:\\Users\\GenITeam\\Downloads\\vehicle\\test\\images\\CarLongPlateGen2794_jpg.rf.7dbd5fb722e21528530aee12fdb6c9f3.jpg: 416x416 1 License_Plate, 7.9ms\n",
      "image 310/882 C:\\Users\\GenITeam\\Downloads\\vehicle\\test\\images\\CarLongPlateGen280_jpg.rf.656d03dbc9f8adfe5039a2ebf3005a73.jpg: 416x416 1 License_Plate, 7.6ms\n",
      "image 311/882 C:\\Users\\GenITeam\\Downloads\\vehicle\\test\\images\\CarLongPlateGen2812_jpg.rf.c9495a01659991d401b7ac3db909599b.jpg: 416x416 1 License_Plate, 7.5ms\n",
      "image 312/882 C:\\Users\\GenITeam\\Downloads\\vehicle\\test\\images\\CarLongPlateGen2814_jpg.rf.ec9b8fa5f65ca86caa3230a643e51ff9.jpg: 416x416 1 License_Plate, 7.4ms\n",
      "image 313/882 C:\\Users\\GenITeam\\Downloads\\vehicle\\test\\images\\CarLongPlateGen2825_jpg.rf.f1b36bc40a37335389949a657cca0b8e.jpg: 416x416 1 License_Plate, 7.4ms\n",
      "image 314/882 C:\\Users\\GenITeam\\Downloads\\vehicle\\test\\images\\CarLongPlateGen2828_jpg.rf.6430623a8ee33e49987b223b3cfe81ae.jpg: 416x416 1 License_Plate, 7.9ms\n",
      "image 315/882 C:\\Users\\GenITeam\\Downloads\\vehicle\\test\\images\\CarLongPlateGen2831_jpg.rf.859f9b013067023d931377c45b3d6ded.jpg: 416x416 1 License_Plate, 7.9ms\n",
      "image 316/882 C:\\Users\\GenITeam\\Downloads\\vehicle\\test\\images\\CarLongPlateGen2834_jpg.rf.d36aa139e00049f02a53ddf997fe0434.jpg: 416x416 1 License_Plate, 7.5ms\n",
      "image 317/882 C:\\Users\\GenITeam\\Downloads\\vehicle\\test\\images\\CarLongPlateGen2837_jpg.rf.dbec07a8c0927cfb4496b3c9909383f6.jpg: 416x416 1 License_Plate, 7.5ms\n",
      "image 318/882 C:\\Users\\GenITeam\\Downloads\\vehicle\\test\\images\\CarLongPlateGen2847_jpg.rf.2f26c645bdef2b2d968b2f9fa6a91bef.jpg: 416x416 1 License_Plate, 7.5ms\n",
      "image 319/882 C:\\Users\\GenITeam\\Downloads\\vehicle\\test\\images\\CarLongPlateGen2855_jpg.rf.2263d0735650f05a7fd9c21635dfe584.jpg: 416x416 1 License_Plate, 8.0ms\n",
      "image 320/882 C:\\Users\\GenITeam\\Downloads\\vehicle\\test\\images\\CarLongPlateGen2861_jpg.rf.cb92e0ef3af15799b04c1b37c61d5347.jpg: 416x416 1 License_Plate, 7.8ms\n",
      "image 321/882 C:\\Users\\GenITeam\\Downloads\\vehicle\\test\\images\\CarLongPlateGen2862_jpg.rf.c8b4238e9bc2c5fb9502d0cf6b427f11.jpg: 416x416 1 License_Plate, 7.5ms\n",
      "image 322/882 C:\\Users\\GenITeam\\Downloads\\vehicle\\test\\images\\CarLongPlateGen2867_jpg.rf.f1d28793d4fbe38900b700d4b45f8ccf.jpg: 416x416 1 License_Plate, 11.6ms\n",
      "image 323/882 C:\\Users\\GenITeam\\Downloads\\vehicle\\test\\images\\CarLongPlateGen2875_jpg.rf.f839cd91a0496a7ec9a41d864b41a041.jpg: 416x416 1 License_Plate, 8.0ms\n",
      "image 324/882 C:\\Users\\GenITeam\\Downloads\\vehicle\\test\\images\\CarLongPlateGen2882_jpg.rf.702222d6d698cc3410acd3e0ffe97893.jpg: 416x416 1 License_Plate, 8.0ms\n",
      "image 325/882 C:\\Users\\GenITeam\\Downloads\\vehicle\\test\\images\\CarLongPlateGen2883_jpg.rf.493aa354a034dd939a1179609936b6e1.jpg: 416x416 1 License_Plate, 11.6ms\n",
      "image 326/882 C:\\Users\\GenITeam\\Downloads\\vehicle\\test\\images\\CarLongPlateGen2893_jpg.rf.9934c3318621f8b27a1fe1b7a3907edf.jpg: 416x416 1 License_Plate, 8.1ms\n",
      "image 327/882 C:\\Users\\GenITeam\\Downloads\\vehicle\\test\\images\\CarLongPlateGen2903_jpg.rf.e384dc443d20f089b286ba9208923cc5.jpg: 416x416 1 License_Plate, 7.5ms\n",
      "image 328/882 C:\\Users\\GenITeam\\Downloads\\vehicle\\test\\images\\CarLongPlateGen290_jpg.rf.330a88fd0949bb9b6197f42bfdf118f2.jpg: 416x416 1 License_Plate, 7.4ms\n",
      "image 329/882 C:\\Users\\GenITeam\\Downloads\\vehicle\\test\\images\\CarLongPlateGen2920_jpg.rf.9c5c8a2f327ccf228761e9af0539d514.jpg: 416x416 1 License_Plate, 7.7ms\n",
      "image 330/882 C:\\Users\\GenITeam\\Downloads\\vehicle\\test\\images\\CarLongPlateGen293_jpg.rf.78c6bee18ba9f8eccf748424c786dc37.jpg: 416x416 1 License_Plate, 7.9ms\n",
      "image 331/882 C:\\Users\\GenITeam\\Downloads\\vehicle\\test\\images\\CarLongPlateGen2942_jpg.rf.f990ea1e955a6e76aa3b82960ce30c01.jpg: 416x416 1 License_Plate, 7.8ms\n",
      "image 332/882 C:\\Users\\GenITeam\\Downloads\\vehicle\\test\\images\\CarLongPlateGen2943_jpg.rf.7ffe28f62908eb7799799c05c73b6871.jpg: 416x416 1 License_Plate, 7.5ms\n",
      "image 333/882 C:\\Users\\GenITeam\\Downloads\\vehicle\\test\\images\\CarLongPlateGen2944_jpg.rf.4bbac32a7268b76cf8866aa4f40ed985.jpg: 416x416 1 License_Plate, 7.5ms\n",
      "image 334/882 C:\\Users\\GenITeam\\Downloads\\vehicle\\test\\images\\CarLongPlateGen2952_jpg.rf.0e85c544ef33ee2f8498da546f80ab1a.jpg: 416x416 1 License_Plate, 7.4ms\n",
      "image 335/882 C:\\Users\\GenITeam\\Downloads\\vehicle\\test\\images\\CarLongPlateGen2960_jpg.rf.9b10bec35d2330e6b6a864fa355eb0ec.jpg: 416x416 1 License_Plate, 8.0ms\n",
      "image 336/882 C:\\Users\\GenITeam\\Downloads\\vehicle\\test\\images\\CarLongPlateGen296_jpg.rf.0b030c8e65e716869faa5f5a3193e620.jpg: 416x416 1 License_Plate, 7.6ms\n",
      "image 337/882 C:\\Users\\GenITeam\\Downloads\\vehicle\\test\\images\\CarLongPlateGen2974_jpg.rf.80a7bfa734822f83cc486dc96289c241.jpg: 416x416 1 License_Plate, 7.6ms\n",
      "image 338/882 C:\\Users\\GenITeam\\Downloads\\vehicle\\test\\images\\CarLongPlateGen2985_jpg.rf.0f3ab7cd1a0d9b78f423697bcad736f0.jpg: 416x416 1 License_Plate, 7.3ms\n",
      "image 339/882 C:\\Users\\GenITeam\\Downloads\\vehicle\\test\\images\\CarLongPlateGen3012_jpg.rf.1edf916b896d3698df90812775e10b59.jpg: 416x416 1 License_Plate, 7.5ms\n",
      "image 340/882 C:\\Users\\GenITeam\\Downloads\\vehicle\\test\\images\\CarLongPlateGen3014_jpg.rf.09d3ea87fb1ff2d36b284eb799f25786.jpg: 416x416 1 License_Plate, 10.2ms\n",
      "image 341/882 C:\\Users\\GenITeam\\Downloads\\vehicle\\test\\images\\CarLongPlateGen3020_jpg.rf.bf65a3ff814be35b90b00ef11c6f9c45.jpg: 416x416 1 License_Plate, 10.5ms\n",
      "image 342/882 C:\\Users\\GenITeam\\Downloads\\vehicle\\test\\images\\CarLongPlateGen3022_jpg.rf.4a09da50a5f72e32f2707abaace73cea.jpg: 416x416 1 License_Plate, 7.6ms\n",
      "image 343/882 C:\\Users\\GenITeam\\Downloads\\vehicle\\test\\images\\CarLongPlateGen3025_jpg.rf.3d5e69f773a7c45d14e9ee11a093670c.jpg: 416x416 1 License_Plate, 8.8ms\n",
      "image 344/882 C:\\Users\\GenITeam\\Downloads\\vehicle\\test\\images\\CarLongPlateGen3029_jpg.rf.0def2c07f117fd7a6afe84dcd61a662e.jpg: 416x416 1 License_Plate, 12.1ms\n",
      "image 345/882 C:\\Users\\GenITeam\\Downloads\\vehicle\\test\\images\\CarLongPlateGen3049_jpg.rf.aa016729c419bf9c62a594044e955305.jpg: 416x416 1 License_Plate, 7.6ms\n",
      "image 346/882 C:\\Users\\GenITeam\\Downloads\\vehicle\\test\\images\\CarLongPlateGen3076_jpg.rf.007f4c93d958c210ab8960d68ee2cf1f.jpg: 416x416 1 License_Plate, 7.6ms\n",
      "image 347/882 C:\\Users\\GenITeam\\Downloads\\vehicle\\test\\images\\CarLongPlateGen3083_jpg.rf.3e44ac434191c0097b1d949654ff790d.jpg: 416x416 1 License_Plate, 7.6ms\n",
      "image 348/882 C:\\Users\\GenITeam\\Downloads\\vehicle\\test\\images\\CarLongPlateGen30_jpg.rf.536390e94eab62a6fb7e6750606e40f3.jpg: 416x416 1 License_Plate, 7.9ms\n",
      "image 349/882 C:\\Users\\GenITeam\\Downloads\\vehicle\\test\\images\\CarLongPlateGen3104_jpg.rf.523b9ef4471f9e0402f0c71efb9164e5.jpg: 416x416 1 License_Plate, 7.9ms\n",
      "image 350/882 C:\\Users\\GenITeam\\Downloads\\vehicle\\test\\images\\CarLongPlateGen3117_jpg.rf.63fe7c2c7c6fdfb7f5d199a120276782.jpg: 416x416 1 License_Plate, 7.3ms\n",
      "image 351/882 C:\\Users\\GenITeam\\Downloads\\vehicle\\test\\images\\CarLongPlateGen3119_jpg.rf.1c289922ba78d9777e2df22329f2afd0.jpg: 416x416 1 License_Plate, 7.4ms\n",
      "image 352/882 C:\\Users\\GenITeam\\Downloads\\vehicle\\test\\images\\CarLongPlateGen311_jpg.rf.c2716ef3461fa0f186752f6db04e53f2.jpg: 416x416 1 License_Plate, 8.2ms\n",
      "image 353/882 C:\\Users\\GenITeam\\Downloads\\vehicle\\test\\images\\CarLongPlateGen3120_jpg.rf.80bd24f396be726e51463c1d4e792c44.jpg: 416x416 1 License_Plate, 7.6ms\n",
      "image 354/882 C:\\Users\\GenITeam\\Downloads\\vehicle\\test\\images\\CarLongPlateGen3121_jpg.rf.2fe89d12f5883e9efdd3da65762ddd27.jpg: 416x416 1 License_Plate, 7.4ms\n",
      "image 355/882 C:\\Users\\GenITeam\\Downloads\\vehicle\\test\\images\\CarLongPlateGen3125_jpg.rf.93c18394bb7e05ba404c6c70305baadf.jpg: 416x416 1 License_Plate, 7.4ms\n",
      "image 356/882 C:\\Users\\GenITeam\\Downloads\\vehicle\\test\\images\\CarLongPlateGen3128_jpg.rf.5b1c2e9c606397c22649cfcd7bd68500.jpg: 416x416 1 License_Plate, 7.9ms\n",
      "image 357/882 C:\\Users\\GenITeam\\Downloads\\vehicle\\test\\images\\CarLongPlateGen3131_jpg.rf.1ea8162c3cea4d7cd103238ed9c5fc83.jpg: 416x416 1 License_Plate, 8.8ms\n",
      "image 358/882 C:\\Users\\GenITeam\\Downloads\\vehicle\\test\\images\\CarLongPlateGen314_jpg.rf.7d6426f652a5633cf74b042ae1144a39.jpg: 416x416 1 License_Plate, 7.7ms\n",
      "image 359/882 C:\\Users\\GenITeam\\Downloads\\vehicle\\test\\images\\CarLongPlateGen3151_jpg.rf.260a5cf36eec40fc78bff5f1784d7bfa.jpg: 416x416 1 License_Plate, 7.4ms\n",
      "image 360/882 C:\\Users\\GenITeam\\Downloads\\vehicle\\test\\images\\CarLongPlateGen315_jpg.rf.f0aa641c54333e472fcf506fe9f545b0.jpg: 416x416 1 License_Plate, 8.3ms\n",
      "image 361/882 C:\\Users\\GenITeam\\Downloads\\vehicle\\test\\images\\CarLongPlateGen3161_jpg.rf.6e413bd7a7c03230d2e99cd2f47b60c6.jpg: 416x416 1 License_Plate, 7.6ms\n",
      "image 362/882 C:\\Users\\GenITeam\\Downloads\\vehicle\\test\\images\\CarLongPlateGen318_jpg.rf.4b9fed4a984ab9639915acc418761530.jpg: 416x416 1 License_Plate, 7.6ms\n",
      "image 363/882 C:\\Users\\GenITeam\\Downloads\\vehicle\\test\\images\\CarLongPlateGen3205_jpg.rf.1d71a1f2de86f157ff6f4f48e6f3685c.jpg: 416x416 1 License_Plate, 7.6ms\n",
      "image 364/882 C:\\Users\\GenITeam\\Downloads\\vehicle\\test\\images\\CarLongPlateGen3206_jpg.rf.45ebea5edb0b04acaf7a3a3b9e004636.jpg: 416x416 1 License_Plate, 7.5ms\n",
      "image 365/882 C:\\Users\\GenITeam\\Downloads\\vehicle\\test\\images\\CarLongPlateGen3207_jpg.rf.3abd9682d52b468fe086670d88c39082.jpg: 416x416 1 License_Plate, 8.0ms\n",
      "image 366/882 C:\\Users\\GenITeam\\Downloads\\vehicle\\test\\images\\CarLongPlateGen3245_jpg.rf.5d7af909e14a5164a2e9b60679b148e5.jpg: 416x416 1 License_Plate, 7.7ms\n",
      "image 367/882 C:\\Users\\GenITeam\\Downloads\\vehicle\\test\\images\\CarLongPlateGen3246_jpg.rf.830af1be3643ddde81d7e730c2e90dd1.jpg: 416x416 1 License_Plate, 7.5ms\n",
      "image 368/882 C:\\Users\\GenITeam\\Downloads\\vehicle\\test\\images\\CarLongPlateGen3247_jpg.rf.c15f6c89416957c1814c95f7c91b4c48.jpg: 416x416 1 License_Plate, 7.5ms\n",
      "image 369/882 C:\\Users\\GenITeam\\Downloads\\vehicle\\test\\images\\CarLongPlateGen3262_jpg.rf.b6eafe19e6f8d7bdf59549cb468d18b5.jpg: 416x416 1 License_Plate, 7.5ms\n",
      "image 370/882 C:\\Users\\GenITeam\\Downloads\\vehicle\\test\\images\\CarLongPlateGen3265_jpg.rf.ead9abc7959e06977c42bdbdb629dce6.jpg: 416x416 1 License_Plate, 8.1ms\n",
      "image 371/882 C:\\Users\\GenITeam\\Downloads\\vehicle\\test\\images\\CarLongPlateGen3272_jpg.rf.0a41ed0ad7950bcbfaf69b163423e872.jpg: 416x416 1 License_Plate, 7.5ms\n",
      "image 372/882 C:\\Users\\GenITeam\\Downloads\\vehicle\\test\\images\\CarLongPlateGen3273_jpg.rf.c5c149840538d6bb872d8308cc5212f7.jpg: 416x416 1 License_Plate, 7.6ms\n",
      "image 373/882 C:\\Users\\GenITeam\\Downloads\\vehicle\\test\\images\\CarLongPlateGen3277_jpg.rf.d649a622186b390fde7c446d0b156932.jpg: 416x416 1 License_Plate, 7.4ms\n",
      "image 374/882 C:\\Users\\GenITeam\\Downloads\\vehicle\\test\\images\\CarLongPlateGen3279_jpg.rf.41ebee58f41e5c00dd7f87a1bbebd8cf.jpg: 416x416 1 License_Plate, 7.4ms\n",
      "image 375/882 C:\\Users\\GenITeam\\Downloads\\vehicle\\test\\images\\CarLongPlateGen3287_jpg.rf.74e70eff1fd39f2d17e119a8141c1b20.jpg: 416x416 1 License_Plate, 7.8ms\n",
      "image 376/882 C:\\Users\\GenITeam\\Downloads\\vehicle\\test\\images\\CarLongPlateGen3296_jpg.rf.190848fecc39b15e4e5ac6be980e6198.jpg: 416x416 1 License_Plate, 7.4ms\n",
      "image 377/882 C:\\Users\\GenITeam\\Downloads\\vehicle\\test\\images\\CarLongPlateGen3297_jpg.rf.2f61fc67ae5aabe863df539f08487cc4.jpg: 416x416 1 License_Plate, 7.7ms\n",
      "image 378/882 C:\\Users\\GenITeam\\Downloads\\vehicle\\test\\images\\CarLongPlateGen3298_jpg.rf.377dd2f2974a8a9c93ddcb7b113d34ec.jpg: 416x416 1 License_Plate, 7.3ms\n",
      "image 379/882 C:\\Users\\GenITeam\\Downloads\\vehicle\\test\\images\\CarLongPlateGen3301_jpg.rf.f664c2d2af92aac4b9db1d21998bc77b.jpg: 416x416 1 License_Plate, 12.6ms\n",
      "image 380/882 C:\\Users\\GenITeam\\Downloads\\vehicle\\test\\images\\CarLongPlateGen3305_jpg.rf.0fac4f199867fd2704c8020d77130596.jpg: 416x416 1 License_Plate, 7.6ms\n",
      "image 381/882 C:\\Users\\GenITeam\\Downloads\\vehicle\\test\\images\\CarLongPlateGen3308_jpg.rf.a19bfbc2c17570ade1a7ca8cda9e730f.jpg: 416x416 1 License_Plate, 8.7ms\n",
      "image 382/882 C:\\Users\\GenITeam\\Downloads\\vehicle\\test\\images\\CarLongPlateGen3312_jpg.rf.b286a2c38930f2272231dd25c0509693.jpg: 416x416 1 License_Plate, 7.8ms\n",
      "image 383/882 C:\\Users\\GenITeam\\Downloads\\vehicle\\test\\images\\CarLongPlateGen331_jpg.rf.00299ed149e461ef648317d729089f19.jpg: 416x416 1 License_Plate, 7.6ms\n",
      "image 384/882 C:\\Users\\GenITeam\\Downloads\\vehicle\\test\\images\\CarLongPlateGen3324_jpg.rf.d0e2c33a0acff115e85ff884915c1980.jpg: 416x416 1 License_Plate, 7.5ms\n",
      "image 385/882 C:\\Users\\GenITeam\\Downloads\\vehicle\\test\\images\\CarLongPlateGen3341_jpg.rf.e2606278a055196a4155e9764fe3e361.jpg: 416x416 1 License_Plate, 7.9ms\n",
      "image 386/882 C:\\Users\\GenITeam\\Downloads\\vehicle\\test\\images\\CarLongPlateGen3355_jpg.rf.00b79bd0731447e335c9a15b67c11680.jpg: 416x416 1 License_Plate, 8.0ms\n",
      "image 387/882 C:\\Users\\GenITeam\\Downloads\\vehicle\\test\\images\\CarLongPlateGen3368_jpg.rf.f976612542c46c6a0d7da7066459772e.jpg: 416x416 1 License_Plate, 10.6ms\n",
      "image 388/882 C:\\Users\\GenITeam\\Downloads\\vehicle\\test\\images\\CarLongPlateGen3379_jpg.rf.21fe84552707f2db1fa9718f006c3a9c.jpg: 416x416 1 License_Plate, 12.5ms\n",
      "image 389/882 C:\\Users\\GenITeam\\Downloads\\vehicle\\test\\images\\CarLongPlateGen3390_jpg.rf.94ae90ca9c1453b524765fdb44eb02ea.jpg: 416x416 1 License_Plate, 7.7ms\n",
      "image 390/882 C:\\Users\\GenITeam\\Downloads\\vehicle\\test\\images\\CarLongPlateGen3407_jpg.rf.c2b99d5f49c23a582ddc8419a9cb3f94.jpg: 416x416 1 License_Plate, 7.3ms\n",
      "image 391/882 C:\\Users\\GenITeam\\Downloads\\vehicle\\test\\images\\CarLongPlateGen340_jpg.rf.baab4d93ccd3c3a20e773673acfdc8f6.jpg: 416x416 1 License_Plate, 7.9ms\n",
      "image 392/882 C:\\Users\\GenITeam\\Downloads\\vehicle\\test\\images\\CarLongPlateGen3418_jpg.rf.b29183e583b3511174c1ca30722f1413.jpg: 416x416 1 License_Plate, 11.4ms\n",
      "image 393/882 C:\\Users\\GenITeam\\Downloads\\vehicle\\test\\images\\CarLongPlateGen3419_jpg.rf.8fa498a90cb722e9da6b773e257e7acf.jpg: 416x416 1 License_Plate, 10.2ms\n",
      "image 394/882 C:\\Users\\GenITeam\\Downloads\\vehicle\\test\\images\\CarLongPlateGen3437_jpg.rf.6b4865f0267a05008d72ddb62fbccff3.jpg: 416x416 1 License_Plate, 7.4ms\n",
      "image 395/882 C:\\Users\\GenITeam\\Downloads\\vehicle\\test\\images\\CarLongPlateGen3439_jpg.rf.896963b51a06d9a9a3f006aaa269c6dc.jpg: 416x416 1 License_Plate, 8.2ms\n",
      "image 396/882 C:\\Users\\GenITeam\\Downloads\\vehicle\\test\\images\\CarLongPlateGen3443_jpg.rf.8a0d9e105a2d9da82190621c68cfdf1c.jpg: 416x416 1 License_Plate, 7.6ms\n",
      "image 397/882 C:\\Users\\GenITeam\\Downloads\\vehicle\\test\\images\\CarLongPlateGen3446_jpg.rf.83bdf3b679acc4e38f581176255d7eb7.jpg: 416x416 1 License_Plate, 7.4ms\n",
      "image 398/882 C:\\Users\\GenITeam\\Downloads\\vehicle\\test\\images\\CarLongPlateGen3467_jpg.rf.18fa12db09c674ea2715a024970ca707.jpg: 416x416 1 License_Plate, 7.6ms\n",
      "image 399/882 C:\\Users\\GenITeam\\Downloads\\vehicle\\test\\images\\CarLongPlateGen3468_jpg.rf.90757baf9f159f7eb586e4f4ad58ada0.jpg: 416x416 1 License_Plate, 7.8ms\n",
      "image 400/882 C:\\Users\\GenITeam\\Downloads\\vehicle\\test\\images\\CarLongPlateGen3501_jpg.rf.dcf00128da749fec0e6a6ecf3a4a4cae.jpg: 416x416 1 License_Plate, 11.8ms\n",
      "image 401/882 C:\\Users\\GenITeam\\Downloads\\vehicle\\test\\images\\CarLongPlateGen3505_jpg.rf.b1e28379693a4d0cdb839c785b4b6e86.jpg: 416x416 1 License_Plate, 7.5ms\n",
      "image 402/882 C:\\Users\\GenITeam\\Downloads\\vehicle\\test\\images\\CarLongPlateGen3507_jpg.rf.a82d0fa50f3f7170560932845de52835.jpg: 416x416 1 License_Plate, 7.9ms\n",
      "image 403/882 C:\\Users\\GenITeam\\Downloads\\vehicle\\test\\images\\CarLongPlateGen3508_jpg.rf.be6b6f4b74be3b218e70f5867b1b645f.jpg: 416x416 1 License_Plate, 7.5ms\n",
      "image 404/882 C:\\Users\\GenITeam\\Downloads\\vehicle\\test\\images\\CarLongPlateGen3513_jpg.rf.c0317f2c641ea5e5ee8cfb33cd8b6800.jpg: 416x416 1 License_Plate, 7.5ms\n",
      "image 405/882 C:\\Users\\GenITeam\\Downloads\\vehicle\\test\\images\\CarLongPlateGen3516_jpg.rf.d972ca3fe49dbd6bf7f3e9dc0e516664.jpg: 416x416 1 License_Plate, 7.4ms\n",
      "image 406/882 C:\\Users\\GenITeam\\Downloads\\vehicle\\test\\images\\CarLongPlateGen3526_jpg.rf.ecef3564c75d58a9ec8d536f05cc2d0a.jpg: 416x416 1 License_Plate, 7.4ms\n",
      "image 407/882 C:\\Users\\GenITeam\\Downloads\\vehicle\\test\\images\\CarLongPlateGen3528_jpg.rf.a89ad62b00851e6d6ba6e205032f3dec.jpg: 416x416 1 License_Plate, 7.4ms\n",
      "image 408/882 C:\\Users\\GenITeam\\Downloads\\vehicle\\test\\images\\CarLongPlateGen3535_jpg.rf.cc7e619467b10f604064562d692fd3d3.jpg: 416x416 1 License_Plate, 7.7ms\n",
      "image 409/882 C:\\Users\\GenITeam\\Downloads\\vehicle\\test\\images\\CarLongPlateGen3538_jpg.rf.fa6a9e8fc5578a10efc92ef32bd72890.jpg: 416x416 1 License_Plate, 7.5ms\n",
      "image 410/882 C:\\Users\\GenITeam\\Downloads\\vehicle\\test\\images\\CarLongPlateGen354_jpg.rf.523654b97fb572f2b78b7f24002ac805.jpg: 416x416 1 License_Plate, 11.8ms\n",
      "image 411/882 C:\\Users\\GenITeam\\Downloads\\vehicle\\test\\images\\CarLongPlateGen3551_jpg.rf.32fa2f86755315bcb86dbc25d232a237.jpg: 416x416 1 License_Plate, 7.4ms\n",
      "image 412/882 C:\\Users\\GenITeam\\Downloads\\vehicle\\test\\images\\CarLongPlateGen3579_jpg.rf.ce369c2bb5db4af1b81caf00d450d869.jpg: 416x416 1 License_Plate, 7.8ms\n",
      "image 413/882 C:\\Users\\GenITeam\\Downloads\\vehicle\\test\\images\\CarLongPlateGen3589_jpg.rf.f5aa4344a1aab2a8c1665fd48a86d0fd.jpg: 416x416 1 License_Plate, 7.6ms\n",
      "image 414/882 C:\\Users\\GenITeam\\Downloads\\vehicle\\test\\images\\CarLongPlateGen3612_jpg.rf.bae479db328b0b1da392a2ce67217637.jpg: 416x416 1 License_Plate, 7.5ms\n",
      "image 415/882 C:\\Users\\GenITeam\\Downloads\\vehicle\\test\\images\\CarLongPlateGen3621_jpg.rf.d8cd53e94423b143aaae690513ae8b82.jpg: 416x416 1 License_Plate, 7.4ms\n",
      "image 416/882 C:\\Users\\GenITeam\\Downloads\\vehicle\\test\\images\\CarLongPlateGen362_jpg.rf.3343e6ada3dd5b87ecccad429d5e1124.jpg: 416x416 1 License_Plate, 7.4ms\n",
      "image 417/882 C:\\Users\\GenITeam\\Downloads\\vehicle\\test\\images\\CarLongPlateGen3630_jpg.rf.21b1d3e789273c2a02ef85fdb90948e6.jpg: 416x416 1 License_Plate, 11.0ms\n",
      "image 418/882 C:\\Users\\GenITeam\\Downloads\\vehicle\\test\\images\\CarLongPlateGen3646_jpg.rf.d2aadab8510467dd72f45fc81b8b8fa7.jpg: 416x416 1 License_Plate, 7.5ms\n",
      "image 419/882 C:\\Users\\GenITeam\\Downloads\\vehicle\\test\\images\\CarLongPlateGen3659_jpg.rf.6493036ccadbd23aa7c101352d65d2f4.jpg: 416x416 1 License_Plate, 8.4ms\n",
      "image 420/882 C:\\Users\\GenITeam\\Downloads\\vehicle\\test\\images\\CarLongPlateGen3661_jpg.rf.869d1c23a2364cda4f99fec332ef9d48.jpg: 416x416 1 License_Plate, 7.9ms\n",
      "image 421/882 C:\\Users\\GenITeam\\Downloads\\vehicle\\test\\images\\CarLongPlateGen3665_jpg.rf.84543c6398b5f745b856f9c3f82b4464.jpg: 416x416 1 License_Plate, 7.4ms\n",
      "image 422/882 C:\\Users\\GenITeam\\Downloads\\vehicle\\test\\images\\CarLongPlateGen3669_jpg.rf.3d133b34182ea6ae1294af4f89c58808.jpg: 416x416 1 License_Plate, 7.4ms\n",
      "image 423/882 C:\\Users\\GenITeam\\Downloads\\vehicle\\test\\images\\CarLongPlateGen3687_jpg.rf.8bb7afd685c20f31d333570461332ef1.jpg: 416x416 1 License_Plate, 7.5ms\n",
      "image 424/882 C:\\Users\\GenITeam\\Downloads\\vehicle\\test\\images\\CarLongPlateGen3695_jpg.rf.e1da4a067678aa7355b9d7b873e1affc.jpg: 416x416 1 License_Plate, 8.9ms\n",
      "image 425/882 C:\\Users\\GenITeam\\Downloads\\vehicle\\test\\images\\CarLongPlateGen3704_jpg.rf.348b7da2928d0985fd8b3345249ddd29.jpg: 416x416 1 License_Plate, 7.9ms\n",
      "image 426/882 C:\\Users\\GenITeam\\Downloads\\vehicle\\test\\images\\CarLongPlateGen3713_jpg.rf.859bc5ddbf656d4e3350d8921d3c6c89.jpg: 416x416 1 License_Plate, 7.4ms\n",
      "image 427/882 C:\\Users\\GenITeam\\Downloads\\vehicle\\test\\images\\CarLongPlateGen371_jpg.rf.5131145fc5195eb14a52ffc5ac3d33c3.jpg: 416x416 1 License_Plate, 9.0ms\n",
      "image 428/882 C:\\Users\\GenITeam\\Downloads\\vehicle\\test\\images\\CarLongPlateGen3722_jpg.rf.65687dd93b38bcf0f22c3c4c45d7b8aa.jpg: 416x416 1 License_Plate, 7.4ms\n",
      "image 429/882 C:\\Users\\GenITeam\\Downloads\\vehicle\\test\\images\\CarLongPlateGen3724_jpg.rf.ff90e7c5305c0a0b0695b105428364d6.jpg: 416x416 1 License_Plate, 8.0ms\n",
      "image 430/882 C:\\Users\\GenITeam\\Downloads\\vehicle\\test\\images\\CarLongPlateGen3731_jpg.rf.b16b493bb9abb52d8081b7418e125e45.jpg: 416x416 1 License_Plate, 7.7ms\n",
      "image 431/882 C:\\Users\\GenITeam\\Downloads\\vehicle\\test\\images\\CarLongPlateGen3746_jpg.rf.d80c5b3a866fb21d1f47e2e7694fe5e9.jpg: 416x416 1 License_Plate, 7.5ms\n",
      "image 432/882 C:\\Users\\GenITeam\\Downloads\\vehicle\\test\\images\\CarLongPlateGen3749_jpg.rf.bf1822eb16dbe38a02c5136dc692c1a2.jpg: 416x416 1 License_Plate, 7.5ms\n",
      "image 433/882 C:\\Users\\GenITeam\\Downloads\\vehicle\\test\\images\\CarLongPlateGen3754_jpg.rf.8d15952d1461f083b58740d869c9cc5b.jpg: 416x416 1 License_Plate, 7.4ms\n",
      "image 434/882 C:\\Users\\GenITeam\\Downloads\\vehicle\\test\\images\\CarLongPlateGen3755_jpg.rf.b11d603fa6c4e1ed82422c3785d8eef0.jpg: 416x416 1 License_Plate, 7.9ms\n",
      "image 435/882 C:\\Users\\GenITeam\\Downloads\\vehicle\\test\\images\\CarLongPlateGen3760_jpg.rf.2937c4f4e434fcc94f9c37a78640843b.jpg: 416x416 1 License_Plate, 7.5ms\n",
      "image 436/882 C:\\Users\\GenITeam\\Downloads\\vehicle\\test\\images\\CarLongPlateGen3768_jpg.rf.4def434ce16f3994ee3883fa91ab0f13.jpg: 416x416 1 License_Plate, 7.7ms\n",
      "image 437/882 C:\\Users\\GenITeam\\Downloads\\vehicle\\test\\images\\CarLongPlateGen3780_jpg.rf.12ad649312818f0c14f426919eee5d80.jpg: 416x416 1 License_Plate, 7.4ms\n",
      "image 438/882 C:\\Users\\GenITeam\\Downloads\\vehicle\\test\\images\\CarLongPlateGen378_jpg.rf.03e9206d02a4bafcc324949a0cf799f1.jpg: 416x416 1 License_Plate, 7.9ms\n",
      "image 439/882 C:\\Users\\GenITeam\\Downloads\\vehicle\\test\\images\\CarLongPlateGen3790_jpg.rf.965d7ebe25228af2ee3fa9dd4dfe5fc3.jpg: 416x416 1 License_Plate, 7.8ms\n",
      "image 440/882 C:\\Users\\GenITeam\\Downloads\\vehicle\\test\\images\\CarLongPlateGen3793_jpg.rf.8c1832fc949d60a9824dd998f6e09f05.jpg: 416x416 1 License_Plate, 7.4ms\n",
      "image 441/882 C:\\Users\\GenITeam\\Downloads\\vehicle\\test\\images\\CarLongPlateGen3816_jpg.rf.b0e75d298ebb1358edb8446b1c9a7472.jpg: 416x416 1 License_Plate, 7.5ms\n",
      "image 442/882 C:\\Users\\GenITeam\\Downloads\\vehicle\\test\\images\\CarLongPlateGen3823_jpg.rf.426a593b33aae860ddd39d1576f3ba5c.jpg: 416x416 1 License_Plate, 7.4ms\n",
      "image 443/882 C:\\Users\\GenITeam\\Downloads\\vehicle\\test\\images\\CarLongPlateGen3827_jpg.rf.0a4980a718045146f3c28b141ade601b.jpg: 416x416 1 License_Plate, 7.4ms\n",
      "image 444/882 C:\\Users\\GenITeam\\Downloads\\vehicle\\test\\images\\CarLongPlateGen3829_jpg.rf.d8b3efa7db19c5b37a707e52438d906a.jpg: 416x416 1 License_Plate, 7.8ms\n",
      "image 445/882 C:\\Users\\GenITeam\\Downloads\\vehicle\\test\\images\\CarLongPlateGen3835_jpg.rf.cdf4aa6131a73f4ec6b5b12a4764125c.jpg: 416x416 1 License_Plate, 10.9ms\n",
      "image 446/882 C:\\Users\\GenITeam\\Downloads\\vehicle\\test\\images\\CarLongPlateGen383_jpg.rf.8a58040a58c452a485affdbaae8c4a78.jpg: 416x416 1 License_Plate, 11.6ms\n",
      "image 447/882 C:\\Users\\GenITeam\\Downloads\\vehicle\\test\\images\\CarLongPlateGen3853_jpg.rf.2f4bbaa623e31d91b140542b7146307e.jpg: 416x416 1 License_Plate, 7.3ms\n",
      "image 448/882 C:\\Users\\GenITeam\\Downloads\\vehicle\\test\\images\\CarLongPlateGen3854_jpg.rf.21c94799a75517c83f40dcdd64b285d8.jpg: 416x416 1 License_Plate, 7.6ms\n",
      "image 449/882 C:\\Users\\GenITeam\\Downloads\\vehicle\\test\\images\\CarLongPlateGen3861_jpg.rf.a3e8c9ddac3ca031c820e50c76214d49.jpg: 416x416 1 License_Plate, 7.9ms\n",
      "image 450/882 C:\\Users\\GenITeam\\Downloads\\vehicle\\test\\images\\CarLongPlateGen3870_jpg.rf.222610aca35c5c9d7ae232564b1fd229.jpg: 416x416 1 License_Plate, 7.5ms\n",
      "image 451/882 C:\\Users\\GenITeam\\Downloads\\vehicle\\test\\images\\CarLongPlateGen3878_jpg.rf.ee9d2b0ac59749321bf0b4d6ecd609ca.jpg: 416x416 1 License_Plate, 7.6ms\n",
      "image 452/882 C:\\Users\\GenITeam\\Downloads\\vehicle\\test\\images\\CarLongPlateGen3900_jpg.rf.f37fa84ac1f28e5803e54a81e634961c.jpg: 416x416 1 License_Plate, 8.0ms\n",
      "image 453/882 C:\\Users\\GenITeam\\Downloads\\vehicle\\test\\images\\CarLongPlateGen3902_jpg.rf.598cd3dbdde3fad7d5029e54b35d8b26.jpg: 416x416 1 License_Plate, 7.7ms\n",
      "image 454/882 C:\\Users\\GenITeam\\Downloads\\vehicle\\test\\images\\CarLongPlateGen393_jpg.rf.3eaa52eab2a5766f06d2e099218baaf9.jpg: 416x416 1 License_Plate, 7.5ms\n",
      "image 455/882 C:\\Users\\GenITeam\\Downloads\\vehicle\\test\\images\\CarLongPlateGen396_jpg.rf.c52148d9775bd3b241a3fe504b0f8df1.jpg: 416x416 1 License_Plate, 7.5ms\n",
      "image 456/882 C:\\Users\\GenITeam\\Downloads\\vehicle\\test\\images\\CarLongPlateGen406_jpg.rf.43d2132716ebf87b0d05628e55951c09.jpg: 416x416 1 License_Plate, 7.4ms\n",
      "image 457/882 C:\\Users\\GenITeam\\Downloads\\vehicle\\test\\images\\CarLongPlateGen410_jpg.rf.7cb2e16ff490d0b5eb3515e9a29a61d5.jpg: 416x416 1 License_Plate, 8.1ms\n",
      "image 458/882 C:\\Users\\GenITeam\\Downloads\\vehicle\\test\\images\\CarLongPlateGen423_jpg.rf.b879c485d5db81b1b23b3fef3867e552.jpg: 416x416 1 License_Plate, 7.7ms\n",
      "image 459/882 C:\\Users\\GenITeam\\Downloads\\vehicle\\test\\images\\CarLongPlateGen426_jpg.rf.240f4ec4c6365e2a55f8ed3d9853141f.jpg: 416x416 1 License_Plate, 7.7ms\n",
      "image 460/882 C:\\Users\\GenITeam\\Downloads\\vehicle\\test\\images\\CarLongPlateGen441_jpg.rf.ea727a2d1f002991713cc1165e3d2556.jpg: 416x416 1 License_Plate, 7.6ms\n",
      "image 461/882 C:\\Users\\GenITeam\\Downloads\\vehicle\\test\\images\\CarLongPlateGen450_jpg.rf.4d97420c50682ffa35924f5e76bdc1e2.jpg: 416x416 1 License_Plate, 7.5ms\n",
      "image 462/882 C:\\Users\\GenITeam\\Downloads\\vehicle\\test\\images\\CarLongPlateGen466_jpg.rf.589f4aa915550cee6eb3a5d4982a9325.jpg: 416x416 1 License_Plate, 8.2ms\n",
      "image 463/882 C:\\Users\\GenITeam\\Downloads\\vehicle\\test\\images\\CarLongPlateGen482_jpg.rf.ee55d99ce40bcb5628dcba82441bc369.jpg: 416x416 1 License_Plate, 11.9ms\n",
      "image 464/882 C:\\Users\\GenITeam\\Downloads\\vehicle\\test\\images\\CarLongPlateGen49_jpg.rf.c338bbadfeb308a0003d8b5e7890d7bc.jpg: 416x416 1 License_Plate, 7.5ms\n",
      "image 465/882 C:\\Users\\GenITeam\\Downloads\\vehicle\\test\\images\\CarLongPlateGen501_jpg.rf.989ef7d5a53f183e36ef3ddcc6e67d4f.jpg: 416x416 1 License_Plate, 8.1ms\n",
      "image 466/882 C:\\Users\\GenITeam\\Downloads\\vehicle\\test\\images\\CarLongPlateGen503_jpg.rf.2b7052e8a7a59dfdfc63c06c841f38bb.jpg: 416x416 1 License_Plate, 7.8ms\n",
      "image 467/882 C:\\Users\\GenITeam\\Downloads\\vehicle\\test\\images\\CarLongPlateGen506_jpg.rf.1acfe4cd554bda3795df3220d016c53c.jpg: 416x416 1 License_Plate, 8.0ms\n",
      "image 468/882 C:\\Users\\GenITeam\\Downloads\\vehicle\\test\\images\\CarLongPlateGen519_jpg.rf.365f1b898041c4bc5e1084a793ad8277.jpg: 416x416 1 License_Plate, 7.8ms\n",
      "image 469/882 C:\\Users\\GenITeam\\Downloads\\vehicle\\test\\images\\CarLongPlateGen523_jpg.rf.29354f1087cead626cbf606ee2b8e156.jpg: 416x416 1 License_Plate, 8.1ms\n",
      "image 470/882 C:\\Users\\GenITeam\\Downloads\\vehicle\\test\\images\\CarLongPlateGen544_jpg.rf.a5e14069e2b1104c652d12d9edd51ff9.jpg: 416x416 1 License_Plate, 7.7ms\n",
      "image 471/882 C:\\Users\\GenITeam\\Downloads\\vehicle\\test\\images\\CarLongPlateGen552_jpg.rf.37ae7a3bc956c6171c078c5e31875d98.jpg: 416x416 1 License_Plate, 7.6ms\n",
      "image 472/882 C:\\Users\\GenITeam\\Downloads\\vehicle\\test\\images\\CarLongPlateGen555_jpg.rf.30e86f4fd307dac9361979c3d03c6ad3.jpg: 416x416 1 License_Plate, 7.6ms\n",
      "image 473/882 C:\\Users\\GenITeam\\Downloads\\vehicle\\test\\images\\CarLongPlateGen571_jpg.rf.4a4a7d65c0788a209972356e8dd48dff.jpg: 416x416 1 License_Plate, 10.5ms\n",
      "image 474/882 C:\\Users\\GenITeam\\Downloads\\vehicle\\test\\images\\CarLongPlateGen57_jpg.rf.a452db1b395e8f5d40d97c6c82fdfe2e.jpg: 416x416 1 License_Plate, 9.7ms\n",
      "image 475/882 C:\\Users\\GenITeam\\Downloads\\vehicle\\test\\images\\CarLongPlateGen585_jpg.rf.189df00786e3da39368246394661af81.jpg: 416x416 1 License_Plate, 12.9ms\n",
      "image 476/882 C:\\Users\\GenITeam\\Downloads\\vehicle\\test\\images\\CarLongPlateGen599_jpg.rf.b1150ba18275ddb5d39d23aeaf199168.jpg: 416x416 1 License_Plate, 7.7ms\n",
      "image 477/882 C:\\Users\\GenITeam\\Downloads\\vehicle\\test\\images\\CarLongPlateGen600_jpg.rf.db0177ce1f5f01d84436f080960e1aa8.jpg: 416x416 1 License_Plate, 7.5ms\n",
      "image 478/882 C:\\Users\\GenITeam\\Downloads\\vehicle\\test\\images\\CarLongPlateGen612_jpg.rf.dc4f1acb0f888c97bccc78bc4fe4af8f.jpg: 416x416 1 License_Plate, 7.5ms\n",
      "image 479/882 C:\\Users\\GenITeam\\Downloads\\vehicle\\test\\images\\CarLongPlateGen617_jpg.rf.0538c382f757b25121f07c859949fe1b.jpg: 416x416 1 License_Plate, 10.1ms\n",
      "image 480/882 C:\\Users\\GenITeam\\Downloads\\vehicle\\test\\images\\CarLongPlateGen626_jpg.rf.17926fa01c63f69aab76cc79ffcadfdf.jpg: 416x416 1 License_Plate, 7.6ms\n",
      "image 481/882 C:\\Users\\GenITeam\\Downloads\\vehicle\\test\\images\\CarLongPlateGen679_jpg.rf.61ddca2c1668fd33682c6a790eb7444d.jpg: 416x416 1 License_Plate, 7.5ms\n",
      "image 482/882 C:\\Users\\GenITeam\\Downloads\\vehicle\\test\\images\\CarLongPlateGen699_jpg.rf.9ab26516c8417bb5482445b5d3901c5a.jpg: 416x416 1 License_Plate, 7.9ms\n",
      "image 483/882 C:\\Users\\GenITeam\\Downloads\\vehicle\\test\\images\\CarLongPlateGen70_jpg.rf.14dd4f771dd481540891f0369b6f3d31.jpg: 416x416 1 License_Plate, 7.6ms\n",
      "image 484/882 C:\\Users\\GenITeam\\Downloads\\vehicle\\test\\images\\CarLongPlateGen714_jpg.rf.4bba5032987d8b7951efcd1b31c14724.jpg: 416x416 1 License_Plate, 11.1ms\n",
      "image 485/882 C:\\Users\\GenITeam\\Downloads\\vehicle\\test\\images\\CarLongPlateGen725_jpg.rf.c70452ddc8235c07087998f403a53b9f.jpg: 416x416 1 License_Plate, 8.0ms\n",
      "image 486/882 C:\\Users\\GenITeam\\Downloads\\vehicle\\test\\images\\CarLongPlateGen731_jpg.rf.e7d380856ffe61894d5bef8a1d75ea20.jpg: 416x416 1 License_Plate, 7.9ms\n",
      "image 487/882 C:\\Users\\GenITeam\\Downloads\\vehicle\\test\\images\\CarLongPlateGen738_jpg.rf.d9fb4de43ff1e4398a385429ff20da3a.jpg: 416x416 1 License_Plate, 7.5ms\n",
      "image 488/882 C:\\Users\\GenITeam\\Downloads\\vehicle\\test\\images\\CarLongPlateGen746_jpg.rf.3e40c5dff1504f2dc978cc806e4a567f.jpg: 416x416 1 License_Plate, 11.8ms\n",
      "image 489/882 C:\\Users\\GenITeam\\Downloads\\vehicle\\test\\images\\CarLongPlateGen751_jpg.rf.51def9320417b0c61df9ad3e55aa05da.jpg: 416x416 1 License_Plate, 7.9ms\n",
      "image 490/882 C:\\Users\\GenITeam\\Downloads\\vehicle\\test\\images\\CarLongPlateGen755_jpg.rf.4a90a2548b47c156233d0ba8439b55ac.jpg: 416x416 1 License_Plate, 9.1ms\n",
      "image 491/882 C:\\Users\\GenITeam\\Downloads\\vehicle\\test\\images\\CarLongPlateGen766_jpg.rf.796e141b50d4e003a0e30bb2bd2255d1.jpg: 416x416 1 License_Plate, 9.7ms\n",
      "image 492/882 C:\\Users\\GenITeam\\Downloads\\vehicle\\test\\images\\CarLongPlateGen778_jpg.rf.6606da2ed7e90d729a23806c2e420423.jpg: 416x416 1 License_Plate, 8.1ms\n",
      "image 493/882 C:\\Users\\GenITeam\\Downloads\\vehicle\\test\\images\\CarLongPlateGen789_jpg.rf.f984761135ad162faeb34ce0682cd4c2.jpg: 416x416 1 License_Plate, 7.6ms\n",
      "image 494/882 C:\\Users\\GenITeam\\Downloads\\vehicle\\test\\images\\CarLongPlateGen791_jpg.rf.f3e15244396ad8dbe425a4436f32bf59.jpg: 416x416 1 License_Plate, 8.0ms\n",
      "image 495/882 C:\\Users\\GenITeam\\Downloads\\vehicle\\test\\images\\CarLongPlateGen79_jpg.rf.e96fb5748a47128bb3db785347f87ee5.jpg: 416x416 1 License_Plate, 7.6ms\n",
      "image 496/882 C:\\Users\\GenITeam\\Downloads\\vehicle\\test\\images\\CarLongPlateGen80_jpg.rf.bcf7cf7c8b05d24cc6e22915761e5be6.jpg: 416x416 1 License_Plate, 8.1ms\n",
      "image 497/882 C:\\Users\\GenITeam\\Downloads\\vehicle\\test\\images\\CarLongPlateGen810_jpg.rf.260f300cd1bc39d17a734253a6259ae2.jpg: 416x416 1 License_Plate, 7.6ms\n",
      "image 498/882 C:\\Users\\GenITeam\\Downloads\\vehicle\\test\\images\\CarLongPlateGen814_jpg.rf.2c77f7f971a1a9357ef005737660029f.jpg: 416x416 1 License_Plate, 8.1ms\n",
      "image 499/882 C:\\Users\\GenITeam\\Downloads\\vehicle\\test\\images\\CarLongPlateGen819_jpg.rf.fd20f232ba3362ac693b5b741c80f316.jpg: 416x416 1 License_Plate, 7.8ms\n",
      "image 500/882 C:\\Users\\GenITeam\\Downloads\\vehicle\\test\\images\\CarLongPlateGen824_jpg.rf.6090f10f406c729ae6c95f13fe76bdd2.jpg: 416x416 1 License_Plate, 13.4ms\n",
      "image 501/882 C:\\Users\\GenITeam\\Downloads\\vehicle\\test\\images\\CarLongPlateGen846_jpg.rf.210c27d5ca4e50d2e38b1fa8da9bf9b4.jpg: 416x416 1 License_Plate, 8.8ms\n",
      "image 502/882 C:\\Users\\GenITeam\\Downloads\\vehicle\\test\\images\\CarLongPlateGen850_jpg.rf.35ea18f0827e104cd9ad78b9991553fa.jpg: 416x416 1 License_Plate, 8.2ms\n",
      "image 503/882 C:\\Users\\GenITeam\\Downloads\\vehicle\\test\\images\\CarLongPlateGen880_jpg.rf.e8c7683ea08aa89990a5fd9d6ce60e71.jpg: 416x416 1 License_Plate, 7.7ms\n",
      "image 504/882 C:\\Users\\GenITeam\\Downloads\\vehicle\\test\\images\\CarLongPlateGen898_jpg.rf.49c927318b83e48379aff315cdd0f33e.jpg: 416x416 1 License_Plate, 7.8ms\n",
      "image 505/882 C:\\Users\\GenITeam\\Downloads\\vehicle\\test\\images\\CarLongPlateGen907_jpg.rf.c726c24b78ac378b0292b504cdb2fc2e.jpg: 416x416 1 License_Plate, 7.7ms\n",
      "image 506/882 C:\\Users\\GenITeam\\Downloads\\vehicle\\test\\images\\CarLongPlateGen90_jpg.rf.fd51cb1c716f196494f03e148b96fc8d.jpg: 416x416 1 License_Plate, 7.6ms\n",
      "image 507/882 C:\\Users\\GenITeam\\Downloads\\vehicle\\test\\images\\CarLongPlateGen918_jpg.rf.41ab9f603ce87236bbbeb2b411a64336.jpg: 416x416 1 License_Plate, 7.6ms\n",
      "image 508/882 C:\\Users\\GenITeam\\Downloads\\vehicle\\test\\images\\CarLongPlateGen937_jpg.rf.b4f485221542d2a13479f94fcd187052.jpg: 416x416 1 License_Plate, 7.4ms\n",
      "image 509/882 C:\\Users\\GenITeam\\Downloads\\vehicle\\test\\images\\CarLongPlateGen944_jpg.rf.af49e422f92a7bb992158e1989f2a28b.jpg: 416x416 1 License_Plate, 7.9ms\n",
      "image 510/882 C:\\Users\\GenITeam\\Downloads\\vehicle\\test\\images\\CarLongPlateGen948_jpg.rf.473c864732e2d266bdcc4ac839454ced.jpg: 416x416 1 License_Plate, 7.8ms\n",
      "image 511/882 C:\\Users\\GenITeam\\Downloads\\vehicle\\test\\images\\CarLongPlateGen955_jpg.rf.8cc17b8eb3fcd3853379d11f7d0899e0.jpg: 416x416 1 License_Plate, 7.5ms\n",
      "image 512/882 C:\\Users\\GenITeam\\Downloads\\vehicle\\test\\images\\CarLongPlateGen95_jpg.rf.850b147223a37c93e5e92a61f6ef67e4.jpg: 416x416 1 License_Plate, 7.4ms\n",
      "image 513/882 C:\\Users\\GenITeam\\Downloads\\vehicle\\test\\images\\CarLongPlateGen966_jpg.rf.2f3d59cf6f563949390075100ac5a516.jpg: 416x416 1 License_Plate, 9.5ms\n",
      "image 514/882 C:\\Users\\GenITeam\\Downloads\\vehicle\\test\\images\\CarLongPlateGen970_jpg.rf.a014adec9cad549b9861bf024a9511e6.jpg: 416x416 1 License_Plate, 7.5ms\n",
      "image 515/882 C:\\Users\\GenITeam\\Downloads\\vehicle\\test\\images\\CarLongPlateGen975_jpg.rf.6ed9bd3c357db8f5b9b6c90827cf38f7.jpg: 416x416 1 License_Plate, 7.5ms\n",
      "image 516/882 C:\\Users\\GenITeam\\Downloads\\vehicle\\test\\images\\CarLongPlateGen98_jpg.rf.9a46f38486ee3153e1ba153aba6861b5.jpg: 416x416 1 License_Plate, 8.2ms\n",
      "image 517/882 C:\\Users\\GenITeam\\Downloads\\vehicle\\test\\images\\CarLongPlateGen998_jpg.rf.57c516be7baf1c2fd93be16e318f84da.jpg: 416x416 1 License_Plate, 7.7ms\n",
      "image 518/882 C:\\Users\\GenITeam\\Downloads\\vehicle\\test\\images\\CarLongPlateGen9_jpg.rf.6086a4636d50f1201546cf382b140ed8.jpg: 416x416 1 License_Plate, 11.9ms\n",
      "image 519/882 C:\\Users\\GenITeam\\Downloads\\vehicle\\test\\images\\Cars107_png_jpg.rf.98e68fc8c88945dd9c42402fefb232be.jpg: 416x416 1 License_Plate, 7.6ms\n",
      "image 520/882 C:\\Users\\GenITeam\\Downloads\\vehicle\\test\\images\\Cars111_png_jpg.rf.3722cf9a1487e7f9cd6bf8a12436ec5c.jpg: 416x416 1 License_Plate, 7.8ms\n",
      "image 521/882 C:\\Users\\GenITeam\\Downloads\\vehicle\\test\\images\\Cars118_png_jpg.rf.f4a2040c0996eb8f164a7e816dad12f6.jpg: 416x416 1 License_Plate, 7.8ms\n",
      "image 522/882 C:\\Users\\GenITeam\\Downloads\\vehicle\\test\\images\\Cars125_png_jpg.rf.c337cc80a8c182c2cfae11c0d9cc81d8.jpg: 416x416 1 License_Plate, 8.1ms\n",
      "image 523/882 C:\\Users\\GenITeam\\Downloads\\vehicle\\test\\images\\Cars128_png_jpg.rf.617a3c3771414d4bca54d1a297183315.jpg: 416x416 1 License_Plate, 7.8ms\n",
      "image 524/882 C:\\Users\\GenITeam\\Downloads\\vehicle\\test\\images\\Cars12_png_jpg.rf.08a7ca4bafc73db473a29918b07e1b71.jpg: 416x416 1 License_Plate, 8.0ms\n",
      "image 525/882 C:\\Users\\GenITeam\\Downloads\\vehicle\\test\\images\\Cars146_png_jpg.rf.c913e12b8d8bce8c217a907a03bf8ece.jpg: 416x416 (no detections), 8.0ms\n",
      "image 526/882 C:\\Users\\GenITeam\\Downloads\\vehicle\\test\\images\\Cars162_png_jpg.rf.fae7e5e83a638f5e12cfb86d5fd7a376.jpg: 416x416 1 License_Plate, 7.5ms\n",
      "image 527/882 C:\\Users\\GenITeam\\Downloads\\vehicle\\test\\images\\Cars167_png_jpg.rf.b5a86e92079e28689d043303554eba3f.jpg: 416x416 1 License_Plate, 7.5ms\n",
      "image 528/882 C:\\Users\\GenITeam\\Downloads\\vehicle\\test\\images\\Cars16_png_jpg.rf.cb0c83e5584e15e618a8bfa27eb5b632.jpg: 416x416 1 License_Plate, 7.4ms\n",
      "image 529/882 C:\\Users\\GenITeam\\Downloads\\vehicle\\test\\images\\Cars182_png_jpg.rf.0a6d1dd7f2f76561a232d2f663c7d064.jpg: 416x416 1 License_Plate, 11.9ms\n",
      "image 530/882 C:\\Users\\GenITeam\\Downloads\\vehicle\\test\\images\\Cars192_png_jpg.rf.8a99e0641134d904a34178fa1bf832fb.jpg: 416x416 1 License_Plate, 7.4ms\n",
      "image 531/882 C:\\Users\\GenITeam\\Downloads\\vehicle\\test\\images\\Cars194_png_jpg.rf.2fb148ee494f1799a7e0db1f9aed9e4f.jpg: 416x416 1 License_Plate, 7.6ms\n",
      "image 532/882 C:\\Users\\GenITeam\\Downloads\\vehicle\\test\\images\\Cars196_png_jpg.rf.bddab73ad304ab389b67aca515a19e89.jpg: 416x416 1 License_Plate, 7.9ms\n",
      "image 533/882 C:\\Users\\GenITeam\\Downloads\\vehicle\\test\\images\\Cars211_png_jpg.rf.6cf67f0c31a96990cb7f45bf5435be1b.jpg: 416x416 4 License_Plates, 7.5ms\n",
      "image 534/882 C:\\Users\\GenITeam\\Downloads\\vehicle\\test\\images\\Cars227_png_jpg.rf.2ddcce546a29b55ceecfac9053f8e507.jpg: 416x416 1 License_Plate, 7.4ms\n",
      "image 535/882 C:\\Users\\GenITeam\\Downloads\\vehicle\\test\\images\\Cars229_png_jpg.rf.c6d06bc2c74511af0223b4edd692b384.jpg: 416x416 (no detections), 7.4ms\n",
      "image 536/882 C:\\Users\\GenITeam\\Downloads\\vehicle\\test\\images\\Cars22_png_jpg.rf.3c1b1043305e7e92c3a84ae461257aa4.jpg: 416x416 1 License_Plate, 7.4ms\n",
      "image 537/882 C:\\Users\\GenITeam\\Downloads\\vehicle\\test\\images\\Cars262_png_jpg.rf.73e4b7b210c5ab0a726589471021a96e.jpg: 416x416 1 License_Plate, 7.4ms\n",
      "image 538/882 C:\\Users\\GenITeam\\Downloads\\vehicle\\test\\images\\Cars283_png_jpg.rf.4e6ca412d5bf59899b845e5a37a15db1.jpg: 416x416 2 License_Plates, 8.3ms\n",
      "image 539/882 C:\\Users\\GenITeam\\Downloads\\vehicle\\test\\images\\Cars289_png_jpg.rf.5f44083ba250cd8ea39bf81af82e03b2.jpg: 416x416 1 License_Plate, 7.5ms\n",
      "image 540/882 C:\\Users\\GenITeam\\Downloads\\vehicle\\test\\images\\Cars351_png_jpg.rf.99a6938f7696b7260a0acf61b4a84d41.jpg: 416x416 1 License_Plate, 7.5ms\n",
      "image 541/882 C:\\Users\\GenITeam\\Downloads\\vehicle\\test\\images\\Cars365_png_jpg.rf.707fc338c50b692dddc99dfef3aa55ca.jpg: 416x416 1 License_Plate, 7.6ms\n",
      "image 542/882 C:\\Users\\GenITeam\\Downloads\\vehicle\\test\\images\\Cars41_png_jpg.rf.4dfb8eecb56210aaa0fa9973e6c5977b.jpg: 416x416 1 License_Plate, 7.6ms\n",
      "image 543/882 C:\\Users\\GenITeam\\Downloads\\vehicle\\test\\images\\Cars430_png_jpg.rf.406f20bae450d3d7d944bb952800aabe.jpg: 416x416 1 License_Plate, 7.5ms\n",
      "image 544/882 C:\\Users\\GenITeam\\Downloads\\vehicle\\test\\images\\Cars7_png_jpg.rf.2add1e1e77724fdc102ca1f8cddae2ff.jpg: 416x416 1 License_Plate, 7.5ms\n",
      "image 545/882 C:\\Users\\GenITeam\\Downloads\\vehicle\\test\\images\\Cars83_png_jpg.rf.8098ef8dee14580fc812916a67c634d3.jpg: 416x416 1 License_Plate, 7.8ms\n",
      "image 546/882 C:\\Users\\GenITeam\\Downloads\\vehicle\\test\\images\\Cars85_png_jpg.rf.083b7bd1f3b3df7aa40dff9819de1984.jpg: 416x416 3 License_Plates, 7.6ms\n",
      "image 547/882 C:\\Users\\GenITeam\\Downloads\\vehicle\\test\\images\\Cars86_png_jpg.rf.5435864060364b92cec84676d1e12f33.jpg: 416x416 1 License_Plate, 14.8ms\n",
      "image 548/882 C:\\Users\\GenITeam\\Downloads\\vehicle\\test\\images\\boderngoaigiao14_jpg.rf.b93ec4526e1dc963c235ad534d092e20.jpg: 416x416 (no detections), 10.1ms\n",
      "image 549/882 C:\\Users\\GenITeam\\Downloads\\vehicle\\test\\images\\boderngoaigiao5_jpg.rf.2858ff4732446a8fece04284b9884934.jpg: 416x416 1 License_Plate, 7.6ms\n",
      "image 550/882 C:\\Users\\GenITeam\\Downloads\\vehicle\\test\\images\\boderquandoi100_jpg.rf.d46275c53bb09f35c1fc4306dba7e6be.jpg: 416x416 1 License_Plate, 7.6ms\n",
      "image 551/882 C:\\Users\\GenITeam\\Downloads\\vehicle\\test\\images\\boderquandoi101_jpg.rf.319f49fe79210a365e6ff18f530214bf.jpg: 416x416 1 License_Plate, 8.2ms\n",
      "image 552/882 C:\\Users\\GenITeam\\Downloads\\vehicle\\test\\images\\boderquandoi17_jpg.rf.8a9789a27efe4038056f6bd8f25d4d91.jpg: 416x416 1 License_Plate, 7.5ms\n",
      "image 553/882 C:\\Users\\GenITeam\\Downloads\\vehicle\\test\\images\\boderquandoi20_jpg.rf.82f9ef40d8d0e9ecd8194b2a69082bcd.jpg: 416x416 (no detections), 8.5ms\n",
      "image 554/882 C:\\Users\\GenITeam\\Downloads\\vehicle\\test\\images\\boderquandoi23_jpg.rf.19a004496fadf6ac3ecf7575a9143e64.jpg: 416x416 1 License_Plate, 8.3ms\n",
      "image 555/882 C:\\Users\\GenITeam\\Downloads\\vehicle\\test\\images\\boderquandoi54_jpg.rf.58b29678d644584498baf844f402df96.jpg: 416x416 1 License_Plate, 7.6ms\n",
      "image 556/882 C:\\Users\\GenITeam\\Downloads\\vehicle\\test\\images\\boderquandoi66_jpg.rf.983cb5cc887598082f5b7257f4d7274d.jpg: 416x416 1 License_Plate, 12.0ms\n",
      "image 557/882 C:\\Users\\GenITeam\\Downloads\\vehicle\\test\\images\\boderquandoi7_jpg.rf.8e6989f2e3074c80b2524ebb6a6224c1.jpg: 416x416 (no detections), 7.5ms\n",
      "image 558/882 C:\\Users\\GenITeam\\Downloads\\vehicle\\test\\images\\boderquandoi88_jpg.rf.3edbc4bcb1b97e4c6604b3202f61ddd0.jpg: 416x416 1 License_Plate, 7.5ms\n",
      "image 559/882 C:\\Users\\GenITeam\\Downloads\\vehicle\\test\\images\\boderquandoi94_jpg.rf.7cbf842c3f5d9a6ac1aff30524eb1509.jpg: 416x416 (no detections), 7.5ms\n",
      "image 560/882 C:\\Users\\GenITeam\\Downloads\\vehicle\\test\\images\\brightnessngoaigiao14_jpg.rf.a1a4baaa8389a6af17504720eb1be82d.jpg: 416x416 1 License_Plate, 7.5ms\n",
      "image 561/882 C:\\Users\\GenITeam\\Downloads\\vehicle\\test\\images\\brightnessquandoi109_jpg.rf.1266c740841548bbb7b5cb76c1a33162.jpg: 416x416 1 License_Plate, 7.8ms\n",
      "image 562/882 C:\\Users\\GenITeam\\Downloads\\vehicle\\test\\images\\brightnessquandoi20_jpg.rf.c878af7d4d6a61655a35c6003aea6dee.jpg: 416x416 1 License_Plate, 7.8ms\n",
      "image 563/882 C:\\Users\\GenITeam\\Downloads\\vehicle\\test\\images\\brightnessquandoi23_jpg.rf.609899cdd5d605e3034f1ecccda6e0f6.jpg: 416x416 1 License_Plate, 7.6ms\n",
      "image 564/882 C:\\Users\\GenITeam\\Downloads\\vehicle\\test\\images\\brightnessquandoi29_jpg.rf.8c766de33a1b432937349b170b191afb.jpg: 416x416 1 License_Plate, 11.1ms\n",
      "image 565/882 C:\\Users\\GenITeam\\Downloads\\vehicle\\test\\images\\brightnessquandoi46_jpg.rf.1c0ba87b697e3f5e6b927c8fe84c7afa.jpg: 416x416 2 License_Plates, 7.6ms\n",
      "image 566/882 C:\\Users\\GenITeam\\Downloads\\vehicle\\test\\images\\brightnessquandoi4_jpg.rf.958e2b7b88c2b82426ed8aafa855f6c3.jpg: 416x416 1 License_Plate, 7.8ms\n",
      "image 567/882 C:\\Users\\GenITeam\\Downloads\\vehicle\\test\\images\\brightnessquandoi5_jpg.rf.39984ed96650e28c733e47186d1c0d39.jpg: 416x416 1 License_Plate, 7.5ms\n",
      "image 568/882 C:\\Users\\GenITeam\\Downloads\\vehicle\\test\\images\\brightnessquandoi6_jpg.rf.28726cd1dbc2540d129c95f8d952378a.jpg: 416x416 1 License_Plate, 7.5ms\n",
      "image 569/882 C:\\Users\\GenITeam\\Downloads\\vehicle\\test\\images\\brightnessquandoi71_jpg.rf.601576edde513bfa6d8985aaa2aeb5f3.jpg: 416x416 1 License_Plate, 7.6ms\n",
      "image 570/882 C:\\Users\\GenITeam\\Downloads\\vehicle\\test\\images\\brightnessquandoi88_jpg.rf.58404ce02396c4c1864e873e3d5f873c.jpg: 416x416 1 License_Plate, 7.6ms\n",
      "image 571/882 C:\\Users\\GenITeam\\Downloads\\vehicle\\test\\images\\brightnessquandoi90_jpg.rf.3e59d9547561f93567e6b18fe5c30c5a.jpg: 416x416 1 License_Plate, 7.5ms\n",
      "image 572/882 C:\\Users\\GenITeam\\Downloads\\vehicle\\test\\images\\cropngoaigiao3_jpg.rf.2e45cb3bdeb75c09d409f0aba08b66a6.jpg: 416x416 1 License_Plate, 7.5ms\n",
      "image 573/882 C:\\Users\\GenITeam\\Downloads\\vehicle\\test\\images\\cropngoaigiao5_jpg.rf.44365505e33cc4c38980fd3e13384490.jpg: 416x416 1 License_Plate, 7.6ms\n",
      "image 574/882 C:\\Users\\GenITeam\\Downloads\\vehicle\\test\\images\\cropquandoi102_jpg.rf.63b6ff1c355abd7c688cae04d2fcde8a.jpg: 416x416 1 License_Plate, 7.6ms\n",
      "image 575/882 C:\\Users\\GenITeam\\Downloads\\vehicle\\test\\images\\cropquandoi107_jpg.rf.ddd467a0cf0dc2f3d790e7ea3f6e9126.jpg: 416x416 2 License_Plates, 7.6ms\n",
      "image 576/882 C:\\Users\\GenITeam\\Downloads\\vehicle\\test\\images\\cropquandoi31_jpg.rf.e58db9a8dec9ba2d3b1dece1ceb4b869.jpg: 416x416 1 License_Plate, 7.7ms\n",
      "image 577/882 C:\\Users\\GenITeam\\Downloads\\vehicle\\test\\images\\cropquandoi73_jpg.rf.9c775d7dd3d7c4c3dd5f78a957ecb143.jpg: 416x416 1 License_Plate, 7.5ms\n",
      "image 578/882 C:\\Users\\GenITeam\\Downloads\\vehicle\\test\\images\\ngoaigiao0_jpg.rf.47e2b31834c1073d72277cb41eff0f2f.jpg: 416x416 1 License_Plate, 7.5ms\n",
      "image 579/882 C:\\Users\\GenITeam\\Downloads\\vehicle\\test\\images\\ngoaigiao11_jpg.rf.59a5686aabedfb356529c43eac761934.jpg: 416x416 2 License_Plates, 10.2ms\n",
      "image 580/882 C:\\Users\\GenITeam\\Downloads\\vehicle\\test\\images\\ngoaigiao2_jpg.rf.76a9ea86e66d4a1a9e376dd5a9c9d459.jpg: 416x416 1 License_Plate, 7.6ms\n",
      "image 581/882 C:\\Users\\GenITeam\\Downloads\\vehicle\\test\\images\\ngoaigiao8_jpg.rf.21424311d76675a39b1648645d33ade2.jpg: 416x416 1 License_Plate, 7.5ms\n",
      "image 582/882 C:\\Users\\GenITeam\\Downloads\\vehicle\\test\\images\\quandoi14_jpg.rf.9d7cd5050d7b8f2a9bb6588697155455.jpg: 416x416 1 License_Plate, 7.5ms\n",
      "image 583/882 C:\\Users\\GenITeam\\Downloads\\vehicle\\test\\images\\quandoi41_jpg.rf.784185aa682977358eba296494dc09e1.jpg: 416x416 1 License_Plate, 7.5ms\n",
      "image 584/882 C:\\Users\\GenITeam\\Downloads\\vehicle\\test\\images\\quandoi45_jpg.rf.74c85f6f32635af4d79a6767cbf314ed.jpg: 416x416 1 License_Plate, 7.5ms\n",
      "image 585/882 C:\\Users\\GenITeam\\Downloads\\vehicle\\test\\images\\quandoi5_jpg.rf.386f540b2c0bfeaf762a7a0de67be9f2.jpg: 416x416 1 License_Plate, 7.4ms\n",
      "image 586/882 C:\\Users\\GenITeam\\Downloads\\vehicle\\test\\images\\quandoi88_jpg.rf.7ee2dfb2cd1ffffa10aaa7c0f56db18d.jpg: 416x416 1 License_Plate, 7.4ms\n",
      "image 587/882 C:\\Users\\GenITeam\\Downloads\\vehicle\\test\\images\\rotatengoaigiao0_jpg.rf.0f2eea8278f3e2a4ecd084208e0d14b1.jpg: 416x416 1 License_Plate, 7.6ms\n",
      "image 588/882 C:\\Users\\GenITeam\\Downloads\\vehicle\\test\\images\\rotatengoaigiao3_jpg.rf.96aa5840857048bfca27a440cc5c0a43.jpg: 416x416 1 License_Plate, 7.5ms\n",
      "image 589/882 C:\\Users\\GenITeam\\Downloads\\vehicle\\test\\images\\rotatequandoi0_jpg.rf.5832b31dd4161aae9040e4f897df9d46.jpg: 416x416 1 License_Plate, 7.6ms\n",
      "image 590/882 C:\\Users\\GenITeam\\Downloads\\vehicle\\test\\images\\rotatequandoi101_jpg.rf.a30f6fdb1a76be7d02fa51356233ba48.jpg: 416x416 1 License_Plate, 7.5ms\n",
      "image 591/882 C:\\Users\\GenITeam\\Downloads\\vehicle\\test\\images\\rotatequandoi14_jpg.rf.2d5481caf512e3f12df97e985e3a4a17.jpg: 416x416 1 License_Plate, 9.6ms\n",
      "image 592/882 C:\\Users\\GenITeam\\Downloads\\vehicle\\test\\images\\rotatequandoi26_jpg.rf.bd4bc662cbb196aa366eb24539a264f4.jpg: 416x416 1 License_Plate, 7.5ms\n",
      "image 593/882 C:\\Users\\GenITeam\\Downloads\\vehicle\\test\\images\\rotatequandoi27_jpg.rf.116495162755240b850b32d4f985c41b.jpg: 416x416 1 License_Plate, 7.5ms\n",
      "image 594/882 C:\\Users\\GenITeam\\Downloads\\vehicle\\test\\images\\rotatequandoi34_jpg.rf.929e8e1472e74193f230066ad782e976.jpg: 416x416 1 License_Plate, 7.5ms\n",
      "image 595/882 C:\\Users\\GenITeam\\Downloads\\vehicle\\test\\images\\rotatequandoi41_jpg.rf.0796fa4be05aee3233485a73377e61cd.jpg: 416x416 1 License_Plate, 8.9ms\n",
      "image 596/882 C:\\Users\\GenITeam\\Downloads\\vehicle\\test\\images\\rotatequandoi56_jpg.rf.a841fdb84482e24d65af03cf830e161d.jpg: 416x416 1 License_Plate, 8.0ms\n",
      "image 597/882 C:\\Users\\GenITeam\\Downloads\\vehicle\\test\\images\\rotatequandoi71_jpg.rf.0ede37148376b81583414b8b3074407e.jpg: 416x416 2 License_Plates, 12.1ms\n",
      "image 598/882 C:\\Users\\GenITeam\\Downloads\\vehicle\\test\\images\\rotatequandoi9_jpg.rf.368affc51fd44f568fb827d3220af7ed.jpg: 416x416 1 License_Plate, 8.2ms\n",
      "image 599/882 C:\\Users\\GenITeam\\Downloads\\vehicle\\test\\images\\xemay0_jpg.rf.d3df6663f333fb244249772a2b74432c.jpg: 416x416 1 License_Plate, 7.6ms\n",
      "image 600/882 C:\\Users\\GenITeam\\Downloads\\vehicle\\test\\images\\xemay1000_jpg.rf.40d5c2d72d1710e3b79a20e03c20530c.jpg: 416x416 1 License_Plate, 7.7ms\n",
      "image 601/882 C:\\Users\\GenITeam\\Downloads\\vehicle\\test\\images\\xemay1001_jpg.rf.d562c7dff4993c58dddda0940f15a300.jpg: 416x416 1 License_Plate, 7.6ms\n",
      "image 602/882 C:\\Users\\GenITeam\\Downloads\\vehicle\\test\\images\\xemay1040_jpg.rf.7814f23ca034f0781ade69a111ce4ff7.jpg: 416x416 1 License_Plate, 7.5ms\n",
      "image 603/882 C:\\Users\\GenITeam\\Downloads\\vehicle\\test\\images\\xemay1063_jpg.rf.5ea19eb4c75031547b52e8544f548216.jpg: 416x416 1 License_Plate, 7.7ms\n",
      "image 604/882 C:\\Users\\GenITeam\\Downloads\\vehicle\\test\\images\\xemay1064_jpg.rf.377f3ec21837d9520f428c511a747a6f.jpg: 416x416 1 License_Plate, 7.7ms\n",
      "image 605/882 C:\\Users\\GenITeam\\Downloads\\vehicle\\test\\images\\xemay1082_jpg.rf.b72c6cb32ca904bdd8f8c819ea171c7c.jpg: 416x416 1 License_Plate, 7.6ms\n",
      "image 606/882 C:\\Users\\GenITeam\\Downloads\\vehicle\\test\\images\\xemay1087_jpg.rf.3da89cb6061dc3470dcc5d8aa16c7b73.jpg: 416x416 1 License_Plate, 7.6ms\n",
      "image 607/882 C:\\Users\\GenITeam\\Downloads\\vehicle\\test\\images\\xemay1107_jpg.rf.0c708dd462634cb7569ad9207e38aff3.jpg: 416x416 1 License_Plate, 7.6ms\n",
      "image 608/882 C:\\Users\\GenITeam\\Downloads\\vehicle\\test\\images\\xemay1108_jpg.rf.9f3d113cb5b2972d4a2f83e924465708.jpg: 416x416 1 License_Plate, 7.5ms\n",
      "image 609/882 C:\\Users\\GenITeam\\Downloads\\vehicle\\test\\images\\xemay1137_jpg.rf.20fc87f37c80b867dd07aea6d7bf1412.jpg: 416x416 1 License_Plate, 7.5ms\n",
      "image 610/882 C:\\Users\\GenITeam\\Downloads\\vehicle\\test\\images\\xemay1138_jpg.rf.d390f09d9b59c717e2b462929f9c04e5.jpg: 416x416 1 License_Plate, 7.5ms\n",
      "image 611/882 C:\\Users\\GenITeam\\Downloads\\vehicle\\test\\images\\xemay113_jpg.rf.99d632e2dd4438e453d66c9133d45df1.jpg: 416x416 1 License_Plate, 7.5ms\n",
      "image 612/882 C:\\Users\\GenITeam\\Downloads\\vehicle\\test\\images\\xemay1140_jpg.rf.044a7b6ef6f52d6390cf1baa590f0b9e.jpg: 416x416 1 License_Plate, 7.6ms\n",
      "image 613/882 C:\\Users\\GenITeam\\Downloads\\vehicle\\test\\images\\xemay1152_jpg.rf.f32c5c56bed5e6c4c081704c6f8589fa.jpg: 416x416 1 License_Plate, 7.9ms\n",
      "image 614/882 C:\\Users\\GenITeam\\Downloads\\vehicle\\test\\images\\xemay1154_jpg.rf.5efa7c8d521a241b6c927c08f7f9b3cd.jpg: 416x416 1 License_Plate, 7.5ms\n",
      "image 615/882 C:\\Users\\GenITeam\\Downloads\\vehicle\\test\\images\\xemay1156_jpg.rf.390251ee28d49fff999c7d4a8c035dee.jpg: 416x416 1 License_Plate, 7.6ms\n",
      "image 616/882 C:\\Users\\GenITeam\\Downloads\\vehicle\\test\\images\\xemay1158_jpg.rf.47c2cde1e1e11bc20e1383f90fad3ec0.jpg: 416x416 1 License_Plate, 7.6ms\n",
      "image 617/882 C:\\Users\\GenITeam\\Downloads\\vehicle\\test\\images\\xemay1172_jpg.rf.25336f39ccf4134bf21bd96de79b27bb.jpg: 416x416 1 License_Plate, 7.6ms\n",
      "image 618/882 C:\\Users\\GenITeam\\Downloads\\vehicle\\test\\images\\xemay1184_jpg.rf.24241dcb43f01566bb323f3889a29174.jpg: 416x416 1 License_Plate, 7.4ms\n",
      "image 619/882 C:\\Users\\GenITeam\\Downloads\\vehicle\\test\\images\\xemay1191_jpg.rf.51af8d73754ca757d8ace2c64a07d3b0.jpg: 416x416 1 License_Plate, 7.6ms\n",
      "image 620/882 C:\\Users\\GenITeam\\Downloads\\vehicle\\test\\images\\xemay1211_jpg.rf.fe5f083642f49b589c9736f9c315f550.jpg: 416x416 1 License_Plate, 7.6ms\n",
      "image 621/882 C:\\Users\\GenITeam\\Downloads\\vehicle\\test\\images\\xemay1219_jpg.rf.726016af68e14e9ba1a19f9bd2c35d43.jpg: 416x416 1 License_Plate, 7.6ms\n",
      "image 622/882 C:\\Users\\GenITeam\\Downloads\\vehicle\\test\\images\\xemay1223_jpg.rf.1384b416f58d225bc26372048e58a6cf.jpg: 416x416 1 License_Plate, 7.5ms\n",
      "image 623/882 C:\\Users\\GenITeam\\Downloads\\vehicle\\test\\images\\xemay122_jpg.rf.053bf385248962c06f5b0a524ca1b929.jpg: 416x416 1 License_Plate, 7.6ms\n",
      "image 624/882 C:\\Users\\GenITeam\\Downloads\\vehicle\\test\\images\\xemay1230_jpg.rf.61bc85d88853859135aa17016653e610.jpg: 416x416 1 License_Plate, 7.7ms\n",
      "image 625/882 C:\\Users\\GenITeam\\Downloads\\vehicle\\test\\images\\xemay1231_jpg.rf.422d45a2fba0b8dfb2abe33de55de238.jpg: 416x416 1 License_Plate, 7.8ms\n",
      "image 626/882 C:\\Users\\GenITeam\\Downloads\\vehicle\\test\\images\\xemay1242_jpg.rf.4047fb5aee11caef33761d8bbbb36908.jpg: 416x416 1 License_Plate, 7.6ms\n",
      "image 627/882 C:\\Users\\GenITeam\\Downloads\\vehicle\\test\\images\\xemay1258_jpg.rf.99439fbff1ff55caf248a60736515892.jpg: 416x416 1 License_Plate, 7.5ms\n",
      "image 628/882 C:\\Users\\GenITeam\\Downloads\\vehicle\\test\\images\\xemay1266_jpg.rf.61577aefccc387bf08190a2c48b5ff67.jpg: 416x416 1 License_Plate, 7.6ms\n",
      "image 629/882 C:\\Users\\GenITeam\\Downloads\\vehicle\\test\\images\\xemay1275_jpg.rf.70802ef32668f9922bdd206d1d4b5e6d.jpg: 416x416 1 License_Plate, 11.1ms\n",
      "image 630/882 C:\\Users\\GenITeam\\Downloads\\vehicle\\test\\images\\xemay1278_jpg.rf.4e268c3b6f7b79a1049b4770d77a3b15.jpg: 416x416 1 License_Plate, 7.8ms\n",
      "image 631/882 C:\\Users\\GenITeam\\Downloads\\vehicle\\test\\images\\xemay1281_jpg.rf.5bbdfac6142197401a45ad73e60ca673.jpg: 416x416 1 License_Plate, 7.7ms\n",
      "image 632/882 C:\\Users\\GenITeam\\Downloads\\vehicle\\test\\images\\xemay1301_jpg.rf.ab7b9d2aad21c6ff92360cbd4c663bf8.jpg: 416x416 1 License_Plate, 8.1ms\n",
      "image 633/882 C:\\Users\\GenITeam\\Downloads\\vehicle\\test\\images\\xemay1306_jpg.rf.abd103560403bc38848ab5831ce26121.jpg: 416x416 1 License_Plate, 7.5ms\n",
      "image 634/882 C:\\Users\\GenITeam\\Downloads\\vehicle\\test\\images\\xemay1309_jpg.rf.8fc93ff97da17af685ff7434e19aac37.jpg: 416x416 1 License_Plate, 7.6ms\n",
      "image 635/882 C:\\Users\\GenITeam\\Downloads\\vehicle\\test\\images\\xemay1313_jpg.rf.2f67020827a461dbd4789fd7b57dae87.jpg: 416x416 1 License_Plate, 7.6ms\n",
      "image 636/882 C:\\Users\\GenITeam\\Downloads\\vehicle\\test\\images\\xemay1321_jpg.rf.46e3717da4cdece8f733764dcb25516c.jpg: 416x416 1 License_Plate, 8.0ms\n",
      "image 637/882 C:\\Users\\GenITeam\\Downloads\\vehicle\\test\\images\\xemay1340_jpg.rf.2d21723f9405ea9ed86083e2f903ea04.jpg: 416x416 1 License_Plate, 7.6ms\n",
      "image 638/882 C:\\Users\\GenITeam\\Downloads\\vehicle\\test\\images\\xemay1343_jpg.rf.e4e1b61d321762511b93aebbbf7bd031.jpg: 416x416 1 License_Plate, 8.0ms\n",
      "image 639/882 C:\\Users\\GenITeam\\Downloads\\vehicle\\test\\images\\xemay1367_jpg.rf.c4dcff07a0d8e25c6b08b64bdc8e04d7.jpg: 416x416 1 License_Plate, 7.5ms\n",
      "image 640/882 C:\\Users\\GenITeam\\Downloads\\vehicle\\test\\images\\xemay1408_jpg.rf.d74a72375f89db72c8ac19ddf502cd22.jpg: 416x416 1 License_Plate, 7.6ms\n",
      "image 641/882 C:\\Users\\GenITeam\\Downloads\\vehicle\\test\\images\\xemay1429_jpg.rf.8f7846895141937c75d5300081f82420.jpg: 416x416 1 License_Plate, 7.6ms\n",
      "image 642/882 C:\\Users\\GenITeam\\Downloads\\vehicle\\test\\images\\xemay1431_jpg.rf.05ce64b80fcf35c313437ccd9d23c463.jpg: 416x416 1 License_Plate, 7.6ms\n",
      "image 643/882 C:\\Users\\GenITeam\\Downloads\\vehicle\\test\\images\\xemay1442_jpg.rf.1c093171c6889bb9ea032b201e1a22b8.jpg: 416x416 1 License_Plate, 7.6ms\n",
      "image 644/882 C:\\Users\\GenITeam\\Downloads\\vehicle\\test\\images\\xemay1445_jpg.rf.2f94dca9786b67a8eeea501a50e34bc9.jpg: 416x416 1 License_Plate, 7.6ms\n",
      "image 645/882 C:\\Users\\GenITeam\\Downloads\\vehicle\\test\\images\\xemay1448_jpg.rf.870bece648aad60c4fb4a0645830a7f8.jpg: 416x416 1 License_Plate, 7.6ms\n",
      "image 646/882 C:\\Users\\GenITeam\\Downloads\\vehicle\\test\\images\\xemay1452_jpg.rf.5abeca6695648a15a1284cffda1a2175.jpg: 416x416 1 License_Plate, 7.6ms\n",
      "image 647/882 C:\\Users\\GenITeam\\Downloads\\vehicle\\test\\images\\xemay1459_jpg.rf.d95dfb131611c6d77346949156a6d60f.jpg: 416x416 1 License_Plate, 7.4ms\n",
      "image 648/882 C:\\Users\\GenITeam\\Downloads\\vehicle\\test\\images\\xemay1470_jpg.rf.92ea6475076b4b0c197eb46ddc30bf63.jpg: 416x416 1 License_Plate, 7.6ms\n",
      "image 649/882 C:\\Users\\GenITeam\\Downloads\\vehicle\\test\\images\\xemay1478_jpg.rf.e3f458f88ae053370531131110761078.jpg: 416x416 1 License_Plate, 7.6ms\n",
      "image 650/882 C:\\Users\\GenITeam\\Downloads\\vehicle\\test\\images\\xemay1480_jpg.rf.9afcfd95350e9ad1e14b56f2c3965f9b.jpg: 416x416 1 License_Plate, 7.6ms\n",
      "image 651/882 C:\\Users\\GenITeam\\Downloads\\vehicle\\test\\images\\xemay1484_jpg.rf.074bfe6b3ecec96825e04ffb67fce7d8.jpg: 416x416 1 License_Plate, 7.7ms\n",
      "image 652/882 C:\\Users\\GenITeam\\Downloads\\vehicle\\test\\images\\xemay148_jpg.rf.c1acc486ed834b2f58f64c4ad6132222.jpg: 416x416 1 License_Plate, 7.6ms\n",
      "image 653/882 C:\\Users\\GenITeam\\Downloads\\vehicle\\test\\images\\xemay1493_jpg.rf.ac338132d37d57f2674009be1a0e1f19.jpg: 416x416 1 License_Plate, 7.5ms\n",
      "image 654/882 C:\\Users\\GenITeam\\Downloads\\vehicle\\test\\images\\xemay1500_jpg.rf.f932e2768f26c4e65b58458a45329fb5.jpg: 416x416 1 License_Plate, 7.4ms\n",
      "image 655/882 C:\\Users\\GenITeam\\Downloads\\vehicle\\test\\images\\xemay1501_jpg.rf.e0af9682348f361996faaacf6b5b2ee4.jpg: 416x416 1 License_Plate, 7.6ms\n",
      "image 656/882 C:\\Users\\GenITeam\\Downloads\\vehicle\\test\\images\\xemay1502_jpg.rf.a81c822cff2485b216862c6b660258bc.jpg: 416x416 1 License_Plate, 7.5ms\n",
      "image 657/882 C:\\Users\\GenITeam\\Downloads\\vehicle\\test\\images\\xemay1510_jpg.rf.2cb3880750b4eb418e22b2110393fe4e.jpg: 416x416 1 License_Plate, 7.7ms\n",
      "image 658/882 C:\\Users\\GenITeam\\Downloads\\vehicle\\test\\images\\xemay1513_jpg.rf.04a7e1a6fd1c46e4ee4ea8cdfb49d5bc.jpg: 416x416 1 License_Plate, 7.6ms\n",
      "image 659/882 C:\\Users\\GenITeam\\Downloads\\vehicle\\test\\images\\xemay1530_jpg.rf.7fa29a9f34d38e025fc93cc5ceb14be2.jpg: 416x416 1 License_Plate, 7.7ms\n",
      "image 660/882 C:\\Users\\GenITeam\\Downloads\\vehicle\\test\\images\\xemay1533_jpg.rf.2be378f278edff1cbb837c94ed5d46a9.jpg: 416x416 1 License_Plate, 7.6ms\n",
      "image 661/882 C:\\Users\\GenITeam\\Downloads\\vehicle\\test\\images\\xemay1544_jpg.rf.9fe3b0a933c8c790c7861ee870488ebe.jpg: 416x416 1 License_Plate, 8.3ms\n",
      "image 662/882 C:\\Users\\GenITeam\\Downloads\\vehicle\\test\\images\\xemay154_jpg.rf.d8442c236b8046da3f8888c14f617724.jpg: 416x416 1 License_Plate, 8.1ms\n",
      "image 663/882 C:\\Users\\GenITeam\\Downloads\\vehicle\\test\\images\\xemay1553_jpg.rf.7d88e7d9a855cdcb892ec1f891f214b1.jpg: 416x416 1 License_Plate, 7.6ms\n",
      "image 664/882 C:\\Users\\GenITeam\\Downloads\\vehicle\\test\\images\\xemay1556_jpg.rf.f1c128e14d7fdf994ea007cd91c6fe6d.jpg: 416x416 1 License_Plate, 11.6ms\n",
      "image 665/882 C:\\Users\\GenITeam\\Downloads\\vehicle\\test\\images\\xemay1557_jpg.rf.db6e24c329f2be7967eb0c83f1c8fc58.jpg: 416x416 1 License_Plate, 8.3ms\n",
      "image 666/882 C:\\Users\\GenITeam\\Downloads\\vehicle\\test\\images\\xemay1572_jpg.rf.3bad0c2e64724967b332a5a2d24cae7d.jpg: 416x416 1 License_Plate, 7.6ms\n",
      "image 667/882 C:\\Users\\GenITeam\\Downloads\\vehicle\\test\\images\\xemay1573_jpg.rf.90ea4415c6ba5c84cae6974a6a48b868.jpg: 416x416 1 License_Plate, 7.6ms\n",
      "image 668/882 C:\\Users\\GenITeam\\Downloads\\vehicle\\test\\images\\xemay1580_jpg.rf.3d6d87f87c59267acb45611f37180053.jpg: 416x416 1 License_Plate, 7.6ms\n",
      "image 669/882 C:\\Users\\GenITeam\\Downloads\\vehicle\\test\\images\\xemay1582_jpg.rf.9350e006e2b91b37b097620d056a41f9.jpg: 416x416 1 License_Plate, 7.5ms\n",
      "image 670/882 C:\\Users\\GenITeam\\Downloads\\vehicle\\test\\images\\xemay158_jpg.rf.c4b568a2ef6ed59dd7d0a72712f3f061.jpg: 416x416 1 License_Plate, 7.5ms\n",
      "image 671/882 C:\\Users\\GenITeam\\Downloads\\vehicle\\test\\images\\xemay159_jpg.rf.1e539c49397ffbd1587a04eabaa1be8a.jpg: 416x416 1 License_Plate, 7.7ms\n",
      "image 672/882 C:\\Users\\GenITeam\\Downloads\\vehicle\\test\\images\\xemay1601_jpg.rf.c38c818b6148b5d33bbc155331355692.jpg: 416x416 1 License_Plate, 7.5ms\n",
      "image 673/882 C:\\Users\\GenITeam\\Downloads\\vehicle\\test\\images\\xemay1603_jpg.rf.9127ec1b6a39ba9bb3d9a9a4d511dc28.jpg: 416x416 1 License_Plate, 7.6ms\n",
      "image 674/882 C:\\Users\\GenITeam\\Downloads\\vehicle\\test\\images\\xemay1605_jpg.rf.df96a115d5b28f2db11b7c92f7f22f67.jpg: 416x416 1 License_Plate, 7.6ms\n",
      "image 675/882 C:\\Users\\GenITeam\\Downloads\\vehicle\\test\\images\\xemay1621_jpg.rf.a6b12bccfc7bf01e69a2e6e79ef83d08.jpg: 416x416 1 License_Plate, 7.9ms\n",
      "image 676/882 C:\\Users\\GenITeam\\Downloads\\vehicle\\test\\images\\xemay1670_jpg.rf.4a07c4adab661a783e38b92e09995a5d.jpg: 416x416 1 License_Plate, 7.8ms\n",
      "image 677/882 C:\\Users\\GenITeam\\Downloads\\vehicle\\test\\images\\xemay1673_jpg.rf.8952b37b2f2105a5b0b6cfa2edd48643.jpg: 416x416 1 License_Plate, 7.6ms\n",
      "image 678/882 C:\\Users\\GenITeam\\Downloads\\vehicle\\test\\images\\xemay1678_jpg.rf.37a4573366974398aef424a8d55e1805.jpg: 416x416 1 License_Plate, 9.8ms\n",
      "image 679/882 C:\\Users\\GenITeam\\Downloads\\vehicle\\test\\images\\xemay1682_jpg.rf.78d39becc60051235e3e822d8869851a.jpg: 416x416 1 License_Plate, 8.1ms\n",
      "image 680/882 C:\\Users\\GenITeam\\Downloads\\vehicle\\test\\images\\xemay1684_jpg.rf.22685bb328dccb124ed7fc7a3f7f4571.jpg: 416x416 1 License_Plate, 7.7ms\n",
      "image 681/882 C:\\Users\\GenITeam\\Downloads\\vehicle\\test\\images\\xemay1689_jpg.rf.5c327c65efecc832e7a2e207e5d254ca.jpg: 416x416 1 License_Plate, 7.6ms\n",
      "image 682/882 C:\\Users\\GenITeam\\Downloads\\vehicle\\test\\images\\xemay170_jpg.rf.7d8f7cb8723f98cd44e0b134b70fa535.jpg: 416x416 1 License_Plate, 7.7ms\n",
      "image 683/882 C:\\Users\\GenITeam\\Downloads\\vehicle\\test\\images\\xemay1724_jpg.rf.5038f3e250259f0e59ff8e352a5686a9.jpg: 416x416 1 License_Plate, 7.8ms\n",
      "image 684/882 C:\\Users\\GenITeam\\Downloads\\vehicle\\test\\images\\xemay1730_jpg.rf.a92a3d7e6d220d1b3d7849883fa1e82d.jpg: 416x416 1 License_Plate, 7.8ms\n",
      "image 685/882 C:\\Users\\GenITeam\\Downloads\\vehicle\\test\\images\\xemay1742_jpg.rf.ce50467719d69f7a588a0eee95ee850c.jpg: 416x416 1 License_Plate, 7.6ms\n",
      "image 686/882 C:\\Users\\GenITeam\\Downloads\\vehicle\\test\\images\\xemay1750_jpg.rf.712e9e7bf309f4af7e5d2659e4790fb6.jpg: 416x416 1 License_Plate, 7.6ms\n",
      "image 687/882 C:\\Users\\GenITeam\\Downloads\\vehicle\\test\\images\\xemay1758_jpg.rf.9d8a74423816fcdd36cdc59a8425429f.jpg: 416x416 1 License_Plate, 7.6ms\n",
      "image 688/882 C:\\Users\\GenITeam\\Downloads\\vehicle\\test\\images\\xemay1763_jpg.rf.c7384954978b33834250e670fc9ff7cc.jpg: 416x416 1 License_Plate, 7.6ms\n",
      "image 689/882 C:\\Users\\GenITeam\\Downloads\\vehicle\\test\\images\\xemay1773_jpg.rf.3401d8af500f27af41d23e6e36e9409b.jpg: 416x416 1 License_Plate, 7.6ms\n",
      "image 690/882 C:\\Users\\GenITeam\\Downloads\\vehicle\\test\\images\\xemay1787_jpg.rf.0dda0c50b62e09f8259e40cde1790814.jpg: 416x416 1 License_Plate, 7.6ms\n",
      "image 691/882 C:\\Users\\GenITeam\\Downloads\\vehicle\\test\\images\\xemay1791_jpg.rf.f2d1fb680976c9d3aa9efd94fca3c6d7.jpg: 416x416 1 License_Plate, 7.7ms\n",
      "image 692/882 C:\\Users\\GenITeam\\Downloads\\vehicle\\test\\images\\xemay1801_jpg.rf.41561b2e12cf73fe2e9c512a0cc3c379.jpg: 416x416 1 License_Plate, 7.8ms\n",
      "image 693/882 C:\\Users\\GenITeam\\Downloads\\vehicle\\test\\images\\xemay1817_jpg.rf.1577abc44e70ce4b2f4b33156640138b.jpg: 416x416 1 License_Plate, 8.6ms\n",
      "image 694/882 C:\\Users\\GenITeam\\Downloads\\vehicle\\test\\images\\xemay1831_jpg.rf.9b2086a4869b89b830b30459603c8861.jpg: 416x416 1 License_Plate, 7.7ms\n",
      "image 695/882 C:\\Users\\GenITeam\\Downloads\\vehicle\\test\\images\\xemay1836_jpg.rf.33c6a7a4334cb944f54f8f4548d6d5f2.jpg: 416x416 1 License_Plate, 7.8ms\n",
      "image 696/882 C:\\Users\\GenITeam\\Downloads\\vehicle\\test\\images\\xemay1842_jpg.rf.f04e3906ed2e0b579a5be2a75f36d05e.jpg: 416x416 1 License_Plate, 8.0ms\n",
      "image 697/882 C:\\Users\\GenITeam\\Downloads\\vehicle\\test\\images\\xemay1853_jpg.rf.2e22646cb2c089e304c4cac1ad4e06ee.jpg: 416x416 1 License_Plate, 7.7ms\n",
      "image 698/882 C:\\Users\\GenITeam\\Downloads\\vehicle\\test\\images\\xemay1860_jpg.rf.024c0f9017ea896c6224b4b63a2f5710.jpg: 416x416 1 License_Plate, 7.6ms\n",
      "image 699/882 C:\\Users\\GenITeam\\Downloads\\vehicle\\test\\images\\xemay1868_jpg.rf.d6b581f138bc07ba4eff40da9a599b71.jpg: 416x416 1 License_Plate, 7.7ms\n",
      "image 700/882 C:\\Users\\GenITeam\\Downloads\\vehicle\\test\\images\\xemay1878_jpg.rf.2f53aa96dd18e7160c8c32fc75686a1b.jpg: 416x416 1 License_Plate, 7.6ms\n",
      "image 701/882 C:\\Users\\GenITeam\\Downloads\\vehicle\\test\\images\\xemay1901_jpg.rf.28661aaafe63a76fa98223368e35652c.jpg: 416x416 1 License_Plate, 7.6ms\n",
      "image 702/882 C:\\Users\\GenITeam\\Downloads\\vehicle\\test\\images\\xemay1904_jpg.rf.0a8001080f60e8be87ac6c187bf1872d.jpg: 416x416 1 License_Plate, 7.6ms\n",
      "image 703/882 C:\\Users\\GenITeam\\Downloads\\vehicle\\test\\images\\xemay1915_jpg.rf.9275613150aef082fb8c20bc321605ef.jpg: 416x416 1 License_Plate, 10.7ms\n",
      "image 704/882 C:\\Users\\GenITeam\\Downloads\\vehicle\\test\\images\\xemay193_jpg.rf.b580e1058ae42f4050e56bcaa064e1d9.jpg: 416x416 1 License_Plate, 10.8ms\n",
      "image 705/882 C:\\Users\\GenITeam\\Downloads\\vehicle\\test\\images\\xemay1961_jpg.rf.b682ed5073cc12ea79ee59f9a4ee9946.jpg: 416x416 1 License_Plate, 8.6ms\n",
      "image 706/882 C:\\Users\\GenITeam\\Downloads\\vehicle\\test\\images\\xemay1982_jpg.rf.996d6ae409763fc541bb597b04c5a2e0.jpg: 416x416 1 License_Plate, 8.0ms\n",
      "image 707/882 C:\\Users\\GenITeam\\Downloads\\vehicle\\test\\images\\xemay1983_jpg.rf.9b7e8730a273e92bdb8b96b7e879f450.jpg: 416x416 1 License_Plate, 7.6ms\n",
      "image 708/882 C:\\Users\\GenITeam\\Downloads\\vehicle\\test\\images\\xemay1991_jpg.rf.de59e3134b190ed2799a0c766f5206cb.jpg: 416x416 1 License_Plate, 8.2ms\n",
      "image 709/882 C:\\Users\\GenITeam\\Downloads\\vehicle\\test\\images\\xemay2005_jpg.rf.76e341b6ad3d6f93b9de2d1353482ac0.jpg: 416x416 1 License_Plate, 8.0ms\n",
      "image 710/882 C:\\Users\\GenITeam\\Downloads\\vehicle\\test\\images\\xemay2008_jpg.rf.00f1f07c3449095c8a15498c77586ab8.jpg: 416x416 1 License_Plate, 8.1ms\n",
      "image 711/882 C:\\Users\\GenITeam\\Downloads\\vehicle\\test\\images\\xemay2009_jpg.rf.d99a72022e92935f5dc0d25f3b25f10d.jpg: 416x416 1 License_Plate, 7.6ms\n",
      "image 712/882 C:\\Users\\GenITeam\\Downloads\\vehicle\\test\\images\\xemay2010_jpg.rf.2ec8d22b6d335772a770c19ec55f1637.jpg: 416x416 1 License_Plate, 7.6ms\n",
      "image 713/882 C:\\Users\\GenITeam\\Downloads\\vehicle\\test\\images\\xemay2016_jpg.rf.b2bbd78f30ceb1ca5a0d25384982b5b5.jpg: 416x416 1 License_Plate, 7.6ms\n",
      "image 714/882 C:\\Users\\GenITeam\\Downloads\\vehicle\\test\\images\\xemay201_jpg.rf.52a3100c0b9d0867bd61e8f1a6607fe1.jpg: 416x416 1 License_Plate, 7.6ms\n",
      "image 715/882 C:\\Users\\GenITeam\\Downloads\\vehicle\\test\\images\\xemay2029_jpg.rf.cc13c4aed217a9bf9f32b60a346ac7bb.jpg: 416x416 1 License_Plate, 7.7ms\n",
      "image 716/882 C:\\Users\\GenITeam\\Downloads\\vehicle\\test\\images\\xemay2044_jpg.rf.bc32df05c043973593660ce3aaebdf2b.jpg: 416x416 1 License_Plate, 7.6ms\n",
      "image 717/882 C:\\Users\\GenITeam\\Downloads\\vehicle\\test\\images\\xemay2059_jpg.rf.6b4d5bb6530db8064181f8c60ebbfbfa.jpg: 416x416 1 License_Plate, 7.6ms\n",
      "image 718/882 C:\\Users\\GenITeam\\Downloads\\vehicle\\test\\images\\xemay207_jpg.rf.bfecbe463f88e11567bf3e93e38cd9ce.jpg: 416x416 1 License_Plate, 7.5ms\n",
      "image 719/882 C:\\Users\\GenITeam\\Downloads\\vehicle\\test\\images\\xemay2085_jpg.rf.1c53eb26b68d311b97df260e75bed0fa.jpg: 416x416 1 License_Plate, 7.5ms\n",
      "image 720/882 C:\\Users\\GenITeam\\Downloads\\vehicle\\test\\images\\xemay2096_jpg.rf.f0953b306e53f74ca9eaa0ffb8c9422f.jpg: 416x416 1 License_Plate, 7.5ms\n",
      "image 721/882 C:\\Users\\GenITeam\\Downloads\\vehicle\\test\\images\\xemay2099_jpg.rf.bea0d0e24767720d259d27eca08a5476.jpg: 416x416 1 License_Plate, 7.8ms\n",
      "image 722/882 C:\\Users\\GenITeam\\Downloads\\vehicle\\test\\images\\xemay2108_jpg.rf.dc055cef32255a4a4893f3c469c6dc8d.jpg: 416x416 1 License_Plate, 13.1ms\n",
      "image 723/882 C:\\Users\\GenITeam\\Downloads\\vehicle\\test\\images\\xemay2113_jpg.rf.b59488c806a074cfa30a372139b0fc33.jpg: 416x416 1 License_Plate, 8.0ms\n",
      "image 724/882 C:\\Users\\GenITeam\\Downloads\\vehicle\\test\\images\\xemay2121_jpg.rf.2dd724c3a62de6784af2d0b97250acba.jpg: 416x416 1 License_Plate, 12.1ms\n",
      "image 725/882 C:\\Users\\GenITeam\\Downloads\\vehicle\\test\\images\\xemay2125_jpg.rf.35401f72ccdb84edfefbfd804a258cf8.jpg: 416x416 1 License_Plate, 8.0ms\n",
      "image 726/882 C:\\Users\\GenITeam\\Downloads\\vehicle\\test\\images\\xemay2135_jpg.rf.704dd092acffb34ebd768d21a78d6e95.jpg: 416x416 1 License_Plate, 7.6ms\n",
      "image 727/882 C:\\Users\\GenITeam\\Downloads\\vehicle\\test\\images\\xemay2139_jpg.rf.4e5f61b574d0386a49f8c9d45f1f2c15.jpg: 416x416 1 License_Plate, 7.7ms\n",
      "image 728/882 C:\\Users\\GenITeam\\Downloads\\vehicle\\test\\images\\xemay2155_jpg.rf.04f93c7912bc51405cc176a7d65ae6ca.jpg: 416x416 1 License_Plate, 7.7ms\n",
      "image 729/882 C:\\Users\\GenITeam\\Downloads\\vehicle\\test\\images\\xemay2158_jpg.rf.79488cc96eb4900fd551e8dd27c1fde0.jpg: 416x416 1 License_Plate, 7.5ms\n",
      "image 730/882 C:\\Users\\GenITeam\\Downloads\\vehicle\\test\\images\\xemay2177_jpg.rf.78ed50640dc6d8aee1552c2e2657874e.jpg: 416x416 1 License_Plate, 7.7ms\n",
      "image 731/882 C:\\Users\\GenITeam\\Downloads\\vehicle\\test\\images\\xemay2183_jpg.rf.d918b628b668cb62e870a2172d045174.jpg: 416x416 1 License_Plate, 8.2ms\n",
      "image 732/882 C:\\Users\\GenITeam\\Downloads\\vehicle\\test\\images\\xemay2194_jpg.rf.1847cb49566ecd53f56cbd998b550d1e.jpg: 416x416 1 License_Plate, 7.7ms\n",
      "image 733/882 C:\\Users\\GenITeam\\Downloads\\vehicle\\test\\images\\xemay2204_jpg.rf.a6e397e57b0dc3c0429c9fcaa88ad201.jpg: 416x416 1 License_Plate, 7.5ms\n",
      "image 734/882 C:\\Users\\GenITeam\\Downloads\\vehicle\\test\\images\\xemay2213_jpg.rf.56eff38dd4d7529f7c4710dd9bc36f50.jpg: 416x416 1 License_Plate, 7.5ms\n",
      "image 735/882 C:\\Users\\GenITeam\\Downloads\\vehicle\\test\\images\\xemay2214_jpg.rf.feb1bc4b7dc075769523acadce6aa2f2.jpg: 416x416 1 License_Plate, 7.6ms\n",
      "image 736/882 C:\\Users\\GenITeam\\Downloads\\vehicle\\test\\images\\xemay2224_jpg.rf.0442ac594f2bc40eb986f69703282bb5.jpg: 416x416 1 License_Plate, 7.5ms\n",
      "image 737/882 C:\\Users\\GenITeam\\Downloads\\vehicle\\test\\images\\xemay2226_jpg.rf.919d7b8cc48e9688f0ca9ea21c21013d.jpg: 416x416 1 License_Plate, 7.5ms\n",
      "image 738/882 C:\\Users\\GenITeam\\Downloads\\vehicle\\test\\images\\xemay222_jpg.rf.e108922f078aac3d39beb55904fdc4b6.jpg: 416x416 1 License_Plate, 7.5ms\n",
      "image 739/882 C:\\Users\\GenITeam\\Downloads\\vehicle\\test\\images\\xemay2239_jpg.rf.d509533b49ab5bcff3640f8fc288b2b0.jpg: 416x416 1 License_Plate, 7.7ms\n",
      "image 740/882 C:\\Users\\GenITeam\\Downloads\\vehicle\\test\\images\\xemay2241_jpg.rf.4bf67d2524805db9c55f66bf34d9ca93.jpg: 416x416 1 License_Plate, 7.5ms\n",
      "image 741/882 C:\\Users\\GenITeam\\Downloads\\vehicle\\test\\images\\xemay2260_jpg.rf.2f3fd48250b10fd7f574bdd6201d6473.jpg: 416x416 1 License_Plate, 7.5ms\n",
      "image 742/882 C:\\Users\\GenITeam\\Downloads\\vehicle\\test\\images\\xemay2272_jpg.rf.cd39fb879f6196ec2cc24b0187107614.jpg: 416x416 1 License_Plate, 10.4ms\n",
      "image 743/882 C:\\Users\\GenITeam\\Downloads\\vehicle\\test\\images\\xemay2280_jpg.rf.e797e1b4715e1fd3895fa9a8d333c196.jpg: 416x416 1 License_Plate, 7.5ms\n",
      "image 744/882 C:\\Users\\GenITeam\\Downloads\\vehicle\\test\\images\\xemay2310_jpg.rf.61a1c57bb633be28e9600fca86285dbe.jpg: 416x416 1 License_Plate, 7.4ms\n",
      "image 745/882 C:\\Users\\GenITeam\\Downloads\\vehicle\\test\\images\\xemay2316_jpg.rf.1a973751295aaacb82c0dfe630ab4a0f.jpg: 416x416 1 License_Plate, 7.4ms\n",
      "image 746/882 C:\\Users\\GenITeam\\Downloads\\vehicle\\test\\images\\xemay231_jpg.rf.3fc5b81a8b8a23cc5d15621073e28999.jpg: 416x416 1 License_Plate, 7.6ms\n",
      "image 747/882 C:\\Users\\GenITeam\\Downloads\\vehicle\\test\\images\\xemay2320_jpg.rf.a84d1299790c1aa0bb05b3cfae764c2f.jpg: 416x416 1 License_Plate, 7.4ms\n",
      "image 748/882 C:\\Users\\GenITeam\\Downloads\\vehicle\\test\\images\\xemay2331_jpg.rf.2809a85d2739d8f909b49859c5d9e824.jpg: 416x416 1 License_Plate, 7.4ms\n",
      "image 749/882 C:\\Users\\GenITeam\\Downloads\\vehicle\\test\\images\\xemay2334_jpg.rf.9213a9e12b4865efe565f8ca9fbe5651.jpg: 416x416 1 License_Plate, 7.5ms\n",
      "image 750/882 C:\\Users\\GenITeam\\Downloads\\vehicle\\test\\images\\xemay2339_jpg.rf.756cab836bef54c4bfeac224279759a1.jpg: 416x416 1 License_Plate, 7.4ms\n",
      "image 751/882 C:\\Users\\GenITeam\\Downloads\\vehicle\\test\\images\\xemay2348_jpg.rf.ddd82c6ebbc15bdbcbb6bee2659d0df2.jpg: 416x416 1 License_Plate, 7.5ms\n",
      "image 752/882 C:\\Users\\GenITeam\\Downloads\\vehicle\\test\\images\\xemay2363_jpg.rf.c95677c42abdc7113e0a52bb8af0791e.jpg: 416x416 1 License_Plate, 7.4ms\n",
      "image 753/882 C:\\Users\\GenITeam\\Downloads\\vehicle\\test\\images\\xemay2365_jpg.rf.edc5f5ac048080d6934d11e02a5c89cf.jpg: 416x416 1 License_Plate, 7.7ms\n",
      "image 754/882 C:\\Users\\GenITeam\\Downloads\\vehicle\\test\\images\\xemay2366_jpg.rf.b46ad393c0a411933fa8da8e0e956232.jpg: 416x416 1 License_Plate, 7.8ms\n",
      "image 755/882 C:\\Users\\GenITeam\\Downloads\\vehicle\\test\\images\\xemay2373_jpg.rf.579ae5706b0bfb8bd1fb35548877e795.jpg: 416x416 1 License_Plate, 7.4ms\n",
      "image 756/882 C:\\Users\\GenITeam\\Downloads\\vehicle\\test\\images\\xemay2378_jpg.rf.467a36dd645e079a7475885b816fb59c.jpg: 416x416 1 License_Plate, 7.4ms\n",
      "image 757/882 C:\\Users\\GenITeam\\Downloads\\vehicle\\test\\images\\xemay2382_jpg.rf.6c6d46499e85163eecf898d5b560d414.jpg: 416x416 1 License_Plate, 7.6ms\n",
      "image 758/882 C:\\Users\\GenITeam\\Downloads\\vehicle\\test\\images\\xemay2383_jpg.rf.99c88b2ef318152ea8722d3f878dff9c.jpg: 416x416 1 License_Plate, 7.6ms\n",
      "image 759/882 C:\\Users\\GenITeam\\Downloads\\vehicle\\test\\images\\xemay2386_jpg.rf.f8bfb3248838affff6ff8ae7e1a963b7.jpg: 416x416 1 License_Plate, 7.5ms\n",
      "image 760/882 C:\\Users\\GenITeam\\Downloads\\vehicle\\test\\images\\xemay238_jpg.rf.1a2691e3eaf04cd2169fa4f5bc69ef56.jpg: 416x416 1 License_Plate, 7.5ms\n",
      "image 761/882 C:\\Users\\GenITeam\\Downloads\\vehicle\\test\\images\\xemay2395_jpg.rf.a54c9182143279ed8ee6638443562e10.jpg: 416x416 1 License_Plate, 7.6ms\n",
      "image 762/882 C:\\Users\\GenITeam\\Downloads\\vehicle\\test\\images\\xemay2397_jpg.rf.556bc3d7092ad0f2b6d42427afe3e09b.jpg: 416x416 1 License_Plate, 7.6ms\n",
      "image 763/882 C:\\Users\\GenITeam\\Downloads\\vehicle\\test\\images\\xemay2403_jpg.rf.6bf17bc2a43fcd60e1c4c3d7b2045e9e.jpg: 416x416 1 License_Plate, 8.8ms\n",
      "image 764/882 C:\\Users\\GenITeam\\Downloads\\vehicle\\test\\images\\xemay2404_jpg.rf.7014d0334d3c18b30846e247c35eae32.jpg: 416x416 1 License_Plate, 7.6ms\n",
      "image 765/882 C:\\Users\\GenITeam\\Downloads\\vehicle\\test\\images\\xemay2408_jpg.rf.6cb790597441f8c19b16d4738136a197.jpg: 416x416 1 License_Plate, 7.3ms\n",
      "image 766/882 C:\\Users\\GenITeam\\Downloads\\vehicle\\test\\images\\xemay2409_jpg.rf.dee89a4f86feb4ef243180915d7cefaf.jpg: 416x416 1 License_Plate, 7.5ms\n",
      "image 767/882 C:\\Users\\GenITeam\\Downloads\\vehicle\\test\\images\\xemay2420_jpg.rf.04b3beea97b6490aea90699d2a115c9e.jpg: 416x416 1 License_Plate, 7.5ms\n",
      "image 768/882 C:\\Users\\GenITeam\\Downloads\\vehicle\\test\\images\\xemay2426_jpg.rf.aceacec10b1e3c08ed392fad4feec322.jpg: 416x416 1 License_Plate, 7.8ms\n",
      "image 769/882 C:\\Users\\GenITeam\\Downloads\\vehicle\\test\\images\\xemay2434_jpg.rf.c315136733edc08c68ab552da739f9b9.jpg: 416x416 1 License_Plate, 7.5ms\n",
      "image 770/882 C:\\Users\\GenITeam\\Downloads\\vehicle\\test\\images\\xemay2454_jpg.rf.29a18982aa8e0da2ba3874ef9dba5473.jpg: 416x416 1 License_Plate, 7.4ms\n",
      "image 771/882 C:\\Users\\GenITeam\\Downloads\\vehicle\\test\\images\\xemay2458_jpg.rf.7c17ffe06cbef81f8585aacce0779f77.jpg: 416x416 1 License_Plate, 7.4ms\n",
      "image 772/882 C:\\Users\\GenITeam\\Downloads\\vehicle\\test\\images\\xemay246_jpg.rf.51193060ee3e4182241b403423ff417f.jpg: 416x416 1 License_Plate, 7.4ms\n",
      "image 773/882 C:\\Users\\GenITeam\\Downloads\\vehicle\\test\\images\\xemay274_jpg.rf.f5390b521f9efa12ab1047d2cd98b241.jpg: 416x416 1 License_Plate, 7.5ms\n",
      "image 774/882 C:\\Users\\GenITeam\\Downloads\\vehicle\\test\\images\\xemay276_jpg.rf.89fcd9688ab22a8338f24ea03e607eaa.jpg: 416x416 1 License_Plate, 7.4ms\n",
      "image 775/882 C:\\Users\\GenITeam\\Downloads\\vehicle\\test\\images\\xemay278_jpg.rf.8267d88db63811c265ba27ec0996cf29.jpg: 416x416 1 License_Plate, 7.5ms\n",
      "image 776/882 C:\\Users\\GenITeam\\Downloads\\vehicle\\test\\images\\xemay281_jpg.rf.15dddee72ef15275b091969fb65a14ce.jpg: 416x416 1 License_Plate, 7.4ms\n",
      "image 777/882 C:\\Users\\GenITeam\\Downloads\\vehicle\\test\\images\\xemay284_jpg.rf.77ffac0bcd8fcc1821eec1bf9e0f90ed.jpg: 416x416 1 License_Plate, 7.5ms\n",
      "image 778/882 C:\\Users\\GenITeam\\Downloads\\vehicle\\test\\images\\xemay290_jpg.rf.9096e16994df72501e6edee167c1b540.jpg: 416x416 1 License_Plate, 7.5ms\n",
      "image 779/882 C:\\Users\\GenITeam\\Downloads\\vehicle\\test\\images\\xemay299_jpg.rf.32f6a0f9f7bb2840b9cec317bde24de5.jpg: 416x416 1 License_Plate, 7.4ms\n",
      "image 780/882 C:\\Users\\GenITeam\\Downloads\\vehicle\\test\\images\\xemay300_jpg.rf.1e5ae622a8b32047c671111e9c9de190.jpg: 416x416 1 License_Plate, 7.4ms\n",
      "image 781/882 C:\\Users\\GenITeam\\Downloads\\vehicle\\test\\images\\xemay316_jpg.rf.81e198f42cf3e9d2174319caf320cff0.jpg: 416x416 1 License_Plate, 7.5ms\n",
      "image 782/882 C:\\Users\\GenITeam\\Downloads\\vehicle\\test\\images\\xemay333_jpg.rf.8343f6913ed43dad46b7dc5f80c45d60.jpg: 416x416 1 License_Plate, 7.5ms\n",
      "image 783/882 C:\\Users\\GenITeam\\Downloads\\vehicle\\test\\images\\xemay339_jpg.rf.715a2650351a276ea71e40dcfbdcadb5.jpg: 416x416 1 License_Plate, 7.6ms\n",
      "image 784/882 C:\\Users\\GenITeam\\Downloads\\vehicle\\test\\images\\xemay340_jpg.rf.871fb25cfa6ed84e4beb5dc64f4d8d74.jpg: 416x416 1 License_Plate, 7.4ms\n",
      "image 785/882 C:\\Users\\GenITeam\\Downloads\\vehicle\\test\\images\\xemay341_jpg.rf.bd01e9137d0c88b49c9eac2c72dc287e.jpg: 416x416 1 License_Plate, 7.5ms\n",
      "image 786/882 C:\\Users\\GenITeam\\Downloads\\vehicle\\test\\images\\xemay342_jpg.rf.1d14045b3d539defbbba494c8168acf9.jpg: 416x416 1 License_Plate, 7.5ms\n",
      "image 787/882 C:\\Users\\GenITeam\\Downloads\\vehicle\\test\\images\\xemay345_jpg.rf.5ef44c918e783f3c03e66be60c444fd7.jpg: 416x416 1 License_Plate, 7.5ms\n",
      "image 788/882 C:\\Users\\GenITeam\\Downloads\\vehicle\\test\\images\\xemay356_jpg.rf.caddad865f461ad4e649ba8fd07bcde2.jpg: 416x416 1 License_Plate, 7.5ms\n",
      "image 789/882 C:\\Users\\GenITeam\\Downloads\\vehicle\\test\\images\\xemay371_jpg.rf.e0e5b573e49bad572587196f7c6cc38b.jpg: 416x416 1 License_Plate, 7.5ms\n",
      "image 790/882 C:\\Users\\GenITeam\\Downloads\\vehicle\\test\\images\\xemay378_jpg.rf.33cc4360e8a197a4f3d0d764c48c8420.jpg: 416x416 1 License_Plate, 9.8ms\n",
      "image 791/882 C:\\Users\\GenITeam\\Downloads\\vehicle\\test\\images\\xemay381_jpg.rf.eb7c599c24aee064c75a1b99acd06c27.jpg: 416x416 1 License_Plate, 12.0ms\n",
      "image 792/882 C:\\Users\\GenITeam\\Downloads\\vehicle\\test\\images\\xemay405_jpg.rf.cf4d7491a045e79d89fece047a320e49.jpg: 416x416 1 License_Plate, 7.4ms\n",
      "image 793/882 C:\\Users\\GenITeam\\Downloads\\vehicle\\test\\images\\xemay416_jpg.rf.8a4f5873c6afb810e03791046f02c6e2.jpg: 416x416 1 License_Plate, 7.5ms\n",
      "image 794/882 C:\\Users\\GenITeam\\Downloads\\vehicle\\test\\images\\xemay424_jpg.rf.d2f4b74d37f41fd5fabf24711785402a.jpg: 416x416 1 License_Plate, 7.5ms\n",
      "image 795/882 C:\\Users\\GenITeam\\Downloads\\vehicle\\test\\images\\xemay431_jpg.rf.91e29225568a53f16ab155c18ff364d2.jpg: 416x416 1 License_Plate, 7.4ms\n",
      "image 796/882 C:\\Users\\GenITeam\\Downloads\\vehicle\\test\\images\\xemay444_jpg.rf.730b06c9aa16af72015882f6dc8b945e.jpg: 416x416 1 License_Plate, 7.5ms\n",
      "image 797/882 C:\\Users\\GenITeam\\Downloads\\vehicle\\test\\images\\xemay459_jpg.rf.02a4103c77563f3c05456e3d238d2c03.jpg: 416x416 1 License_Plate, 7.5ms\n",
      "image 798/882 C:\\Users\\GenITeam\\Downloads\\vehicle\\test\\images\\xemay472_jpg.rf.bd69a006e6a4ec370a304a4df71226a2.jpg: 416x416 1 License_Plate, 7.4ms\n",
      "image 799/882 C:\\Users\\GenITeam\\Downloads\\vehicle\\test\\images\\xemay477_jpg.rf.e369804f96ca1ef95cd6369a9d5f9561.jpg: 416x416 1 License_Plate, 7.4ms\n",
      "image 800/882 C:\\Users\\GenITeam\\Downloads\\vehicle\\test\\images\\xemay487_jpg.rf.f2c94fc6ec15c42e612adcf1ccfb46f7.jpg: 416x416 1 License_Plate, 7.5ms\n",
      "image 801/882 C:\\Users\\GenITeam\\Downloads\\vehicle\\test\\images\\xemay493_jpg.rf.2cf26d77833306b25567af5cd657d2af.jpg: 416x416 1 License_Plate, 7.4ms\n",
      "image 802/882 C:\\Users\\GenITeam\\Downloads\\vehicle\\test\\images\\xemay503_jpg.rf.6604b3d68b6fdc2d54f77386d4527648.jpg: 416x416 1 License_Plate, 7.4ms\n",
      "image 803/882 C:\\Users\\GenITeam\\Downloads\\vehicle\\test\\images\\xemay50_jpg.rf.60e29a000895126fc47a3139c854eb74.jpg: 416x416 1 License_Plate, 7.4ms\n",
      "image 804/882 C:\\Users\\GenITeam\\Downloads\\vehicle\\test\\images\\xemay532_jpg.rf.be1c504dab0dc54905f603ceace1daa9.jpg: 416x416 1 License_Plate, 7.4ms\n",
      "image 805/882 C:\\Users\\GenITeam\\Downloads\\vehicle\\test\\images\\xemay552_jpg.rf.b21f0d40dd19a6da2d877f92b687e09d.jpg: 416x416 1 License_Plate, 7.5ms\n",
      "image 806/882 C:\\Users\\GenITeam\\Downloads\\vehicle\\test\\images\\xemay569_jpg.rf.4641f81c60c5b72cbfa985e81f7f0fa3.jpg: 416x416 1 License_Plate, 7.4ms\n",
      "image 807/882 C:\\Users\\GenITeam\\Downloads\\vehicle\\test\\images\\xemay574_jpg.rf.0d1ede00dfdc89cdec8cbe609ae5e65a.jpg: 416x416 1 License_Plate, 7.4ms\n",
      "image 808/882 C:\\Users\\GenITeam\\Downloads\\vehicle\\test\\images\\xemay581_jpg.rf.c7f6737e04b1b429d7556f7c7b241204.jpg: 416x416 1 License_Plate, 7.4ms\n",
      "image 809/882 C:\\Users\\GenITeam\\Downloads\\vehicle\\test\\images\\xemay58_jpg.rf.1c1a0443817b9fcee64e95c299be3c39.jpg: 416x416 1 License_Plate, 7.5ms\n",
      "image 810/882 C:\\Users\\GenITeam\\Downloads\\vehicle\\test\\images\\xemay596_jpg.rf.47f150ba0f004107cb257782ea650a41.jpg: 416x416 1 License_Plate, 7.9ms\n",
      "image 811/882 C:\\Users\\GenITeam\\Downloads\\vehicle\\test\\images\\xemay597_jpg.rf.799afc35a570d4a056d4eeef1dac4621.jpg: 416x416 1 License_Plate, 7.5ms\n",
      "image 812/882 C:\\Users\\GenITeam\\Downloads\\vehicle\\test\\images\\xemay598_jpg.rf.be405ab78d9114ac01928baf822d48b9.jpg: 416x416 1 License_Plate, 7.6ms\n",
      "image 813/882 C:\\Users\\GenITeam\\Downloads\\vehicle\\test\\images\\xemay602_jpg.rf.3016ea5af1cd9cbf6ba5ba05b726d10d.jpg: 416x416 1 License_Plate, 7.5ms\n",
      "image 814/882 C:\\Users\\GenITeam\\Downloads\\vehicle\\test\\images\\xemay605_jpg.rf.473367f3e9c45e836c7312300c042b15.jpg: 416x416 1 License_Plate, 7.3ms\n",
      "image 815/882 C:\\Users\\GenITeam\\Downloads\\vehicle\\test\\images\\xemay608_jpg.rf.3e8445cca8640fc9f1898c23da94038d.jpg: 416x416 1 License_Plate, 7.5ms\n",
      "image 816/882 C:\\Users\\GenITeam\\Downloads\\vehicle\\test\\images\\xemay629_jpg.rf.b700ad95f3d1d5e7adfb228149dc993a.jpg: 416x416 1 License_Plate, 7.6ms\n",
      "image 817/882 C:\\Users\\GenITeam\\Downloads\\vehicle\\test\\images\\xemay632_jpg.rf.ed46640804217313125ad26db7676523.jpg: 416x416 1 License_Plate, 7.7ms\n",
      "image 818/882 C:\\Users\\GenITeam\\Downloads\\vehicle\\test\\images\\xemay63_jpg.rf.51591907a7cff2cbfb0cbdde2c62f9a5.jpg: 416x416 1 License_Plate, 7.5ms\n",
      "image 819/882 C:\\Users\\GenITeam\\Downloads\\vehicle\\test\\images\\xemay641_jpg.rf.b0f17601c430fcf734afae59ebfdfef7.jpg: 416x416 1 License_Plate, 7.9ms\n",
      "image 820/882 C:\\Users\\GenITeam\\Downloads\\vehicle\\test\\images\\xemay645_jpg.rf.d2a023b9270e8e1a2c13e45260e53a62.jpg: 416x416 1 License_Plate, 7.3ms\n",
      "image 821/882 C:\\Users\\GenITeam\\Downloads\\vehicle\\test\\images\\xemay646_jpg.rf.58337d8d774faa64a9ae38676fccc80e.jpg: 416x416 1 License_Plate, 7.5ms\n",
      "image 822/882 C:\\Users\\GenITeam\\Downloads\\vehicle\\test\\images\\xemay647_jpg.rf.63e2f63529b118b0854b63e6852b2f2d.jpg: 416x416 1 License_Plate, 8.0ms\n",
      "image 823/882 C:\\Users\\GenITeam\\Downloads\\vehicle\\test\\images\\xemay66_jpg.rf.a22234f63a557233f11a41cd9e44bed7.jpg: 416x416 1 License_Plate, 7.9ms\n",
      "image 824/882 C:\\Users\\GenITeam\\Downloads\\vehicle\\test\\images\\xemay67_jpg.rf.75171c0d6af3f28f7b99622e06f404fc.jpg: 416x416 1 License_Plate, 11.4ms\n",
      "image 825/882 C:\\Users\\GenITeam\\Downloads\\vehicle\\test\\images\\xemay709_jpg.rf.6eba06a08dc84c506419a5b86e3ea673.jpg: 416x416 1 License_Plate, 8.8ms\n",
      "image 826/882 C:\\Users\\GenITeam\\Downloads\\vehicle\\test\\images\\xemay725_jpg.rf.d89409fb99f03c4b406268da52d23f71.jpg: 416x416 1 License_Plate, 7.6ms\n",
      "image 827/882 C:\\Users\\GenITeam\\Downloads\\vehicle\\test\\images\\xemay762_jpg.rf.b79ac28b498a896501168222e985bac9.jpg: 416x416 1 License_Plate, 7.5ms\n",
      "image 828/882 C:\\Users\\GenITeam\\Downloads\\vehicle\\test\\images\\xemay764_jpg.rf.b4750a980815e602b0663f5c7cba696f.jpg: 416x416 1 License_Plate, 7.5ms\n",
      "image 829/882 C:\\Users\\GenITeam\\Downloads\\vehicle\\test\\images\\xemay769_jpg.rf.06de0c0ff9dc7a8d3639cf18aed4382b.jpg: 416x416 1 License_Plate, 7.5ms\n",
      "image 830/882 C:\\Users\\GenITeam\\Downloads\\vehicle\\test\\images\\xemay784_jpg.rf.cbb13a9dc75d97303b32461b2bc62e0f.jpg: 416x416 1 License_Plate, 7.5ms\n",
      "image 831/882 C:\\Users\\GenITeam\\Downloads\\vehicle\\test\\images\\xemay787_jpg.rf.c34cb9f42d0b195b17ff7bc50d80b4a1.jpg: 416x416 1 License_Plate, 7.6ms\n",
      "image 832/882 C:\\Users\\GenITeam\\Downloads\\vehicle\\test\\images\\xemay793_jpg.rf.1df2d3d71561ae798559d5d5a7426ca3.jpg: 416x416 1 License_Plate, 7.6ms\n",
      "image 833/882 C:\\Users\\GenITeam\\Downloads\\vehicle\\test\\images\\xemay798_jpg.rf.1f3528ce2493eb1b6aa0229a1604abb7.jpg: 416x416 1 License_Plate, 7.4ms\n",
      "image 834/882 C:\\Users\\GenITeam\\Downloads\\vehicle\\test\\images\\xemay807_jpg.rf.6a9f2b78c72ada6065e9f5131561d3af.jpg: 416x416 1 License_Plate, 7.4ms\n",
      "image 835/882 C:\\Users\\GenITeam\\Downloads\\vehicle\\test\\images\\xemay818_jpg.rf.f47320044f1e3fed845178c8e21ee6bb.jpg: 416x416 1 License_Plate, 7.6ms\n",
      "image 836/882 C:\\Users\\GenITeam\\Downloads\\vehicle\\test\\images\\xemay81_jpg.rf.d8d867c16bf53a968ef883057fda12ec.jpg: 416x416 1 License_Plate, 7.5ms\n",
      "image 837/882 C:\\Users\\GenITeam\\Downloads\\vehicle\\test\\images\\xemay822_jpg.rf.6399bf39b9a02cc853fdde9ebc7a5647.jpg: 416x416 1 License_Plate, 7.5ms\n",
      "image 838/882 C:\\Users\\GenITeam\\Downloads\\vehicle\\test\\images\\xemay825_jpg.rf.2bf33ca7f34e2a82f11230c1ab6caff1.jpg: 416x416 1 License_Plate, 7.5ms\n",
      "image 839/882 C:\\Users\\GenITeam\\Downloads\\vehicle\\test\\images\\xemay83_jpg.rf.eb2c932e21a0c7003e2afb829db7c0a3.jpg: 416x416 1 License_Plate, 7.6ms\n",
      "image 840/882 C:\\Users\\GenITeam\\Downloads\\vehicle\\test\\images\\xemay842_jpg.rf.d802a825d616e145a852a6f654ca840b.jpg: 416x416 1 License_Plate, 7.5ms\n",
      "image 841/882 C:\\Users\\GenITeam\\Downloads\\vehicle\\test\\images\\xemay850_jpg.rf.48ef2d29cb9f57f7369778016761c802.jpg: 416x416 1 License_Plate, 7.7ms\n",
      "image 842/882 C:\\Users\\GenITeam\\Downloads\\vehicle\\test\\images\\xemay854_jpg.rf.c305ad8d8007ee6e6a84e8fc341e7527.jpg: 416x416 1 License_Plate, 7.4ms\n",
      "image 843/882 C:\\Users\\GenITeam\\Downloads\\vehicle\\test\\images\\xemay857_jpg.rf.16de9aa7b45265cc57218fcaa1937ac2.jpg: 416x416 1 License_Plate, 7.4ms\n",
      "image 844/882 C:\\Users\\GenITeam\\Downloads\\vehicle\\test\\images\\xemay85_jpg.rf.7cd4ffbab43947edd6054aa1dc82bae0.jpg: 416x416 1 License_Plate, 7.8ms\n",
      "image 845/882 C:\\Users\\GenITeam\\Downloads\\vehicle\\test\\images\\xemay865_jpg.rf.9dd9a2fec476656d237c10ad5a9441fb.jpg: 416x416 1 License_Plate, 7.9ms\n",
      "image 846/882 C:\\Users\\GenITeam\\Downloads\\vehicle\\test\\images\\xemay867_jpg.rf.8039e0aefc525fe2ae6b2a7cd6453f02.jpg: 416x416 1 License_Plate, 7.6ms\n",
      "image 847/882 C:\\Users\\GenITeam\\Downloads\\vehicle\\test\\images\\xemay873_jpg.rf.9d78581f920eddc8b51cb6b85e204e6c.jpg: 416x416 1 License_Plate, 7.7ms\n",
      "image 848/882 C:\\Users\\GenITeam\\Downloads\\vehicle\\test\\images\\xemay877_jpg.rf.a869849db61064733bc7cac79f89772f.jpg: 416x416 1 License_Plate, 7.7ms\n",
      "image 849/882 C:\\Users\\GenITeam\\Downloads\\vehicle\\test\\images\\xemay878_jpg.rf.28d22868fe6c2b9d49dced75eb23d86b.jpg: 416x416 1 License_Plate, 7.6ms\n",
      "image 850/882 C:\\Users\\GenITeam\\Downloads\\vehicle\\test\\images\\xemay880_jpg.rf.d4322d75e49894b97c5bafa268b2eae3.jpg: 416x416 1 License_Plate, 7.6ms\n",
      "image 851/882 C:\\Users\\GenITeam\\Downloads\\vehicle\\test\\images\\xemay882_jpg.rf.3e0c735745fb93ba6ba898f650423d00.jpg: 416x416 1 License_Plate, 7.6ms\n",
      "image 852/882 C:\\Users\\GenITeam\\Downloads\\vehicle\\test\\images\\xemay897_jpg.rf.5bb855aad70ebb14aaec45844b4b7d72.jpg: 416x416 1 License_Plate, 7.5ms\n",
      "image 853/882 C:\\Users\\GenITeam\\Downloads\\vehicle\\test\\images\\xemay929_jpg.rf.aee897deaa8b4ec677e78f1869e9ec59.jpg: 416x416 1 License_Plate, 7.5ms\n",
      "image 854/882 C:\\Users\\GenITeam\\Downloads\\vehicle\\test\\images\\xemay938_jpg.rf.c055f85a17b2e899d126e676b07a6935.jpg: 416x416 1 License_Plate, 7.6ms\n",
      "image 855/882 C:\\Users\\GenITeam\\Downloads\\vehicle\\test\\images\\xemay941_jpg.rf.d9fb4f9250c3d2f33b69bd2337bc7806.jpg: 416x416 1 License_Plate, 7.5ms\n",
      "image 856/882 C:\\Users\\GenITeam\\Downloads\\vehicle\\test\\images\\xemay957_jpg.rf.d88e19f18ba8bc99fbcc2f9fb8984baa.jpg: 416x416 1 License_Plate, 7.5ms\n",
      "image 857/882 C:\\Users\\GenITeam\\Downloads\\vehicle\\test\\images\\xemay966_jpg.rf.3c581468d904849ac12e7361a3539929.jpg: 416x416 1 License_Plate, 11.8ms\n",
      "image 858/882 C:\\Users\\GenITeam\\Downloads\\vehicle\\test\\images\\xemay9_jpg.rf.261eea0aff731fffe15cbc5184059d49.jpg: 416x416 1 License_Plate, 7.5ms\n",
      "image 859/882 C:\\Users\\GenITeam\\Downloads\\vehicle\\test\\images\\xemayBigPlate102_jpg.rf.567ec68cbc195ff8c6d933b032fae56b.jpg: 416x416 1 License_Plate, 10.5ms\n",
      "image 860/882 C:\\Users\\GenITeam\\Downloads\\vehicle\\test\\images\\xemayBigPlate10_jpg.rf.b07a605bb556a44afa1eb69da0b62b57.jpg: 416x416 1 License_Plate, 7.7ms\n",
      "image 861/882 C:\\Users\\GenITeam\\Downloads\\vehicle\\test\\images\\xemayBigPlate115_jpg.rf.65ef78b179575784c54e0441f19e6661.jpg: 416x416 1 License_Plate, 7.6ms\n",
      "image 862/882 C:\\Users\\GenITeam\\Downloads\\vehicle\\test\\images\\xemayBigPlate12_jpg.rf.a09d80950ae5aa8fca1b1ec6e19e931b.jpg: 416x416 1 License_Plate, 7.5ms\n",
      "image 863/882 C:\\Users\\GenITeam\\Downloads\\vehicle\\test\\images\\xemayBigPlate137_jpg.rf.a1c6d20f41859fcd7d5ae61987b24f80.jpg: 416x416 1 License_Plate, 7.6ms\n",
      "image 864/882 C:\\Users\\GenITeam\\Downloads\\vehicle\\test\\images\\xemayBigPlate139_jpg.rf.4965a097b15e3904615cae8e3b4a1d95.jpg: 416x416 1 License_Plate, 7.6ms\n",
      "image 865/882 C:\\Users\\GenITeam\\Downloads\\vehicle\\test\\images\\xemayBigPlate160_jpg.rf.11e9f90e77e35f5990670debc35ad7ae.jpg: 416x416 1 License_Plate, 7.9ms\n",
      "image 866/882 C:\\Users\\GenITeam\\Downloads\\vehicle\\test\\images\\xemayBigPlate162_jpg.rf.72576eaf054b0ad77f242993466670cb.jpg: 416x416 1 License_Plate, 8.0ms\n",
      "image 867/882 C:\\Users\\GenITeam\\Downloads\\vehicle\\test\\images\\xemayBigPlate167_jpg.rf.9fdfd32043cd7a84d067a7eb9a57cfee.jpg: 416x416 1 License_Plate, 8.1ms\n",
      "image 868/882 C:\\Users\\GenITeam\\Downloads\\vehicle\\test\\images\\xemayBigPlate181_jpg.rf.576e1cc80cd77bf7ca5c4f8e124d99d4.jpg: 416x416 1 License_Plate, 8.3ms\n",
      "image 869/882 C:\\Users\\GenITeam\\Downloads\\vehicle\\test\\images\\xemayBigPlate184_jpg.rf.5e7f53013255e724a3e5248b03a02ed0.jpg: 416x416 1 License_Plate, 11.6ms\n",
      "image 870/882 C:\\Users\\GenITeam\\Downloads\\vehicle\\test\\images\\xemayBigPlate189_jpg.rf.ab592ce304f5ae2cc11fe1f067d782fa.jpg: 416x416 1 License_Plate, 7.8ms\n",
      "image 871/882 C:\\Users\\GenITeam\\Downloads\\vehicle\\test\\images\\xemayBigPlate18_jpg.rf.c2bf8f451d7dbf5ce91fa92c5b601cb7.jpg: 416x416 1 License_Plate, 7.6ms\n",
      "image 872/882 C:\\Users\\GenITeam\\Downloads\\vehicle\\test\\images\\xemayBigPlate192_jpg.rf.7cb1b6924df3fcb32fd4e7b424a5d0f2.jpg: 416x416 1 License_Plate, 7.5ms\n",
      "image 873/882 C:\\Users\\GenITeam\\Downloads\\vehicle\\test\\images\\xemayBigPlate197_jpg.rf.cdf11af8e1d8e3f548e9489ff5e2cbd6.jpg: 416x416 1 License_Plate, 7.6ms\n",
      "image 874/882 C:\\Users\\GenITeam\\Downloads\\vehicle\\test\\images\\xemayBigPlate208_jpg.rf.c59284abd8c7797024f7d734c3216913.jpg: 416x416 1 License_Plate, 7.6ms\n",
      "image 875/882 C:\\Users\\GenITeam\\Downloads\\vehicle\\test\\images\\xemayBigPlate29_jpg.rf.9e5cd3a5b39230305d00f718464e92ef.jpg: 416x416 1 License_Plate, 7.6ms\n",
      "image 876/882 C:\\Users\\GenITeam\\Downloads\\vehicle\\test\\images\\xemayBigPlate40_jpg.rf.6df5c04e4b8f656ec0670651b09c4cf8.jpg: 416x416 1 License_Plate, 7.5ms\n",
      "image 877/882 C:\\Users\\GenITeam\\Downloads\\vehicle\\test\\images\\xemayBigPlate48_jpg.rf.ad4a523ddd23c069778300be041e2082.jpg: 416x416 1 License_Plate, 7.5ms\n",
      "image 878/882 C:\\Users\\GenITeam\\Downloads\\vehicle\\test\\images\\xemayBigPlate54_jpg.rf.4795cca9e7b465ac28521e1f242ff832.jpg: 416x416 1 License_Plate, 7.6ms\n",
      "image 879/882 C:\\Users\\GenITeam\\Downloads\\vehicle\\test\\images\\xemayBigPlate56_jpg.rf.e97de3763e84b6672cbe444c1719a684.jpg: 416x416 1 License_Plate, 7.5ms\n",
      "image 880/882 C:\\Users\\GenITeam\\Downloads\\vehicle\\test\\images\\xemayBigPlate59_jpg.rf.36c6f83969b57a70a6d4bafa1f75c099.jpg: 416x416 1 License_Plate, 7.6ms\n",
      "image 881/882 C:\\Users\\GenITeam\\Downloads\\vehicle\\test\\images\\xemayBigPlate62_jpg.rf.6914e2c9d0a108b9f9fe3b497c7dd67c.jpg: 416x416 1 License_Plate, 7.6ms\n",
      "image 882/882 C:\\Users\\GenITeam\\Downloads\\vehicle\\test\\images\\xemayBigPlate9_jpg.rf.e54037f69d4ac10c5c4c0cd5cb97f171.jpg: 416x416 1 License_Plate, 7.6ms\n",
      "Speed: 0.9ms preprocess, 8.1ms inference, 1.9ms postprocess per image at shape (1, 3, 416, 416)\n",
      "Results saved to \u001b[1mruns\\detect\\train72\u001b[0m\n"
     ]
    }
   ],
   "source": [
    "# Run inference on test images\n",
    "results = model.predict(\n",
    "    source=r\"C:\\Users\\GenITeam\\Downloads\\vehicle\\test\\images\",  # your test set path\n",
    "    conf=0.4,   # confidence threshold\n",
    "    save=True   # saves predicted images in runs/detect/predict/\n",
    ")\n"
   ]
  },
  {
   "cell_type": "code",
   "execution_count": 2,
   "id": "5d50e0a4",
   "metadata": {},
   "outputs": [
    {
     "name": "stdout",
     "output_type": "stream",
     "text": [
      "\n",
      "image 1/104 C:\\Users\\GenITeam\\Downloads\\archive (6)\\Pakistani License Number Plates Data\\Cars\\DSC_0968.JPG: 384x416 1 License_Plate, 60.8ms\n",
      "image 2/104 C:\\Users\\GenITeam\\Downloads\\archive (6)\\Pakistani License Number Plates Data\\Cars\\DSC_0969.JPG: 352x416 1 License_Plate, 33.8ms\n",
      "image 3/104 C:\\Users\\GenITeam\\Downloads\\archive (6)\\Pakistani License Number Plates Data\\Cars\\DSC_0970.JPG: 384x416 (no detections), 9.8ms\n",
      "image 4/104 C:\\Users\\GenITeam\\Downloads\\archive (6)\\Pakistani License Number Plates Data\\Cars\\DSC_0971.JPG: 384x416 1 License_Plate, 7.8ms\n",
      "image 5/104 C:\\Users\\GenITeam\\Downloads\\archive (6)\\Pakistani License Number Plates Data\\Cars\\DSC_0971x.jpg: 416x416 2 License_Plates, 8.5ms\n",
      "image 6/104 C:\\Users\\GenITeam\\Downloads\\archive (6)\\Pakistani License Number Plates Data\\Cars\\DSC_0973.JPG: 384x416 1 License_Plate, 8.8ms\n",
      "image 7/104 C:\\Users\\GenITeam\\Downloads\\archive (6)\\Pakistani License Number Plates Data\\Cars\\DSC_0973x.jpg: 352x416 1 License_Plate, 9.1ms\n",
      "image 8/104 C:\\Users\\GenITeam\\Downloads\\archive (6)\\Pakistani License Number Plates Data\\Cars\\DSC_0975.JPG: 416x320 1 License_Plate, 51.1ms\n",
      "image 9/104 C:\\Users\\GenITeam\\Downloads\\archive (6)\\Pakistani License Number Plates Data\\Cars\\DSC_0977.JPG: 352x416 2 License_Plates, 8.8ms\n",
      "image 10/104 C:\\Users\\GenITeam\\Downloads\\archive (6)\\Pakistani License Number Plates Data\\Cars\\DSC_0979.JPG: 320x416 1 License_Plate, 32.8ms\n",
      "image 11/104 C:\\Users\\GenITeam\\Downloads\\archive (6)\\Pakistani License Number Plates Data\\Cars\\DSC_0982.JPG: 288x416 2 License_Plates, 26.6ms\n",
      "image 12/104 C:\\Users\\GenITeam\\Downloads\\archive (6)\\Pakistani License Number Plates Data\\Cars\\DSC_0983.JPG: 320x416 1 License_Plate, 8.3ms\n",
      "image 13/104 C:\\Users\\GenITeam\\Downloads\\archive (6)\\Pakistani License Number Plates Data\\Cars\\DSC_0984.JPG: 288x416 2 License_Plates, 8.6ms\n",
      "image 14/104 C:\\Users\\GenITeam\\Downloads\\archive (6)\\Pakistani License Number Plates Data\\Cars\\DSC_0985.JPG: 352x416 1 License_Plate, 8.7ms\n",
      "image 15/104 C:\\Users\\GenITeam\\Downloads\\archive (6)\\Pakistani License Number Plates Data\\Cars\\DSC_0988.JPG: 288x416 1 License_Plate, 9.7ms\n",
      "image 16/104 C:\\Users\\GenITeam\\Downloads\\archive (6)\\Pakistani License Number Plates Data\\Cars\\DSC_0989.JPG: 256x416 2 License_Plates, 30.2ms\n",
      "image 17/104 C:\\Users\\GenITeam\\Downloads\\archive (6)\\Pakistani License Number Plates Data\\Cars\\DSC_0990.JPG: 416x416 1 License_Plate, 9.1ms\n",
      "image 18/104 C:\\Users\\GenITeam\\Downloads\\archive (6)\\Pakistani License Number Plates Data\\Cars\\DSC_0992.JPG: 352x416 1 License_Plate, 9.8ms\n",
      "image 19/104 C:\\Users\\GenITeam\\Downloads\\archive (6)\\Pakistani License Number Plates Data\\Cars\\DSC_0994.JPG: 320x416 2 License_Plates, 17.3ms\n",
      "image 20/104 C:\\Users\\GenITeam\\Downloads\\archive (6)\\Pakistani License Number Plates Data\\Cars\\DSC_0995.JPG: 288x416 1 License_Plate, 10.1ms\n",
      "image 21/104 C:\\Users\\GenITeam\\Downloads\\archive (6)\\Pakistani License Number Plates Data\\Cars\\DSC_0996.JPG: 352x416 1 License_Plate, 15.3ms\n",
      "image 22/104 C:\\Users\\GenITeam\\Downloads\\archive (6)\\Pakistani License Number Plates Data\\Cars\\DSC_0997.JPG: 256x416 1 License_Plate, 9.2ms\n",
      "image 23/104 C:\\Users\\GenITeam\\Downloads\\archive (6)\\Pakistani License Number Plates Data\\Cars\\DSC_0998.JPG: 352x416 2 License_Plates, 9.4ms\n",
      "image 24/104 C:\\Users\\GenITeam\\Downloads\\archive (6)\\Pakistani License Number Plates Data\\Cars\\DSC_0999.JPG: 288x416 1 License_Plate, 9.9ms\n",
      "image 25/104 C:\\Users\\GenITeam\\Downloads\\archive (6)\\Pakistani License Number Plates Data\\Cars\\DSC_1001.JPG: 320x416 1 License_Plate, 9.5ms\n",
      "image 26/104 C:\\Users\\GenITeam\\Downloads\\archive (6)\\Pakistani License Number Plates Data\\Cars\\DSC_1002.JPG: 384x416 1 License_Plate, 15.5ms\n",
      "image 27/104 C:\\Users\\GenITeam\\Downloads\\archive (6)\\Pakistani License Number Plates Data\\Cars\\DSC_1003.JPG: 384x416 1 License_Plate, 8.2ms\n",
      "image 28/104 C:\\Users\\GenITeam\\Downloads\\archive (6)\\Pakistani License Number Plates Data\\Cars\\DSC_1006.JPG: 320x416 1 License_Plate, 10.2ms\n",
      "image 29/104 C:\\Users\\GenITeam\\Downloads\\archive (6)\\Pakistani License Number Plates Data\\Cars\\DSC_1007.JPG: 288x416 1 License_Plate, 13.7ms\n",
      "image 30/104 C:\\Users\\GenITeam\\Downloads\\archive (6)\\Pakistani License Number Plates Data\\Cars\\DSC_1008.JPG: 256x416 1 License_Plate, 11.1ms\n",
      "image 31/104 C:\\Users\\GenITeam\\Downloads\\archive (6)\\Pakistani License Number Plates Data\\Cars\\DSC_1009.JPG: 320x416 1 License_Plate, 9.4ms\n",
      "image 32/104 C:\\Users\\GenITeam\\Downloads\\archive (6)\\Pakistani License Number Plates Data\\Cars\\DSC_1010.JPG: 352x416 2 License_Plates, 8.4ms\n",
      "image 33/104 C:\\Users\\GenITeam\\Downloads\\archive (6)\\Pakistani License Number Plates Data\\Cars\\DSC_1011.JPG: 320x416 1 License_Plate, 14.1ms\n",
      "image 34/104 C:\\Users\\GenITeam\\Downloads\\archive (6)\\Pakistani License Number Plates Data\\Cars\\DSC_1014.JPG: 320x416 1 License_Plate, 7.8ms\n",
      "image 35/104 C:\\Users\\GenITeam\\Downloads\\archive (6)\\Pakistani License Number Plates Data\\Cars\\DSC_1015.JPG: 320x416 1 License_Plate, 11.1ms\n",
      "image 36/104 C:\\Users\\GenITeam\\Downloads\\archive (6)\\Pakistani License Number Plates Data\\Cars\\DSC_1018.JPG: 384x416 1 License_Plate, 16.7ms\n",
      "image 37/104 C:\\Users\\GenITeam\\Downloads\\archive (6)\\Pakistani License Number Plates Data\\Cars\\DSC_1019.JPG: 320x416 2 License_Plates, 11.9ms\n",
      "image 38/104 C:\\Users\\GenITeam\\Downloads\\archive (6)\\Pakistani License Number Plates Data\\Cars\\DSC_1020.JPG: 320x416 1 License_Plate, 12.8ms\n",
      "image 39/104 C:\\Users\\GenITeam\\Downloads\\archive (6)\\Pakistani License Number Plates Data\\Cars\\DSC_1022.JPG: 384x416 2 License_Plates, 15.5ms\n",
      "image 40/104 C:\\Users\\GenITeam\\Downloads\\archive (6)\\Pakistani License Number Plates Data\\Cars\\DSC_1023.JPG: 352x416 1 License_Plate, 12.6ms\n",
      "image 41/104 C:\\Users\\GenITeam\\Downloads\\archive (6)\\Pakistani License Number Plates Data\\Cars\\DSC_1026.JPG: 320x416 1 License_Plate, 11.8ms\n",
      "image 42/104 C:\\Users\\GenITeam\\Downloads\\archive (6)\\Pakistani License Number Plates Data\\Cars\\DSC_1027.JPG: 288x416 1 License_Plate, 13.1ms\n",
      "image 43/104 C:\\Users\\GenITeam\\Downloads\\archive (6)\\Pakistani License Number Plates Data\\Cars\\DSC_1028.JPG: 320x416 1 License_Plate, 11.7ms\n",
      "image 44/104 C:\\Users\\GenITeam\\Downloads\\archive (6)\\Pakistani License Number Plates Data\\Cars\\DSC_1029.JPG: 288x416 1 License_Plate, 11.8ms\n",
      "image 45/104 C:\\Users\\GenITeam\\Downloads\\archive (6)\\Pakistani License Number Plates Data\\Cars\\DSC_1030.JPG: 320x416 1 License_Plate, 14.2ms\n",
      "image 46/104 C:\\Users\\GenITeam\\Downloads\\archive (6)\\Pakistani License Number Plates Data\\Cars\\DSC_1032.JPG: 352x416 1 License_Plate, 14.7ms\n",
      "image 47/104 C:\\Users\\GenITeam\\Downloads\\archive (6)\\Pakistani License Number Plates Data\\Cars\\DSC_1033.JPG: 320x416 1 License_Plate, 14.0ms\n",
      "image 48/104 C:\\Users\\GenITeam\\Downloads\\archive (6)\\Pakistani License Number Plates Data\\Cars\\DSC_1034.JPG: 320x416 1 License_Plate, 11.9ms\n",
      "image 49/104 C:\\Users\\GenITeam\\Downloads\\archive (6)\\Pakistani License Number Plates Data\\Cars\\DSC_1035.JPG: 384x416 1 License_Plate, 15.8ms\n",
      "image 50/104 C:\\Users\\GenITeam\\Downloads\\archive (6)\\Pakistani License Number Plates Data\\Cars\\DSC_1037.JPG: 288x416 2 License_Plates, 11.5ms\n",
      "image 51/104 C:\\Users\\GenITeam\\Downloads\\archive (6)\\Pakistani License Number Plates Data\\Cars\\DSC_1038.JPG: 352x416 1 License_Plate, 13.4ms\n",
      "image 52/104 C:\\Users\\GenITeam\\Downloads\\archive (6)\\Pakistani License Number Plates Data\\Cars\\DSC_1039.JPG: 320x416 1 License_Plate, 13.1ms\n",
      "image 53/104 C:\\Users\\GenITeam\\Downloads\\archive (6)\\Pakistani License Number Plates Data\\Cars\\DSC_1039x.jpg: 320x416 1 License_Plate, 12.5ms\n",
      "image 54/104 C:\\Users\\GenITeam\\Downloads\\archive (6)\\Pakistani License Number Plates Data\\Cars\\DSC_1040.JPG: 384x416 1 License_Plate, 15.1ms\n",
      "image 55/104 C:\\Users\\GenITeam\\Downloads\\archive (6)\\Pakistani License Number Plates Data\\Cars\\DSC_1041.JPG: 384x416 1 License_Plate, 14.6ms\n",
      "image 56/104 C:\\Users\\GenITeam\\Downloads\\archive (6)\\Pakistani License Number Plates Data\\Cars\\DSC_1045.JPG: 384x416 1 License_Plate, 12.7ms\n",
      "image 57/104 C:\\Users\\GenITeam\\Downloads\\archive (6)\\Pakistani License Number Plates Data\\Cars\\DSC_1047.JPG: 288x416 1 License_Plate, 13.8ms\n",
      "image 58/104 C:\\Users\\GenITeam\\Downloads\\archive (6)\\Pakistani License Number Plates Data\\Cars\\DSC_1048.JPG: 384x416 1 License_Plate, 13.6ms\n",
      "image 59/104 C:\\Users\\GenITeam\\Downloads\\archive (6)\\Pakistani License Number Plates Data\\Cars\\DSC_1049.JPG: 384x416 1 License_Plate, 13.9ms\n",
      "image 60/104 C:\\Users\\GenITeam\\Downloads\\archive (6)\\Pakistani License Number Plates Data\\Cars\\DSC_1051.JPG: 320x416 1 License_Plate, 13.0ms\n",
      "image 61/104 C:\\Users\\GenITeam\\Downloads\\archive (6)\\Pakistani License Number Plates Data\\Cars\\DSC_1052.JPG: 384x416 1 License_Plate, 15.5ms\n",
      "image 62/104 C:\\Users\\GenITeam\\Downloads\\archive (6)\\Pakistani License Number Plates Data\\Cars\\DSC_1053.JPG: 320x416 1 License_Plate, 12.5ms\n",
      "image 63/104 C:\\Users\\GenITeam\\Downloads\\archive (6)\\Pakistani License Number Plates Data\\Cars\\DSC_1054.JPG: 352x416 1 License_Plate, 13.0ms\n",
      "image 64/104 C:\\Users\\GenITeam\\Downloads\\archive (6)\\Pakistani License Number Plates Data\\Cars\\DSC_1055.JPG: 320x416 1 License_Plate, 13.5ms\n",
      "image 65/104 C:\\Users\\GenITeam\\Downloads\\archive (6)\\Pakistani License Number Plates Data\\Cars\\DSC_1056.JPG: 352x416 1 License_Plate, 13.4ms\n",
      "image 66/104 C:\\Users\\GenITeam\\Downloads\\archive (6)\\Pakistani License Number Plates Data\\Cars\\DSC_1057.JPG: 288x416 1 License_Plate, 13.4ms\n",
      "image 67/104 C:\\Users\\GenITeam\\Downloads\\archive (6)\\Pakistani License Number Plates Data\\Cars\\DSC_1058.JPG: 320x416 1 License_Plate, 12.0ms\n",
      "image 68/104 C:\\Users\\GenITeam\\Downloads\\archive (6)\\Pakistani License Number Plates Data\\Cars\\DSC_1059.JPG: 416x416 1 License_Plate, 15.6ms\n",
      "image 69/104 C:\\Users\\GenITeam\\Downloads\\archive (6)\\Pakistani License Number Plates Data\\Cars\\DSC_1060.JPG: 320x416 1 License_Plate, 13.1ms\n",
      "image 70/104 C:\\Users\\GenITeam\\Downloads\\archive (6)\\Pakistani License Number Plates Data\\Cars\\DSC_1062.JPG: 352x416 1 License_Plate, 15.7ms\n",
      "image 71/104 C:\\Users\\GenITeam\\Downloads\\archive (6)\\Pakistani License Number Plates Data\\Cars\\DSC_1064.JPG: 320x416 1 License_Plate, 13.8ms\n",
      "image 72/104 C:\\Users\\GenITeam\\Downloads\\archive (6)\\Pakistani License Number Plates Data\\Cars\\DSC_1066.JPG: 288x416 1 License_Plate, 10.8ms\n",
      "image 73/104 C:\\Users\\GenITeam\\Downloads\\archive (6)\\Pakistani License Number Plates Data\\Cars\\DSC_1067.JPG: 288x416 1 License_Plate, 9.9ms\n",
      "image 74/104 C:\\Users\\GenITeam\\Downloads\\archive (6)\\Pakistani License Number Plates Data\\Cars\\DSC_1068.JPG: 352x416 1 License_Plate, 13.7ms\n",
      "image 75/104 C:\\Users\\GenITeam\\Downloads\\archive (6)\\Pakistani License Number Plates Data\\Cars\\DSC_1069.JPG: 256x416 1 License_Plate, 9.7ms\n",
      "image 76/104 C:\\Users\\GenITeam\\Downloads\\archive (6)\\Pakistani License Number Plates Data\\Cars\\DSC_1070.JPG: 288x416 2 License_Plates, 12.6ms\n",
      "image 77/104 C:\\Users\\GenITeam\\Downloads\\archive (6)\\Pakistani License Number Plates Data\\Cars\\DSC_1071.JPG: 384x416 1 License_Plate, 15.0ms\n",
      "image 78/104 C:\\Users\\GenITeam\\Downloads\\archive (6)\\Pakistani License Number Plates Data\\Cars\\DSC_1072.JPG: 352x416 1 License_Plate, 14.5ms\n",
      "image 79/104 C:\\Users\\GenITeam\\Downloads\\archive (6)\\Pakistani License Number Plates Data\\Cars\\DSC_1074.JPG: 352x416 1 License_Plate, 11.4ms\n",
      "image 80/104 C:\\Users\\GenITeam\\Downloads\\archive (6)\\Pakistani License Number Plates Data\\Cars\\DSC_1075.JPG: 384x416 (no detections), 15.3ms\n",
      "image 81/104 C:\\Users\\GenITeam\\Downloads\\archive (6)\\Pakistani License Number Plates Data\\Cars\\DSC_1076.JPG: 320x416 2 License_Plates, 12.9ms\n",
      "image 82/104 C:\\Users\\GenITeam\\Downloads\\archive (6)\\Pakistani License Number Plates Data\\Cars\\DSC_1079.JPG: 352x416 1 License_Plate, 14.5ms\n",
      "image 83/104 C:\\Users\\GenITeam\\Downloads\\archive (6)\\Pakistani License Number Plates Data\\Cars\\DSC_1080.JPG: 416x416 1 License_Plate, 17.0ms\n",
      "image 84/104 C:\\Users\\GenITeam\\Downloads\\archive (6)\\Pakistani License Number Plates Data\\Cars\\DSC_1081.JPG: 416x416 1 License_Plate, 14.2ms\n",
      "image 85/104 C:\\Users\\GenITeam\\Downloads\\archive (6)\\Pakistani License Number Plates Data\\Cars\\DSC_1082.JPG: 352x416 1 License_Plate, 15.4ms\n",
      "image 86/104 C:\\Users\\GenITeam\\Downloads\\archive (6)\\Pakistani License Number Plates Data\\Cars\\DSC_1084.JPG: 320x416 1 License_Plate, 11.5ms\n",
      "image 87/104 C:\\Users\\GenITeam\\Downloads\\archive (6)\\Pakistani License Number Plates Data\\Cars\\DSC_1085.JPG: 288x416 1 License_Plate, 11.4ms\n",
      "image 88/104 C:\\Users\\GenITeam\\Downloads\\archive (6)\\Pakistani License Number Plates Data\\Cars\\DSC_1087.JPG: 320x416 1 License_Plate, 11.9ms\n",
      "image 89/104 C:\\Users\\GenITeam\\Downloads\\archive (6)\\Pakistani License Number Plates Data\\Cars\\DSC_1089.JPG: 320x416 1 License_Plate, 11.0ms\n",
      "image 90/104 C:\\Users\\GenITeam\\Downloads\\archive (6)\\Pakistani License Number Plates Data\\Cars\\DSC_1090.JPG: 288x416 1 License_Plate, 10.8ms\n",
      "image 91/104 C:\\Users\\GenITeam\\Downloads\\archive (6)\\Pakistani License Number Plates Data\\Cars\\DSC_1091.JPG: 384x416 1 License_Plate, 14.7ms\n",
      "image 92/104 C:\\Users\\GenITeam\\Downloads\\archive (6)\\Pakistani License Number Plates Data\\Cars\\DSC_1092.JPG: 352x416 1 License_Plate, 14.3ms\n",
      "image 93/104 C:\\Users\\GenITeam\\Downloads\\archive (6)\\Pakistani License Number Plates Data\\Cars\\DSC_1093.JPG: 288x416 1 License_Plate, 22.1ms\n",
      "image 94/104 C:\\Users\\GenITeam\\Downloads\\archive (6)\\Pakistani License Number Plates Data\\Cars\\DSC_1094.JPG: 352x416 1 License_Plate, 25.7ms\n",
      "image 95/104 C:\\Users\\GenITeam\\Downloads\\archive (6)\\Pakistani License Number Plates Data\\Cars\\DSC_1096.JPG: 352x416 1 License_Plate, 30.4ms\n",
      "image 96/104 C:\\Users\\GenITeam\\Downloads\\archive (6)\\Pakistani License Number Plates Data\\Cars\\DSC_1097.JPG: 320x416 1 License_Plate, 18.3ms\n",
      "image 97/104 C:\\Users\\GenITeam\\Downloads\\archive (6)\\Pakistani License Number Plates Data\\Cars\\DSC_1098.JPG: 320x416 1 License_Plate, 12.4ms\n",
      "image 98/104 C:\\Users\\GenITeam\\Downloads\\archive (6)\\Pakistani License Number Plates Data\\Cars\\DSC_1099.JPG: 352x416 1 License_Plate, 12.9ms\n",
      "image 99/104 C:\\Users\\GenITeam\\Downloads\\archive (6)\\Pakistani License Number Plates Data\\Cars\\DSC_1100.JPG: 320x416 1 License_Plate, 11.2ms\n",
      "image 100/104 C:\\Users\\GenITeam\\Downloads\\archive (6)\\Pakistani License Number Plates Data\\Cars\\DSC_1103.JPG: 320x416 1 License_Plate, 10.4ms\n",
      "image 101/104 C:\\Users\\GenITeam\\Downloads\\archive (6)\\Pakistani License Number Plates Data\\Cars\\DSC_1104.JPG: 384x416 1 License_Plate, 14.0ms\n",
      "image 102/104 C:\\Users\\GenITeam\\Downloads\\archive (6)\\Pakistani License Number Plates Data\\Cars\\DSC_1105.JPG: 320x416 1 License_Plate, 13.4ms\n",
      "image 103/104 C:\\Users\\GenITeam\\Downloads\\archive (6)\\Pakistani License Number Plates Data\\Cars\\DSC_1106.JPG: 384x416 1 License_Plate, 14.2ms\n",
      "image 104/104 C:\\Users\\GenITeam\\Downloads\\archive (6)\\Pakistani License Number Plates Data\\Cars\\DSC_1107.JPG: 384x416 1 License_Plate, 11.9ms\n",
      "Speed: 1.7ms preprocess, 14.3ms inference, 3.9ms postprocess per image at shape (1, 3, 384, 416)\n",
      "Results saved to \u001b[1mruns\\detect\\predict\u001b[0m\n"
     ]
    }
   ],
   "source": [
    "results = model.predict(\n",
    "    source=r\"C:\\Users\\GenITeam\\Downloads\\archive (6)\\Pakistani License Number Plates Data\\Cars\",  # your test set path\n",
    "    conf=0.4,   # confidence threshold\n",
    "    save=True   # saves predicted images in runs/detect/predict/\n",
    ")\n"
   ]
  },
  {
   "cell_type": "code",
   "execution_count": 19,
   "id": "89170e3f",
   "metadata": {},
   "outputs": [
    {
     "data": {
      "text/plain": [
       "<Figure size 1000x600 with 1 Axes>"
      ]
     },
     "metadata": {},
     "output_type": "display_data"
    },
    {
     "data": {
      "text/plain": [
       "<Figure size 1000x600 with 1 Axes>"
      ]
     },
     "metadata": {},
     "output_type": "display_data"
    },
    {
     "data": {
      "text/plain": [
       "<Figure size 1000x600 with 1 Axes>"
      ]
     },
     "metadata": {},
     "output_type": "display_data"
    },
    {
     "data": {
      "text/plain": [
       "<Figure size 1000x600 with 1 Axes>"
      ]
     },
     "metadata": {},
     "output_type": "display_data"
    },
    {
     "data": {
      "text/plain": [
       "<Figure size 1000x600 with 1 Axes>"
      ]
     },
     "metadata": {},
     "output_type": "display_data"
    }
   ],
   "source": [
    "import os\n",
    "import glob\n",
    "import cv2\n",
    "import matplotlib.pyplot as plt\n",
    "\n",
    "predicted_images = glob.glob(\"runs/detect/predict/*.jpg\")[:5]\n",
    "\n",
    "for img_path in predicted_images:\n",
    "    img = cv2.imread(img_path)[..., ::-1]  # Convert BGR to RGB\n",
    "    plt.figure(figsize=(10, 6))\n",
    "    plt.imshow(img)\n",
    "    plt.axis(\"off\")\n",
    "    plt.title(f\"Prediction: {os.path.basename(img_path)}\")\n",
    "    plt.show()"
   ]
  },
  {
   "cell_type": "code",
   "execution_count": null,
   "id": "360e45d3",
   "metadata": {},
   "outputs": [],
   "source": [
    "results = model.predict(\n",
    "    source=r\"C:\\Users\\GenITeam\\Downloads\\Keep sharing the best parking skills with you!#car #driving #drivingtest - 懂车师姐 (720p, h264).mp4\",\n",
    "    save=True,\n",
    "    stream=True,\n",
    "    conf=0.25,\n",
    "    imgsz=640\n",
    ")\n",
    "\n",
    "# Loop over generator to trigger processing\n",
    "for r in results:\n",
    "    print(r.boxes)"
   ]
  },
  {
   "cell_type": "code",
   "execution_count": 1,
   "id": "588e222d",
   "metadata": {},
   "outputs": [],
   "source": [
    "from ultralytics import YOLO\n",
    "\n",
    "model = YOLO(r\"C:\\Users\\GenITeam\\Desktop\\football_subset_5000\\runs\\detect\\train\\weights\\best.pt\")"
   ]
  },
  {
   "cell_type": "code",
   "execution_count": 15,
   "id": "3488ec31",
   "metadata": {},
   "outputs": [
    {
     "name": "stderr",
     "output_type": "stream",
     "text": [
      "\u001b[32mCreating model: ('PP-OCRv5_server_det', None)\u001b[0m\n",
      "\u001b[32mUsing official model (PP-OCRv5_server_det), the model files will be automatically downloaded and saved in C:\\Users\\GenITeam\\.paddlex\\official_models.\u001b[0m\n"
     ]
    },
    {
     "data": {
      "application/vnd.jupyter.widget-view+json": {
       "model_id": "074ac90a7bfc41a59425f166c96b08bf",
       "version_major": 2,
       "version_minor": 0
      },
      "text/plain": [
       "Fetching 6 files:   0%|          | 0/6 [00:00<?, ?it/s]"
      ]
     },
     "metadata": {},
     "output_type": "display_data"
    },
    {
     "name": "stderr",
     "output_type": "stream",
     "text": [
      "\u001b[32mCreating model: ('PP-OCRv5_server_rec', None)\u001b[0m\n",
      "\u001b[32mUsing official model (PP-OCRv5_server_rec), the model files will be automatically downloaded and saved in C:\\Users\\GenITeam\\.paddlex\\official_models.\u001b[0m\n"
     ]
    },
    {
     "data": {
      "application/vnd.jupyter.widget-view+json": {
       "model_id": "f65b30acfb714722a25a90dfac34986a",
       "version_major": 2,
       "version_minor": 0
      },
      "text/plain": [
       "Fetching 6 files:   0%|          | 0/6 [00:00<?, ?it/s]"
      ]
     },
     "metadata": {},
     "output_type": "display_data"
    },
    {
     "name": "stderr",
     "output_type": "stream",
     "text": [
      "\u001b[32m{'res': {'input_path': 'C:\\\\Users\\\\GenITeam\\\\Desktop\\\\Number plates detection\\\\runs\\\\detect\\\\predict\\\\DSC_1092.jpg', 'page_index': None, 'model_settings': {'use_doc_preprocessor': True, 'use_textline_orientation': False}, 'doc_preprocessor_res': {'input_path': None, 'page_index': None, 'model_settings': {'use_doc_orientation_classify': False, 'use_doc_unwarping': False}, 'angle': -1}, 'dt_polys': array([[[1135,   40],\n",
      "        ...,\n",
      "        [1132,  109]],\n",
      "\n",
      "       ...,\n",
      "\n",
      "       [[ 779,  907],\n",
      "        ...,\n",
      "        [ 780,  963]]], shape=(7, 4, 2), dtype=int16), 'text_det_params': {'limit_side_len': 64, 'limit_type': 'min', 'thresh': 0.3, 'max_side_limit': 4000, 'box_thresh': 0.6, 'unclip_ratio': 1.5}, 'text_type': 'general', 'textline_orientation_angles': array([-1, ..., -1], shape=(7,)), 'text_rec_score_thresh': 0.0, 'rec_texts': ['B-1', '1023', 'LEC', '2983', 'License_Plate 0.78', 'MNA', '2993'], 'rec_scores': array([0.9773863 , ..., 0.99836028], shape=(7,)), 'rec_polys': array([[[1135,   40],\n",
      "        ...,\n",
      "        [1132,  109]],\n",
      "\n",
      "       ...,\n",
      "\n",
      "       [[ 779,  907],\n",
      "        ...,\n",
      "        [ 780,  963]]], shape=(7, 4, 2), dtype=int16), 'rec_boxes': array([[1132, ...,  114],\n",
      "       ...,\n",
      "       [ 779, ...,  963]], shape=(7, 4), dtype=int16)}}\u001b[0m\n"
     ]
    }
   ],
   "source": [
    "# Initialize PaddleOCR instance\n",
    "from paddleocr import PaddleOCR\n",
    "ocr = PaddleOCR(\n",
    "    use_doc_orientation_classify=False,\n",
    "    use_doc_unwarping=False,\n",
    "    use_textline_orientation=False)\n",
    "\n",
    "# Run OCR inference on a sample image \n",
    "result = ocr.predict(\n",
    "    input=r\"C:\\Users\\GenITeam\\Desktop\\Number plates detection\\runs\\detect\\predict\\DSC_1092.jpg\")\n",
    "\n",
    "# Visualize the results and save the JSON results\n",
    "for res in result:\n",
    "    res.print()\n",
    "    res.save_to_img(\"output\")\n",
    "    res.save_to_json(\"output\")\n"
   ]
  },
  {
   "cell_type": "raw",
   "id": "951b4718-21f8-4ee8-b76e-c66c6707c3e1",
   "metadata": {},
   "source": [
    "# MAking the classifier"
   ]
  },
  {
   "cell_type": "markdown",
   "id": "e24b59ce-0bbe-4b38-b053-f24cd7c599ae",
   "metadata": {},
   "source": [
    "# Transfer Learning\n"
   ]
  },
  {
   "cell_type": "code",
   "execution_count": 1,
   "id": "af350a78-92c8-42fe-829e-408da587928a",
   "metadata": {},
   "outputs": [
    {
     "name": "stdout",
     "output_type": "stream",
     "text": [
      "Device: cuda\n",
      "Detected Classes: ['islamabad_cropped', 'punjab_cropped', 'sindh_cropped']\n"
     ]
    },
    {
     "name": "stderr",
     "output_type": "stream",
     "text": [
      "C:\\Users\\GenITeam\\AppData\\Local\\Programs\\Python\\Python313\\Lib\\site-packages\\torchvision\\models\\_utils.py:208: UserWarning: The parameter 'pretrained' is deprecated since 0.13 and may be removed in the future, please use 'weights' instead.\n",
      "  warnings.warn(\n",
      "C:\\Users\\GenITeam\\AppData\\Local\\Programs\\Python\\Python313\\Lib\\site-packages\\torchvision\\models\\_utils.py:223: UserWarning: Arguments other than a weight enum or `None` for 'weights' are deprecated since 0.13 and may be removed in the future. The current behavior is equivalent to passing `weights=ResNet18_Weights.IMAGENET1K_V1`. You can also use `weights=ResNet18_Weights.DEFAULT` to get the most up-to-date weights.\n",
      "  warnings.warn(msg)\n"
     ]
    },
    {
     "name": "stdout",
     "output_type": "stream",
     "text": [
      "Epoch [1/15], Loss: 0.3776, Accuracy: 83.17%\n",
      "Epoch [2/15], Loss: 0.0667, Accuracy: 97.80%\n",
      "Epoch [3/15], Loss: 0.0494, Accuracy: 98.29%\n",
      "Epoch [4/15], Loss: 0.0218, Accuracy: 99.02%\n",
      "Epoch [5/15], Loss: 0.0203, Accuracy: 99.02%\n",
      "Epoch [6/15], Loss: 0.0076, Accuracy: 100.00%\n",
      "Epoch [7/15], Loss: 0.0025, Accuracy: 100.00%\n",
      "Epoch [8/15], Loss: 0.0483, Accuracy: 99.02%\n",
      "Epoch [9/15], Loss: 0.0499, Accuracy: 98.54%\n",
      "Epoch [10/15], Loss: 0.0329, Accuracy: 99.02%\n",
      "Epoch [11/15], Loss: 0.0979, Accuracy: 98.05%\n",
      "Epoch [12/15], Loss: 0.0180, Accuracy: 99.02%\n",
      "Epoch [13/15], Loss: 0.0046, Accuracy: 100.00%\n",
      "Epoch [14/15], Loss: 0.0016, Accuracy: 100.00%\n",
      "Epoch [15/15], Loss: 0.0113, Accuracy: 99.27%\n",
      "✅ Training complete.\n"
     ]
    }
   ],
   "source": [
    "# ---- 🔧 SETUP ----\n",
    "import os\n",
    "import torch\n",
    "import torch.nn as nn\n",
    "import torch.optim as optim\n",
    "from torchvision import datasets, transforms, models\n",
    "from torch.utils.data import DataLoader\n",
    "from PIL import Image\n",
    "import matplotlib.pyplot as plt\n",
    "\n",
    "# --- CONFIG ---\n",
    "data_dir = r\"C:\\Users\\GenITeam\\Desktop\\cropped_number_plates\"\n",
    "batch_size = 32\n",
    "num_epochs = 15\n",
    "learning_rate = 0.001\n",
    "num_classes = 3\n",
    "device = torch.device(\"cuda\" if torch.cuda.is_available() else \"cpu\")\n",
    "print(\"Device:\", device)\n",
    "\n",
    "# --- TRANSFORMS (for ResNet pretrained on ImageNet) ---\n",
    "transform = transforms.Compose([\n",
    "    transforms.Resize((224, 224)),\n",
    "    transforms.RandomHorizontalFlip(),\n",
    "    transforms.ColorJitter(brightness=0.2, contrast=0.2, saturation=0.2),\n",
    "    transforms.ToTensor(),\n",
    "    transforms.Normalize([0.485, 0.456, 0.406], \n",
    "                         [0.229, 0.224, 0.225])\n",
    "])\n",
    "\n",
    "# --- DATASET & DATALOADER ---\n",
    "dataset = datasets.ImageFolder(data_dir, transform=transform)\n",
    "class_names = dataset.classes\n",
    "loader = DataLoader(dataset, batch_size=batch_size, shuffle=True)\n",
    "\n",
    "print(f\"Detected Classes: {class_names}\")\n",
    "\n",
    "# --- LOAD PRETRAINED MODEL ---\n",
    "model = models.resnet18(pretrained=True)\n",
    "\n",
    "# Freeze all layers first (optional)\n",
    "for param in model.parameters():\n",
    "    param.requires_grad = False\n",
    "\n",
    "# Replace FC layer\n",
    "in_features = model.fc.in_features\n",
    "model.fc = nn.Sequential(\n",
    "    nn.Linear(in_features, 256),\n",
    "    nn.ReLU(),\n",
    "    nn.Dropout(0.4),\n",
    "    nn.Linear(256, num_classes)\n",
    ")\n",
    "\n",
    "# Optional: Unfreeze last block for fine-tuning\n",
    "for param in model.layer4.parameters():\n",
    "    param.requires_grad = True\n",
    "\n",
    "model = model.to(device)\n",
    "\n",
    "# --- LOSS & OPTIMIZER ---\n",
    "criterion = nn.CrossEntropyLoss()\n",
    "optimizer = optim.Adam(filter(lambda p: p.requires_grad, model.parameters()), lr=learning_rate)\n",
    "\n",
    "# --- TRAINING LOOP ---\n",
    "for epoch in range(num_epochs):\n",
    "    model.train()\n",
    "    running_loss = 0.0\n",
    "    correct = 0\n",
    "    total = 0\n",
    "\n",
    "    for images, labels in loader:\n",
    "        images, labels = images.to(device), labels.to(device)\n",
    "\n",
    "        outputs = model(images)\n",
    "        loss = criterion(outputs, labels)\n",
    "\n",
    "        optimizer.zero_grad()\n",
    "        loss.backward()\n",
    "        optimizer.step()\n",
    "\n",
    "        running_loss += loss.item()\n",
    "        _, predicted = torch.max(outputs, 1)\n",
    "        total += labels.size(0)\n",
    "        correct += (predicted == labels).sum().item()\n",
    "\n",
    "    epoch_loss = running_loss / len(loader)\n",
    "    epoch_acc = 100 * correct / total\n",
    "    print(f\"Epoch [{epoch+1}/{num_epochs}], Loss: {epoch_loss:.4f}, Accuracy: {epoch_acc:.2f}%\")\n",
    "\n",
    "print(\"✅ Training complete.\")\n",
    "torch.save(model.state_dict(), \"better_CNN_model.pth\")"
   ]
  },
  {
   "cell_type": "raw",
   "id": "ca8c0098-59a3-4c96-a135-350883a27f0f",
   "metadata": {},
   "source": [
    "!pip install paddle"
   ]
  },
  {
   "cell_type": "code",
   "execution_count": 16,
   "id": "04981763-a2a0-4a81-a1c4-bdc1c9e3fb30",
   "metadata": {},
   "outputs": [
    {
     "ename": "ModuleNotFoundError",
     "evalue": "No module named 'paddle'",
     "output_type": "error",
     "traceback": [
      "\u001b[31m---------------------------------------------------------------------------\u001b[39m",
      "\u001b[31mModuleNotFoundError\u001b[39m                       Traceback (most recent call last)",
      "\u001b[36mCell\u001b[39m\u001b[36m \u001b[39m\u001b[32mIn[16]\u001b[39m\u001b[32m, line 9\u001b[39m\n\u001b[32m      7\u001b[39m \u001b[38;5;28;01mimport\u001b[39;00m\u001b[38;5;250m \u001b[39m\u001b[34;01mmatplotlib\u001b[39;00m\u001b[34;01m.\u001b[39;00m\u001b[34;01mpyplot\u001b[39;00m\u001b[38;5;250m \u001b[39m\u001b[38;5;28;01mas\u001b[39;00m\u001b[38;5;250m \u001b[39m\u001b[34;01mplt\u001b[39;00m\n\u001b[32m      8\u001b[39m \u001b[38;5;28;01mimport\u001b[39;00m\u001b[38;5;250m \u001b[39m\u001b[34;01mcsv\u001b[39;00m\n\u001b[32m----> \u001b[39m\u001b[32m9\u001b[39m \u001b[38;5;28;01mfrom\u001b[39;00m\u001b[38;5;250m \u001b[39m\u001b[34;01mpaddleocr\u001b[39;00m\u001b[38;5;250m \u001b[39m\u001b[38;5;28;01mimport\u001b[39;00m PaddleOCR\n\u001b[32m     11\u001b[39m \u001b[38;5;66;03m# ---- CONFIG ----\u001b[39;00m\n\u001b[32m     12\u001b[39m device = torch.device(\u001b[33m\"\u001b[39m\u001b[33mcuda\u001b[39m\u001b[33m\"\u001b[39m \u001b[38;5;28;01mif\u001b[39;00m torch.cuda.is_available() \u001b[38;5;28;01melse\u001b[39;00m \u001b[33m\"\u001b[39m\u001b[33mcpu\u001b[39m\u001b[33m\"\u001b[39m)\n",
      "\u001b[36mFile \u001b[39m\u001b[32m~\\AppData\\Local\\Programs\\Python\\Python313\\Lib\\site-packages\\paddleocr\\__init__.py:14\u001b[39m\n\u001b[32m      1\u001b[39m \u001b[38;5;66;03m# Copyright (c) 2020 PaddlePaddle Authors. All Rights Reserved.\u001b[39;00m\n\u001b[32m      2\u001b[39m \u001b[38;5;66;03m#\u001b[39;00m\n\u001b[32m      3\u001b[39m \u001b[38;5;66;03m# Licensed under the Apache License, Version 2.0 (the \"License\");\u001b[39;00m\n\u001b[32m   (...)\u001b[39m\u001b[32m     12\u001b[39m \u001b[38;5;66;03m# See the License for the specific language governing permissions and\u001b[39;00m\n\u001b[32m     13\u001b[39m \u001b[38;5;66;03m# limitations under the License.\u001b[39;00m\n\u001b[32m---> \u001b[39m\u001b[32m14\u001b[39m \u001b[38;5;28;01mfrom\u001b[39;00m\u001b[38;5;250m \u001b[39m\u001b[34;01m.\u001b[39;00m\u001b[34;01mpaddleocr\u001b[39;00m\u001b[38;5;250m \u001b[39m\u001b[38;5;28;01mimport\u001b[39;00m *\n\u001b[32m     16\u001b[39m __version__ = paddleocr.VERSION\n\u001b[32m     17\u001b[39m __all__ = [\n\u001b[32m     18\u001b[39m     \u001b[33m'\u001b[39m\u001b[33mPaddleOCR\u001b[39m\u001b[33m'\u001b[39m, \u001b[33m'\u001b[39m\u001b[33mPPStructure\u001b[39m\u001b[33m'\u001b[39m, \u001b[33m'\u001b[39m\u001b[33mdraw_ocr\u001b[39m\u001b[33m'\u001b[39m, \u001b[33m'\u001b[39m\u001b[33mdraw_structure_result\u001b[39m\u001b[33m'\u001b[39m,\n\u001b[32m     19\u001b[39m     \u001b[33m'\u001b[39m\u001b[33msave_structure_res\u001b[39m\u001b[33m'\u001b[39m, \u001b[33m'\u001b[39m\u001b[33mdownload_with_progressbar\u001b[39m\u001b[33m'\u001b[39m, \u001b[33m'\u001b[39m\u001b[33msorted_layout_boxes\u001b[39m\u001b[33m'\u001b[39m,\n\u001b[32m     20\u001b[39m     \u001b[33m'\u001b[39m\u001b[33mconvert_info_docx\u001b[39m\u001b[33m'\u001b[39m\n\u001b[32m     21\u001b[39m ]\n",
      "\u001b[36mFile \u001b[39m\u001b[32m~\\AppData\\Local\\Programs\\Python\\Python313\\Lib\\site-packages\\paddleocr\\paddleocr.py:21\u001b[39m\n\u001b[32m     17\u001b[39m \u001b[38;5;28;01mimport\u001b[39;00m\u001b[38;5;250m \u001b[39m\u001b[34;01mimportlib\u001b[39;00m\n\u001b[32m     19\u001b[39m \u001b[34m__dir__\u001b[39m = os.path.dirname(\u001b[34m__file__\u001b[39m)\n\u001b[32m---> \u001b[39m\u001b[32m21\u001b[39m \u001b[38;5;28;01mimport\u001b[39;00m\u001b[38;5;250m \u001b[39m\u001b[34;01mpaddle\u001b[39;00m\n\u001b[32m     23\u001b[39m sys.path.append(os.path.join(\u001b[34m__dir__\u001b[39m, \u001b[33m'\u001b[39m\u001b[33m'\u001b[39m))\n\u001b[32m     25\u001b[39m \u001b[38;5;28;01mimport\u001b[39;00m\u001b[38;5;250m \u001b[39m\u001b[34;01mcv2\u001b[39;00m\n",
      "\u001b[31mModuleNotFoundError\u001b[39m: No module named 'paddle'"
     ]
    }
   ],
   "source": [
    "import cv2\n",
    "import torch\n",
    "import numpy as np\n",
    "from ultralytics import YOLO\n",
    "from torchvision import transforms\n",
    "from PIL import Image\n",
    "import matplotlib.pyplot as plt\n",
    "import csv\n",
    "from paddleocr import PaddleOCR\n",
    "\n",
    "# ---- CONFIG ----\n",
    "device = torch.device(\"cuda\" if torch.cuda.is_available() else \"cpu\")\n",
    "img_path = r\"C:\\Users\\GenITeam\\Desktop\\test7.jpg\"\n",
    "save_csv_path = r\"C:\\Users\\GenITeam\\Desktop\\output2.csv\"\n",
    "\n",
    "# ---- LOAD MODELS ----\n",
    "yolo_model = YOLO(r\"C:\\Users\\GenITeam\\Desktop\\Number plates detection\\runs\\detect\\train7\\weights\\best.pt\")\n",
    "model.load_state_dict(torch.load(\"better_CNN_model.pth\", map_location=device))\n",
    "model = model.to(device)\n",
    "model.eval()\n",
    "\n",
    "# ---- OCR SETUP ----\n",
    "ocr = PaddleOCR(\n",
    "    use_textline_orientation=False,\n",
    "    use_doc_unwarping=False\n",
    ")\n",
    "\n",
    "\n",
    "# ---- TRANSFORM FOR CNN ----\n",
    "transform = transforms.Compose([\n",
    "    transforms.Resize((128, 128)),\n",
    "    transforms.ToTensor(),\n",
    "])\n",
    "\n",
    "# ---- LOAD IMAGE ----\n",
    "image = cv2.imread(img_path)\n",
    "original_image = image.copy()\n",
    "\n",
    "# ---- DETECT PLATE ----\n",
    "results = yolo_model(image)[0]\n",
    "\n",
    "# ---- WRITE TO CSV ----\n",
    "with open(save_csv_path, mode='w', newline='', encoding='utf-8') as f:\n",
    "    writer = csv.writer(f)\n",
    "    writer.writerow(['x1', 'y1', 'x2', 'y2', 'Class', 'OCR_Text'])\n",
    "\n",
    "    for box in results.boxes:\n",
    "        x1, y1, x2, y2 = map(int, box.xyxy[0])\n",
    "        cropped_plate = image[y1:y2, x1:x2]\n",
    "        # --- Show Cropped Plate Image ---\n",
    "        plt.figure(figsize=(4, 3))\n",
    "        plt.imshow(cv2.cvtColor(cropped_plate, cv2.COLOR_BGR2RGB))\n",
    "        plt.title(\"Cropped Number Plate\")\n",
    "        plt.axis(\"off\")\n",
    "        plt.show()\n",
    "\n",
    "\n",
    "        if cropped_plate.size == 0:\n",
    "            continue\n",
    "\n",
    "        # ---- CLASSIFY PLATE ----\n",
    "        plate_pil = Image.fromarray(cv2.cvtColor(cropped_plate, cv2.COLOR_BGR2RGB))\n",
    "        input_tensor = transform(plate_pil).unsqueeze(0).to(device)\n",
    "\n",
    "        with torch.no_grad():\n",
    "            output = model(input_tensor)\n",
    "            pred_idx = torch.argmax(output, dim=1).item()\n",
    "            plate_class = class_names[pred_idx]\n",
    "\n",
    "# ---- OCR TEXT EXTRACTION (latest format fix) ----\n",
    "        ocr_result = ocr.predict(cropped_plate)\n",
    "        \n",
    "        # Get recognized text list safely\n",
    "        plate_texts = ocr_result[0].get(\"rec_texts\", [])\n",
    "        plate_text = \" \".join(t.strip() for t in plate_texts if t.strip())\n",
    "        \n",
    "        # Fallback if no text\n",
    "        if not plate_text:\n",
    "            plate_text = \"N/A\"\n",
    "\n",
    "        print(plate_text)\n",
    "        # ---- SAVE TO CSV ----\n",
    "        writer.writerow([plate_class, plate_text])\n",
    "\n",
    "        # ---- DRAW RESULTS ----\n",
    "        cv2.rectangle(original_image, (x1, y1), (x2, y2), (0, 255, 0), 2)\n",
    "        cv2.putText(original_image, f\"{plate_class}: {plate_text}\", (x1, y1 - 10),\n",
    "                    cv2.FONT_HERSHEY_SIMPLEX, 0.6, (0, 255, 0), 2)\n",
    "\n",
    "# ---- SHOW FINAL IMAGE ----\n",
    "original_image_rgb = cv2.cvtColor(original_image, cv2.COLOR_BGR2RGB)\n",
    "plt.figure(figsize=(12, 7))\n",
    "plt.imshow(original_image_rgb)\n",
    "plt.axis(\"off\")\n",
    "plt.title(\"Detected Number Plates with OCR and Classification\")\n",
    "plt.show()\n",
    "\n",
    "print(f\"[✅] Detection, classification, and OCR complete. CSV saved to:\\n{save_csv_path}\")\n"
   ]
  },
  {
   "cell_type": "code",
   "execution_count": 135,
   "id": "1f3b5389-8ff2-43e4-b0f2-9a9b66c8cc94",
   "metadata": {},
   "outputs": [
    {
     "name": "stdout",
     "output_type": "stream",
     "text": [
      "Dominant Color (RGB): (51, 46, 32)\n"
     ]
    }
   ],
   "source": [
    "import cv2\n",
    "import numpy as np\n",
    "from sklearn.cluster import KMeans\n",
    "\n",
    "def get_dominant_color(image_path, k=3):\n",
    "    image = cv2.imread(image_path)\n",
    "    image = cv2.resize(image, (16, 16))\n",
    "    image = image.reshape((-1, 3))\n",
    "\n",
    "    # KMeans to find dominant color\n",
    "    kmeans = KMeans(n_clusters=k)\n",
    "    kmeans.fit(image)\n",
    "\n",
    "    # Count labels\n",
    "    unique, counts = np.unique(kmeans.labels_, return_counts=True)\n",
    "    dominant_color = kmeans.cluster_centers_[unique[np.argmax(counts)]]\n",
    "\n",
    "    # Convert to RGB\n",
    "    return tuple(map(int, dominant_color[::-1]))  # BGR to RGB\n",
    "\n",
    "# Example usage\n",
    "color = get_dominant_color(r\"C:\\Users\\GenITeam\\Desktop\\test7.jpg\")\n",
    "print(f\"Dominant Color (RGB): {color}\")\n"
   ]
  },
  {
   "cell_type": "markdown",
   "id": "88f77059-6d15-4dae-b5d6-a287c21f7d39",
   "metadata": {},
   "source": [
    "# training a cnn classifier to predict the color\n",
    " "
   ]
  },
  {
   "cell_type": "code",
   "execution_count": 4,
   "id": "0cbde2ad-fc3d-4443-974b-0e3530473cc6",
   "metadata": {},
   "outputs": [],
   "source": [
    "import os\n",
    "import torch\n",
    "import torch.nn as nn\n",
    "import torch.optim as optim\n",
    "from torchvision import datasets, transforms\n",
    "from torch.utils.data import DataLoader\n",
    "from PIL import Image\n"
   ]
  },
  {
   "cell_type": "code",
   "execution_count": 5,
   "id": "b156f87e-0e29-45b6-acb2-de905ee283d7",
   "metadata": {},
   "outputs": [],
   "source": [
    "data_dir = r\"C:\\Users\\GenITeam\\Downloads\\car_Color\"  # Update this\n",
    "batch_size = 32\n",
    "num_epochs = 10\n",
    "device = torch.device(\"cuda\" if torch.cuda.is_available() else \"cpu\")\n"
   ]
  },
  {
   "cell_type": "code",
   "execution_count": 6,
   "id": "31df9db9-ad9e-4932-84ad-7581e36aa26a",
   "metadata": {},
   "outputs": [],
   "source": [
    "transform = transforms.Compose([\n",
    "    transforms.Resize((128, 128)),\n",
    "    transforms.ToTensor(),\n",
    "    transforms.Normalize(mean=[0.5]*3, std=[0.5]*3)\n",
    "])\n",
    "\n",
    "train_data = datasets.ImageFolder(os.path.join(data_dir, \"train\"), transform=transform)\n",
    "val_data = datasets.ImageFolder(os.path.join(data_dir, \"val\"), transform=transform)\n",
    "test_data = datasets.ImageFolder(os.path.join(data_dir, \"test\"), transform=transform)\n",
    "\n",
    "train_loader = DataLoader(train_data, batch_size=batch_size, shuffle=True)\n",
    "val_loader = DataLoader(val_data, batch_size=batch_size)\n",
    "test_loader = DataLoader(test_data, batch_size=batch_size)\n",
    "\n",
    "num_classes = len(train_data.classes)\n",
    "class_names = train_data.classes\n"
   ]
  },
  {
   "cell_type": "code",
   "execution_count": 7,
   "id": "bd4cf623-02aa-4ea6-94c9-3d03f1171884",
   "metadata": {},
   "outputs": [],
   "source": [
    "class CarColorCNN(nn.Module):\n",
    "    def __init__(self, num_classes):\n",
    "        super(CarColorCNN, self).__init__()\n",
    "        self.features = nn.Sequential(\n",
    "            nn.Conv2d(3, 32, 3, padding=1), nn.ReLU(), nn.MaxPool2d(2),\n",
    "            nn.Conv2d(32, 64, 3, padding=1), nn.ReLU(), nn.MaxPool2d(2),\n",
    "            nn.Conv2d(64, 128, 3, padding=1), nn.ReLU(), nn.MaxPool2d(2)\n",
    "        )\n",
    "        self.classifier = nn.Sequential(\n",
    "            nn.Flatten(),\n",
    "            nn.Linear(128 * 16 * 16, 256),\n",
    "            nn.ReLU(),\n",
    "            nn.Dropout(0.3),\n",
    "            nn.Linear(256, num_classes)\n",
    "        )\n",
    "\n",
    "    def forward(self, x):\n",
    "        x = self.features(x)\n",
    "        x = self.classifier(x)\n",
    "        return x\n",
    "\n",
    "model = CarColorCNN(num_classes).to(device)\n"
   ]
  },
  {
   "cell_type": "code",
   "execution_count": 11,
   "id": "e1a46c02-a63e-4a09-a3a7-47d36f1b661b",
   "metadata": {},
   "outputs": [
    {
     "name": "stdout",
     "output_type": "stream",
     "text": [
      "Epoch [1/10], Loss: 260.7349, Train Acc: 60.70%, Val Acc: 75.42%\n",
      "Epoch [2/10], Loss: 155.1820, Train Acc: 76.00%, Val Acc: 78.84%\n",
      "Epoch [3/10], Loss: 125.7147, Train Acc: 80.54%, Val Acc: 77.68%\n",
      "Epoch [4/10], Loss: 105.1122, Train Acc: 83.75%, Val Acc: 81.48%\n",
      "Epoch [5/10], Loss: 86.4273, Train Acc: 86.71%, Val Acc: 80.32%\n",
      "Epoch [6/10], Loss: 69.1901, Train Acc: 89.42%, Val Acc: 80.65%\n",
      "Epoch [7/10], Loss: 50.4801, Train Acc: 92.56%, Val Acc: 82.39%\n",
      "Epoch [8/10], Loss: 34.7960, Train Acc: 94.76%, Val Acc: 80.97%\n",
      "Epoch [9/10], Loss: 29.4330, Train Acc: 95.39%, Val Acc: 79.68%\n",
      "Epoch [10/10], Loss: 19.2058, Train Acc: 97.26%, Val Acc: 81.94%\n"
     ]
    }
   ],
   "source": [
    "criterion = nn.CrossEntropyLoss()\n",
    "optimizer = optim.Adam(model.parameters(), lr=0.001)\n",
    "\n",
    "for epoch in range(num_epochs):\n",
    "    model.train()\n",
    "    running_loss, correct, total = 0, 0, 0\n",
    "\n",
    "    for imgs, labels in train_loader:\n",
    "        imgs, labels = imgs.to(device), labels.to(device)\n",
    "        outputs = model(imgs)\n",
    "        loss = criterion(outputs, labels)\n",
    "\n",
    "        optimizer.zero_grad()\n",
    "        loss.backward()\n",
    "        optimizer.step()\n",
    "\n",
    "        running_loss += loss.item()\n",
    "        _, predicted = torch.max(outputs, 1)\n",
    "        correct += (predicted == labels).sum().item()\n",
    "        total += labels.size(0)\n",
    "\n",
    "    val_acc = 0\n",
    "    model.eval()\n",
    "    with torch.no_grad():\n",
    "        correct_val, total_val = 0, 0\n",
    "        for imgs, labels in val_loader:\n",
    "            imgs, labels = imgs.to(device), labels.to(device)\n",
    "            outputs = model(imgs)\n",
    "            _, predicted = torch.max(outputs, 1)\n",
    "            correct_val += (predicted == labels).sum().item()\n",
    "            total_val += labels.size(0)\n",
    "        val_acc = 100 * correct_val / total_val\n",
    "\n",
    "    print(f\"Epoch [{epoch+1}/{num_epochs}], Loss: {running_loss:.4f}, Train Acc: {100 * correct / total:.2f}%, Val Acc: {val_acc:.2f}%\")\n"
   ]
  },
  {
   "cell_type": "code",
   "execution_count": 12,
   "id": "36c16800-939e-4041-bcd3-6b0e5cac41b9",
   "metadata": {},
   "outputs": [
    {
     "name": "stdout",
     "output_type": "stream",
     "text": [
      "Test Accuracy: 82.01%\n"
     ]
    }
   ],
   "source": [
    "model.eval()\n",
    "correct_test, total_test = 0, 0\n",
    "with torch.no_grad():\n",
    "    for imgs, labels in test_loader:\n",
    "        imgs, labels = imgs.to(device), labels.to(device)\n",
    "        outputs = model(imgs)\n",
    "        _, predicted = torch.max(outputs, 1)\n",
    "        correct_test += (predicted == labels).sum().item()\n",
    "        total_test += labels.size(0)\n",
    "\n",
    "print(f\"Test Accuracy: {100 * correct_test / total_test:.2f}%\")\n"
   ]
  },
  {
   "cell_type": "code",
   "execution_count": 13,
   "id": "e275d75b-a0dd-4288-9f07-24db1242e514",
   "metadata": {},
   "outputs": [
    {
     "name": "stdout",
     "output_type": "stream",
     "text": [
      "yellow\n"
     ]
    }
   ],
   "source": [
    "def predict_color(img_path):\n",
    "    model.eval()\n",
    "    img = Image.open(img_path).convert(\"RGB\")\n",
    "    img = transform(img).unsqueeze(0).to(device)\n",
    "    with torch.no_grad():\n",
    "        output = model(img)\n",
    "        _, pred = torch.max(output, 1)\n",
    "    return class_names[pred.item()]\n",
    "\n",
    "# Example:\n",
    "print(predict_color(r\"C:\\Users\\GenITeam\\Desktop\\test7.jpg\"))\n"
   ]
  },
  {
   "cell_type": "code",
   "execution_count": 14,
   "id": "0f7af5b1-5f19-4615-83a7-b4c44f57fec8",
   "metadata": {},
   "outputs": [],
   "source": [
    "torch.save(model.state_dict(), \"car_color_model.pth\")"
   ]
  },
  {
   "cell_type": "code",
   "execution_count": 160,
   "id": "f38c9f12-8981-4ac5-b37e-cfcd25ea4a8b",
   "metadata": {},
   "outputs": [
    {
     "data": {
      "text/plain": [
       "CarColorCNN(\n",
       "  (features): Sequential(\n",
       "    (0): Conv2d(3, 32, kernel_size=(3, 3), stride=(1, 1), padding=(1, 1))\n",
       "    (1): ReLU()\n",
       "    (2): MaxPool2d(kernel_size=2, stride=2, padding=0, dilation=1, ceil_mode=False)\n",
       "    (3): Conv2d(32, 64, kernel_size=(3, 3), stride=(1, 1), padding=(1, 1))\n",
       "    (4): ReLU()\n",
       "    (5): MaxPool2d(kernel_size=2, stride=2, padding=0, dilation=1, ceil_mode=False)\n",
       "    (6): Conv2d(64, 128, kernel_size=(3, 3), stride=(1, 1), padding=(1, 1))\n",
       "    (7): ReLU()\n",
       "    (8): MaxPool2d(kernel_size=2, stride=2, padding=0, dilation=1, ceil_mode=False)\n",
       "  )\n",
       "  (classifier): Sequential(\n",
       "    (0): Flatten(start_dim=1, end_dim=-1)\n",
       "    (1): Linear(in_features=32768, out_features=256, bias=True)\n",
       "    (2): ReLU()\n",
       "    (3): Dropout(p=0.3, inplace=False)\n",
       "    (4): Linear(in_features=256, out_features=15, bias=True)\n",
       "  )\n",
       ")"
      ]
     },
     "execution_count": 160,
     "metadata": {},
     "output_type": "execute_result"
    }
   ],
   "source": [
    "model.load_state_dict(torch.load(\"car_color_model.pth\"))\n",
    "model.eval()"
   ]
  },
  {
   "cell_type": "markdown",
   "id": "fe1f177f-cc25-43b6-b1f6-1891136404da",
   "metadata": {},
   "source": [
    "# testing"
   ]
  },
  {
   "cell_type": "code",
   "execution_count": 15,
   "id": "405d326f-40cd-41fd-ba7d-b11d6aefebd6",
   "metadata": {},
   "outputs": [
    {
     "ename": "ModuleNotFoundError",
     "evalue": "No module named 'paddle'",
     "output_type": "error",
     "traceback": [
      "\u001b[31m---------------------------------------------------------------------------\u001b[39m",
      "\u001b[31mModuleNotFoundError\u001b[39m                       Traceback (most recent call last)",
      "\u001b[36mCell\u001b[39m\u001b[36m \u001b[39m\u001b[32mIn[15]\u001b[39m\u001b[32m, line 9\u001b[39m\n\u001b[32m      7\u001b[39m \u001b[38;5;28;01mimport\u001b[39;00m\u001b[38;5;250m \u001b[39m\u001b[34;01mmatplotlib\u001b[39;00m\u001b[34;01m.\u001b[39;00m\u001b[34;01mpyplot\u001b[39;00m\u001b[38;5;250m \u001b[39m\u001b[38;5;28;01mas\u001b[39;00m\u001b[38;5;250m \u001b[39m\u001b[34;01mplt\u001b[39;00m\n\u001b[32m      8\u001b[39m \u001b[38;5;28;01mimport\u001b[39;00m\u001b[38;5;250m \u001b[39m\u001b[34;01mcsv\u001b[39;00m\n\u001b[32m----> \u001b[39m\u001b[32m9\u001b[39m \u001b[38;5;28;01mfrom\u001b[39;00m\u001b[38;5;250m \u001b[39m\u001b[34;01mpaddleocr\u001b[39;00m\u001b[38;5;250m \u001b[39m\u001b[38;5;28;01mimport\u001b[39;00m PaddleOCR\n\u001b[32m     11\u001b[39m \u001b[38;5;66;03m# ---- CONFIG ----\u001b[39;00m\n\u001b[32m     12\u001b[39m device = torch.device(\u001b[33m\"\u001b[39m\u001b[33mcuda\u001b[39m\u001b[33m\"\u001b[39m \u001b[38;5;28;01mif\u001b[39;00m torch.cuda.is_available() \u001b[38;5;28;01melse\u001b[39;00m \u001b[33m\"\u001b[39m\u001b[33mcpu\u001b[39m\u001b[33m\"\u001b[39m)\n",
      "\u001b[36mFile \u001b[39m\u001b[32m~\\AppData\\Local\\Programs\\Python\\Python313\\Lib\\site-packages\\paddleocr\\__init__.py:14\u001b[39m\n\u001b[32m      1\u001b[39m \u001b[38;5;66;03m# Copyright (c) 2020 PaddlePaddle Authors. All Rights Reserved.\u001b[39;00m\n\u001b[32m      2\u001b[39m \u001b[38;5;66;03m#\u001b[39;00m\n\u001b[32m      3\u001b[39m \u001b[38;5;66;03m# Licensed under the Apache License, Version 2.0 (the \"License\");\u001b[39;00m\n\u001b[32m   (...)\u001b[39m\u001b[32m     12\u001b[39m \u001b[38;5;66;03m# See the License for the specific language governing permissions and\u001b[39;00m\n\u001b[32m     13\u001b[39m \u001b[38;5;66;03m# limitations under the License.\u001b[39;00m\n\u001b[32m---> \u001b[39m\u001b[32m14\u001b[39m \u001b[38;5;28;01mfrom\u001b[39;00m\u001b[38;5;250m \u001b[39m\u001b[34;01m.\u001b[39;00m\u001b[34;01mpaddleocr\u001b[39;00m\u001b[38;5;250m \u001b[39m\u001b[38;5;28;01mimport\u001b[39;00m *\n\u001b[32m     16\u001b[39m __version__ = paddleocr.VERSION\n\u001b[32m     17\u001b[39m __all__ = [\n\u001b[32m     18\u001b[39m     \u001b[33m'\u001b[39m\u001b[33mPaddleOCR\u001b[39m\u001b[33m'\u001b[39m, \u001b[33m'\u001b[39m\u001b[33mPPStructure\u001b[39m\u001b[33m'\u001b[39m, \u001b[33m'\u001b[39m\u001b[33mdraw_ocr\u001b[39m\u001b[33m'\u001b[39m, \u001b[33m'\u001b[39m\u001b[33mdraw_structure_result\u001b[39m\u001b[33m'\u001b[39m,\n\u001b[32m     19\u001b[39m     \u001b[33m'\u001b[39m\u001b[33msave_structure_res\u001b[39m\u001b[33m'\u001b[39m, \u001b[33m'\u001b[39m\u001b[33mdownload_with_progressbar\u001b[39m\u001b[33m'\u001b[39m, \u001b[33m'\u001b[39m\u001b[33msorted_layout_boxes\u001b[39m\u001b[33m'\u001b[39m,\n\u001b[32m     20\u001b[39m     \u001b[33m'\u001b[39m\u001b[33mconvert_info_docx\u001b[39m\u001b[33m'\u001b[39m\n\u001b[32m     21\u001b[39m ]\n",
      "\u001b[36mFile \u001b[39m\u001b[32m~\\AppData\\Local\\Programs\\Python\\Python313\\Lib\\site-packages\\paddleocr\\paddleocr.py:21\u001b[39m\n\u001b[32m     17\u001b[39m \u001b[38;5;28;01mimport\u001b[39;00m\u001b[38;5;250m \u001b[39m\u001b[34;01mimportlib\u001b[39;00m\n\u001b[32m     19\u001b[39m \u001b[34m__dir__\u001b[39m = os.path.dirname(\u001b[34m__file__\u001b[39m)\n\u001b[32m---> \u001b[39m\u001b[32m21\u001b[39m \u001b[38;5;28;01mimport\u001b[39;00m\u001b[38;5;250m \u001b[39m\u001b[34;01mpaddle\u001b[39;00m\n\u001b[32m     23\u001b[39m sys.path.append(os.path.join(\u001b[34m__dir__\u001b[39m, \u001b[33m'\u001b[39m\u001b[33m'\u001b[39m))\n\u001b[32m     25\u001b[39m \u001b[38;5;28;01mimport\u001b[39;00m\u001b[38;5;250m \u001b[39m\u001b[34;01mcv2\u001b[39;00m\n",
      "\u001b[31mModuleNotFoundError\u001b[39m: No module named 'paddle'"
     ]
    }
   ],
   "source": [
    "import cv2\n",
    "import torch\n",
    "import numpy as np\n",
    "from ultralytics import YOLO\n",
    "from torchvision import transforms\n",
    "from PIL import Image\n",
    "import matplotlib.pyplot as plt\n",
    "import csv\n",
    "from paddleocr import PaddleOCR\n",
    "\n",
    "# ---- CONFIG ----\n",
    "device = torch.device(\"cuda\" if torch.cuda.is_available() else \"cpu\")\n",
    "img_path = r\"C:\\Users\\GenITeam\\Desktop\\test7.jpg\"\n",
    "save_csv_path = r\"C:\\Users\\GenITeam\\Desktop\\output2.csv\"\n",
    "def predict_color(img_path):\n",
    "    model.eval()\n",
    "    img = Image.open(img_path).convert(\"RGB\")\n",
    "    img = transform(img).unsqueeze(0).to(device)\n",
    "    with torch.no_grad():\n",
    "        output = model(img)\n",
    "        _, pred = torch.max(output, 1)\n",
    "    return class_names[pred.item()]\n",
    "\n",
    "\n",
    "# ---- LOAD MODELS ----\n",
    "yolo_model = YOLO(r\"C:\\Users\\GenITeam\\Desktop\\Number plates detection\\runs\\detect\\train7\\weights\\best.pt\")\n",
    "model.load_state_dict(torch.load(\"better_CNN_model.pth\", map_location=device))\n",
    "model = model.to(device)\n",
    "model.eval()\n",
    "\n",
    "# ---- OCR SETUP ----\n",
    "ocr = PaddleOCR(\n",
    "    use_textline_orientation=False,\n",
    "    use_doc_unwarping=False\n",
    ")\n",
    "\n",
    "\n",
    "# ---- TRANSFORM FOR CNN ----\n",
    "transform = transforms.Compose([\n",
    "    transforms.Resize((128, 128)),\n",
    "    transforms.ToTensor(),\n",
    "])\n",
    "\n",
    "# ---- LOAD IMAGE ----\n",
    "image = cv2.imread(img_path)\n",
    "original_image = image.copy()\n",
    "\n",
    "\n",
    "# ---- DETECT PLATE ----\n",
    "results = yolo_model(image)[0]\n",
    "print(predict_color(image))\n",
    "# ---- WRITE TO CSV ----\n",
    "with open(save_csv_path, mode='w', newline='', encoding='utf-8') as f:\n",
    "    writer = csv.writer(f)\n",
    "    writer.writerow(['x1', 'y1', 'x2', 'y2', 'Class', 'OCR_Text', 'color'])\n",
    "\n",
    "    for box in results.boxes:\n",
    "        x1, y1, x2, y2 = map(int, box.xyxy[0])\n",
    "        cropped_plate = image[y1:y2, x1:x2]\n",
    "        # --- Show Cropped Plate Image ---\n",
    "        plt.figure(figsize=(4, 3))\n",
    "        plt.imshow(cv2.cvtColor(cropped_plate, cv2.COLOR_BGR2RGB))\n",
    "        plt.title(\"Cropped Number Plate\")\n",
    "        plt.axis(\"off\")\n",
    "        plt.show()\n",
    "\n",
    "\n",
    "        if cropped_plate.size == 0:\n",
    "            continue\n",
    "\n",
    "        # ---- CLASSIFY PLATE ----\n",
    "        plate_pil = Image.fromarray(cv2.cvtColor(cropped_plate, cv2.COLOR_BGR2RGB))\n",
    "        input_tensor = transform(plate_pil).unsqueeze(0).to(device)\n",
    "\n",
    "        with torch.no_grad():\n",
    "            output = model(input_tensor)\n",
    "            pred_idx = torch.argmax(output, dim=1).item()\n",
    "            plate_class = class_names[pred_idx]\n",
    "\n",
    "# ---- OCR TEXT EXTRACTION (latest format fix) ----\n",
    "        ocr_result = ocr.predict(cropped_plate)\n",
    "        \n",
    "        # Get recognized text list safely\n",
    "        plate_texts = ocr_result[0].get(\"rec_texts\", [])\n",
    "        plate_text = \" \".join(t.strip() for t in plate_texts if t.strip())\n",
    "        \n",
    "        # Fallback if no text\n",
    "        if not plate_text:\n",
    "            plate_text = \"N/A\"\n",
    "\n",
    "        print(plate_text)\n",
    "        # ---- SAVE TO CSV ----\n",
    "        writer.writerow([plate_class, plate_text])\n",
    "\n",
    "        # ---- DRAW RESULTS ----\n",
    "        cv2.rectangle(original_image, (x1, y1), (x2, y2), (0, 255, 0), 2)\n",
    "        cv2.putText(original_image, f\"{plate_class}: {plate_text}\", (x1, y1 - 10),\n",
    "                    cv2.FONT_HERSHEY_SIMPLEX, 0.6, (0, 255, 0), 2)\n",
    "\n",
    "# ---- SHOW FINAL IMAGE ----\n",
    "original_image_rgb = cv2.cvtColor(original_image, cv2.COLOR_BGR2RGB)\n",
    "plt.figure(figsize=(12, 7))\n",
    "plt.imshow(original_image_rgb)\n",
    "plt.axis(\"off\")\n",
    "plt.title(\"Detected Number Plates with OCR and Classification\")\n",
    "plt.show()\n",
    "\n",
    "print(f\"[✅] Detection, classification, and OCR complete. CSV saved to:\\n{save_csv_path}\")\n"
   ]
  },
  {
   "cell_type": "code",
   "execution_count": null,
   "id": "25c2014f-4849-4bc7-910e-acef1e481487",
   "metadata": {},
   "outputs": [],
   "source": []
  }
 ],
 "metadata": {
  "kernelspec": {
   "display_name": "Python 3 (ipykernel)",
   "language": "python",
   "name": "python3"
  },
  "language_info": {
   "codemirror_mode": {
    "name": "ipython",
    "version": 3
   },
   "file_extension": ".py",
   "mimetype": "text/x-python",
   "name": "python",
   "nbconvert_exporter": "python",
   "pygments_lexer": "ipython3",
   "version": "3.13.5"
  }
 },
 "nbformat": 4,
 "nbformat_minor": 5
}
